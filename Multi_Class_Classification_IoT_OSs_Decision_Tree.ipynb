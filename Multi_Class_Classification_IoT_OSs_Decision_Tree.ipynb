{
  "cells": [
    {
      "cell_type": "code",
      "execution_count": null,
      "metadata": {
        "id": "QxCK24S0n5St"
      },
      "outputs": [],
      "source": [
        "import pandas as pd\n",
        "from sklearn.feature_extraction.text import TfidfVectorizer\n",
        "from sklearn.preprocessing import FunctionTransformer\n",
        "from sklearn.model_selection import train_test_split\n",
        "from sklearn.ensemble import RandomForestClassifier\n",
        "from sklearn.pipeline import Pipeline\n",
        "from sklearn.model_selection import KFold\n",
        "from sklearn.model_selection import RepeatedKFold\n",
        "import matplotlib.pyplot as plt\n",
        "import numpy as np\n",
        "import re, os\n",
        "import seaborn as sns\n",
        "import nltk\n",
        "from string import printable\n",
        "from sklearn import model_selection\n",
        "from sklearn.metrics import accuracy_score, classification_report\n",
        "from matplotlib import pyplot\n",
        "from pathlib import Path\n",
        "import json\n",
        "import warnings\n",
        "from sklearn.preprocessing import MultiLabelBinarizer\n",
        "from sklearn.model_selection import train_test_split\n",
        "from sklearn.naive_bayes import BernoulliNB\n",
        "from sklearn.metrics import confusion_matrix\n",
        "from sklearn.feature_extraction.text import CountVectorizer\n",
        "from sklearn.naive_bayes import MultinomialNB\n",
        "from sklearn.metrics import precision_score\n",
        "from sklearn.metrics import recall_score\n",
        "from sklearn.metrics import f1_score\n",
        "from nltk.corpus import stopwords\n",
        "from sklearn.metrics import classification_report\n",
        "warnings.filterwarnings(\"ignore\")\n",
        "\n"
      ]
    },
    {
      "cell_type": "code",
      "execution_count": null,
      "metadata": {
        "id": "RYOkzPknn5Sv"
      },
      "outputs": [],
      "source": [
        "# Reading the Finale_Labeled_Dataset\n",
        "Al_Boghdady_Multi_Class_Dataset = pd.read_csv('Al_Boghdady_Multi_Class.csv',encoding = 'unicode_escape')"
      ]
    },
    {
      "cell_type": "code",
      "source": [
        "# Display the first few rows of the dataset\n",
        "print(\"First few rows of the dataset:\")\n",
        "print(Al_Boghdady_Multi_Class_Dataset.head())"
      ],
      "metadata": {
        "colab": {
          "base_uri": "https://localhost:8080/"
        },
        "id": "iIfJfsGYd8D0",
        "outputId": "fb4dd158-4840-475f-8552-e6c58abcf802"
      },
      "execution_count": null,
      "outputs": [
        {
          "output_type": "stream",
          "name": "stdout",
          "text": [
            "First few rows of the dataset:\n",
            "                                                code isMalicious\n",
            "0  void printfUART_buf  ( char *buf ,   int  len ...     CWE-561\n",
            "1  check_opt_size  ( cp_opt_t *opt ,  unsigned ch...     CWE-561\n",
            "2  cp_ft  ( cp_queue_t *queue ,  cp_tid_t id )   ...     CWE-561\n",
            "3  start  ( cp_pdu_t *pdu )   {  if   ( pdu && pd...     CWE-561\n",
            "4  cp_clone_pdu  ( cp_pdu_t *pdu )   {  cp_pdu_t ...     CWE-561\n"
          ]
        }
      ]
    },
    {
      "cell_type": "code",
      "source": [
        "# Display information about the dataset (e.g., column names, data types)\n",
        "print(\"\\nInformation about the dataset:\")\n",
        "print(Al_Boghdady_Multi_Class_Dataset.info())"
      ],
      "metadata": {
        "colab": {
          "base_uri": "https://localhost:8080/"
        },
        "id": "j-oYS2OjeBMZ",
        "outputId": "25a6a268-1822-4e88-8d47-78d45d39cd05"
      },
      "execution_count": null,
      "outputs": [
        {
          "output_type": "stream",
          "name": "stdout",
          "text": [
            "\n",
            "Information about the dataset:\n",
            "<class 'pandas.core.frame.DataFrame'>\n",
            "RangeIndex: 5117 entries, 0 to 5116\n",
            "Data columns (total 2 columns):\n",
            " #   Column       Non-Null Count  Dtype \n",
            "---  ------       --------------  ----- \n",
            " 0   code         5117 non-null   object\n",
            " 1   isMalicious  5117 non-null   object\n",
            "dtypes: object(2)\n",
            "memory usage: 80.1+ KB\n",
            "None\n"
          ]
        }
      ]
    },
    {
      "cell_type": "code",
      "source": [
        "# Check for missing values\n",
        "print(\"\\nMissing values in the dataset:\")\n",
        "print(Al_Boghdady_Multi_Class_Dataset.isnull().sum())"
      ],
      "metadata": {
        "colab": {
          "base_uri": "https://localhost:8080/"
        },
        "id": "Ku1fBRAgeWKM",
        "outputId": "247e09c6-2baf-4098-e2ba-60cade6b4a6c"
      },
      "execution_count": null,
      "outputs": [
        {
          "output_type": "stream",
          "name": "stdout",
          "text": [
            "\n",
            "Missing values in the dataset:\n",
            "code           0\n",
            "isMalicious    0\n",
            "dtype: int64\n"
          ]
        }
      ]
    },
    {
      "cell_type": "code",
      "source": [
        "import plotly.express as px\n",
        "\n",
        "# Create a DataFrame for missing values\n",
        "missing_values_df = Al_Boghdady_Multi_Class_Dataset.isnull().sum().reset_index()\n",
        "missing_values_df.columns = ['Column', 'Missing Values']\n",
        "\n",
        "# Create an interactive bar plot\n",
        "fig = px.bar(missing_values_df, x='Column', y='Missing Values',\n",
        "             title='Missing Values in the Dataset',\n",
        "             labels={'Missing Values': 'Number of Missing Values', 'Column': 'Column Name'})\n",
        "\n",
        "# Customize the layout\n",
        "fig.update_layout(xaxis_title='Column Name', yaxis_title='Number of Missing Values')\n",
        "\n",
        "# Show the interactive plot\n",
        "fig.show()"
      ],
      "metadata": {
        "colab": {
          "base_uri": "https://localhost:8080/",
          "height": 542
        },
        "id": "rjCH-lazVsFx",
        "outputId": "ef0cbf23-5e5e-4367-8054-c901fc8bcf02"
      },
      "execution_count": null,
      "outputs": [
        {
          "output_type": "display_data",
          "data": {
            "text/html": [
              "<html>\n",
              "<head><meta charset=\"utf-8\" /></head>\n",
              "<body>\n",
              "    <div>            <script src=\"https://cdnjs.cloudflare.com/ajax/libs/mathjax/2.7.5/MathJax.js?config=TeX-AMS-MML_SVG\"></script><script type=\"text/javascript\">if (window.MathJax && window.MathJax.Hub && window.MathJax.Hub.Config) {window.MathJax.Hub.Config({SVG: {font: \"STIX-Web\"}});}</script>                <script type=\"text/javascript\">window.PlotlyConfig = {MathJaxConfig: 'local'};</script>\n",
              "        <script charset=\"utf-8\" src=\"https://cdn.plot.ly/plotly-2.24.1.min.js\"></script>                <div id=\"475a8d2c-c6ef-4da7-b3ff-5dd73679acf5\" class=\"plotly-graph-div\" style=\"height:525px; width:100%;\"></div>            <script type=\"text/javascript\">                                    window.PLOTLYENV=window.PLOTLYENV || {};                                    if (document.getElementById(\"475a8d2c-c6ef-4da7-b3ff-5dd73679acf5\")) {                    Plotly.newPlot(                        \"475a8d2c-c6ef-4da7-b3ff-5dd73679acf5\",                        [{\"alignmentgroup\":\"True\",\"hovertemplate\":\"Column Name=%{x}\\u003cbr\\u003eNumber of Missing Values=%{y}\\u003cextra\\u003e\\u003c\\u002fextra\\u003e\",\"legendgroup\":\"\",\"marker\":{\"color\":\"#636efa\",\"pattern\":{\"shape\":\"\"}},\"name\":\"\",\"offsetgroup\":\"\",\"orientation\":\"v\",\"showlegend\":false,\"textposition\":\"auto\",\"x\":[\"code\",\"isMalicious\"],\"xaxis\":\"x\",\"y\":[0,0],\"yaxis\":\"y\",\"type\":\"bar\"}],                        {\"template\":{\"data\":{\"histogram2dcontour\":[{\"type\":\"histogram2dcontour\",\"colorbar\":{\"outlinewidth\":0,\"ticks\":\"\"},\"colorscale\":[[0.0,\"#0d0887\"],[0.1111111111111111,\"#46039f\"],[0.2222222222222222,\"#7201a8\"],[0.3333333333333333,\"#9c179e\"],[0.4444444444444444,\"#bd3786\"],[0.5555555555555556,\"#d8576b\"],[0.6666666666666666,\"#ed7953\"],[0.7777777777777778,\"#fb9f3a\"],[0.8888888888888888,\"#fdca26\"],[1.0,\"#f0f921\"]]}],\"choropleth\":[{\"type\":\"choropleth\",\"colorbar\":{\"outlinewidth\":0,\"ticks\":\"\"}}],\"histogram2d\":[{\"type\":\"histogram2d\",\"colorbar\":{\"outlinewidth\":0,\"ticks\":\"\"},\"colorscale\":[[0.0,\"#0d0887\"],[0.1111111111111111,\"#46039f\"],[0.2222222222222222,\"#7201a8\"],[0.3333333333333333,\"#9c179e\"],[0.4444444444444444,\"#bd3786\"],[0.5555555555555556,\"#d8576b\"],[0.6666666666666666,\"#ed7953\"],[0.7777777777777778,\"#fb9f3a\"],[0.8888888888888888,\"#fdca26\"],[1.0,\"#f0f921\"]]}],\"heatmap\":[{\"type\":\"heatmap\",\"colorbar\":{\"outlinewidth\":0,\"ticks\":\"\"},\"colorscale\":[[0.0,\"#0d0887\"],[0.1111111111111111,\"#46039f\"],[0.2222222222222222,\"#7201a8\"],[0.3333333333333333,\"#9c179e\"],[0.4444444444444444,\"#bd3786\"],[0.5555555555555556,\"#d8576b\"],[0.6666666666666666,\"#ed7953\"],[0.7777777777777778,\"#fb9f3a\"],[0.8888888888888888,\"#fdca26\"],[1.0,\"#f0f921\"]]}],\"heatmapgl\":[{\"type\":\"heatmapgl\",\"colorbar\":{\"outlinewidth\":0,\"ticks\":\"\"},\"colorscale\":[[0.0,\"#0d0887\"],[0.1111111111111111,\"#46039f\"],[0.2222222222222222,\"#7201a8\"],[0.3333333333333333,\"#9c179e\"],[0.4444444444444444,\"#bd3786\"],[0.5555555555555556,\"#d8576b\"],[0.6666666666666666,\"#ed7953\"],[0.7777777777777778,\"#fb9f3a\"],[0.8888888888888888,\"#fdca26\"],[1.0,\"#f0f921\"]]}],\"contourcarpet\":[{\"type\":\"contourcarpet\",\"colorbar\":{\"outlinewidth\":0,\"ticks\":\"\"}}],\"contour\":[{\"type\":\"contour\",\"colorbar\":{\"outlinewidth\":0,\"ticks\":\"\"},\"colorscale\":[[0.0,\"#0d0887\"],[0.1111111111111111,\"#46039f\"],[0.2222222222222222,\"#7201a8\"],[0.3333333333333333,\"#9c179e\"],[0.4444444444444444,\"#bd3786\"],[0.5555555555555556,\"#d8576b\"],[0.6666666666666666,\"#ed7953\"],[0.7777777777777778,\"#fb9f3a\"],[0.8888888888888888,\"#fdca26\"],[1.0,\"#f0f921\"]]}],\"surface\":[{\"type\":\"surface\",\"colorbar\":{\"outlinewidth\":0,\"ticks\":\"\"},\"colorscale\":[[0.0,\"#0d0887\"],[0.1111111111111111,\"#46039f\"],[0.2222222222222222,\"#7201a8\"],[0.3333333333333333,\"#9c179e\"],[0.4444444444444444,\"#bd3786\"],[0.5555555555555556,\"#d8576b\"],[0.6666666666666666,\"#ed7953\"],[0.7777777777777778,\"#fb9f3a\"],[0.8888888888888888,\"#fdca26\"],[1.0,\"#f0f921\"]]}],\"mesh3d\":[{\"type\":\"mesh3d\",\"colorbar\":{\"outlinewidth\":0,\"ticks\":\"\"}}],\"scatter\":[{\"fillpattern\":{\"fillmode\":\"overlay\",\"size\":10,\"solidity\":0.2},\"type\":\"scatter\"}],\"parcoords\":[{\"type\":\"parcoords\",\"line\":{\"colorbar\":{\"outlinewidth\":0,\"ticks\":\"\"}}}],\"scatterpolargl\":[{\"type\":\"scatterpolargl\",\"marker\":{\"colorbar\":{\"outlinewidth\":0,\"ticks\":\"\"}}}],\"bar\":[{\"error_x\":{\"color\":\"#2a3f5f\"},\"error_y\":{\"color\":\"#2a3f5f\"},\"marker\":{\"line\":{\"color\":\"#E5ECF6\",\"width\":0.5},\"pattern\":{\"fillmode\":\"overlay\",\"size\":10,\"solidity\":0.2}},\"type\":\"bar\"}],\"scattergeo\":[{\"type\":\"scattergeo\",\"marker\":{\"colorbar\":{\"outlinewidth\":0,\"ticks\":\"\"}}}],\"scatterpolar\":[{\"type\":\"scatterpolar\",\"marker\":{\"colorbar\":{\"outlinewidth\":0,\"ticks\":\"\"}}}],\"histogram\":[{\"marker\":{\"pattern\":{\"fillmode\":\"overlay\",\"size\":10,\"solidity\":0.2}},\"type\":\"histogram\"}],\"scattergl\":[{\"type\":\"scattergl\",\"marker\":{\"colorbar\":{\"outlinewidth\":0,\"ticks\":\"\"}}}],\"scatter3d\":[{\"type\":\"scatter3d\",\"line\":{\"colorbar\":{\"outlinewidth\":0,\"ticks\":\"\"}},\"marker\":{\"colorbar\":{\"outlinewidth\":0,\"ticks\":\"\"}}}],\"scattermapbox\":[{\"type\":\"scattermapbox\",\"marker\":{\"colorbar\":{\"outlinewidth\":0,\"ticks\":\"\"}}}],\"scatterternary\":[{\"type\":\"scatterternary\",\"marker\":{\"colorbar\":{\"outlinewidth\":0,\"ticks\":\"\"}}}],\"scattercarpet\":[{\"type\":\"scattercarpet\",\"marker\":{\"colorbar\":{\"outlinewidth\":0,\"ticks\":\"\"}}}],\"carpet\":[{\"aaxis\":{\"endlinecolor\":\"#2a3f5f\",\"gridcolor\":\"white\",\"linecolor\":\"white\",\"minorgridcolor\":\"white\",\"startlinecolor\":\"#2a3f5f\"},\"baxis\":{\"endlinecolor\":\"#2a3f5f\",\"gridcolor\":\"white\",\"linecolor\":\"white\",\"minorgridcolor\":\"white\",\"startlinecolor\":\"#2a3f5f\"},\"type\":\"carpet\"}],\"table\":[{\"cells\":{\"fill\":{\"color\":\"#EBF0F8\"},\"line\":{\"color\":\"white\"}},\"header\":{\"fill\":{\"color\":\"#C8D4E3\"},\"line\":{\"color\":\"white\"}},\"type\":\"table\"}],\"barpolar\":[{\"marker\":{\"line\":{\"color\":\"#E5ECF6\",\"width\":0.5},\"pattern\":{\"fillmode\":\"overlay\",\"size\":10,\"solidity\":0.2}},\"type\":\"barpolar\"}],\"pie\":[{\"automargin\":true,\"type\":\"pie\"}]},\"layout\":{\"autotypenumbers\":\"strict\",\"colorway\":[\"#636efa\",\"#EF553B\",\"#00cc96\",\"#ab63fa\",\"#FFA15A\",\"#19d3f3\",\"#FF6692\",\"#B6E880\",\"#FF97FF\",\"#FECB52\"],\"font\":{\"color\":\"#2a3f5f\"},\"hovermode\":\"closest\",\"hoverlabel\":{\"align\":\"left\"},\"paper_bgcolor\":\"white\",\"plot_bgcolor\":\"#E5ECF6\",\"polar\":{\"bgcolor\":\"#E5ECF6\",\"angularaxis\":{\"gridcolor\":\"white\",\"linecolor\":\"white\",\"ticks\":\"\"},\"radialaxis\":{\"gridcolor\":\"white\",\"linecolor\":\"white\",\"ticks\":\"\"}},\"ternary\":{\"bgcolor\":\"#E5ECF6\",\"aaxis\":{\"gridcolor\":\"white\",\"linecolor\":\"white\",\"ticks\":\"\"},\"baxis\":{\"gridcolor\":\"white\",\"linecolor\":\"white\",\"ticks\":\"\"},\"caxis\":{\"gridcolor\":\"white\",\"linecolor\":\"white\",\"ticks\":\"\"}},\"coloraxis\":{\"colorbar\":{\"outlinewidth\":0,\"ticks\":\"\"}},\"colorscale\":{\"sequential\":[[0.0,\"#0d0887\"],[0.1111111111111111,\"#46039f\"],[0.2222222222222222,\"#7201a8\"],[0.3333333333333333,\"#9c179e\"],[0.4444444444444444,\"#bd3786\"],[0.5555555555555556,\"#d8576b\"],[0.6666666666666666,\"#ed7953\"],[0.7777777777777778,\"#fb9f3a\"],[0.8888888888888888,\"#fdca26\"],[1.0,\"#f0f921\"]],\"sequentialminus\":[[0.0,\"#0d0887\"],[0.1111111111111111,\"#46039f\"],[0.2222222222222222,\"#7201a8\"],[0.3333333333333333,\"#9c179e\"],[0.4444444444444444,\"#bd3786\"],[0.5555555555555556,\"#d8576b\"],[0.6666666666666666,\"#ed7953\"],[0.7777777777777778,\"#fb9f3a\"],[0.8888888888888888,\"#fdca26\"],[1.0,\"#f0f921\"]],\"diverging\":[[0,\"#8e0152\"],[0.1,\"#c51b7d\"],[0.2,\"#de77ae\"],[0.3,\"#f1b6da\"],[0.4,\"#fde0ef\"],[0.5,\"#f7f7f7\"],[0.6,\"#e6f5d0\"],[0.7,\"#b8e186\"],[0.8,\"#7fbc41\"],[0.9,\"#4d9221\"],[1,\"#276419\"]]},\"xaxis\":{\"gridcolor\":\"white\",\"linecolor\":\"white\",\"ticks\":\"\",\"title\":{\"standoff\":15},\"zerolinecolor\":\"white\",\"automargin\":true,\"zerolinewidth\":2},\"yaxis\":{\"gridcolor\":\"white\",\"linecolor\":\"white\",\"ticks\":\"\",\"title\":{\"standoff\":15},\"zerolinecolor\":\"white\",\"automargin\":true,\"zerolinewidth\":2},\"scene\":{\"xaxis\":{\"backgroundcolor\":\"#E5ECF6\",\"gridcolor\":\"white\",\"linecolor\":\"white\",\"showbackground\":true,\"ticks\":\"\",\"zerolinecolor\":\"white\",\"gridwidth\":2},\"yaxis\":{\"backgroundcolor\":\"#E5ECF6\",\"gridcolor\":\"white\",\"linecolor\":\"white\",\"showbackground\":true,\"ticks\":\"\",\"zerolinecolor\":\"white\",\"gridwidth\":2},\"zaxis\":{\"backgroundcolor\":\"#E5ECF6\",\"gridcolor\":\"white\",\"linecolor\":\"white\",\"showbackground\":true,\"ticks\":\"\",\"zerolinecolor\":\"white\",\"gridwidth\":2}},\"shapedefaults\":{\"line\":{\"color\":\"#2a3f5f\"}},\"annotationdefaults\":{\"arrowcolor\":\"#2a3f5f\",\"arrowhead\":0,\"arrowwidth\":1},\"geo\":{\"bgcolor\":\"white\",\"landcolor\":\"#E5ECF6\",\"subunitcolor\":\"white\",\"showland\":true,\"showlakes\":true,\"lakecolor\":\"white\"},\"title\":{\"x\":0.05},\"mapbox\":{\"style\":\"light\"}}},\"xaxis\":{\"anchor\":\"y\",\"domain\":[0.0,1.0],\"title\":{\"text\":\"Column Name\"}},\"yaxis\":{\"anchor\":\"x\",\"domain\":[0.0,1.0],\"title\":{\"text\":\"Number of Missing Values\"}},\"legend\":{\"tracegroupgap\":0},\"title\":{\"text\":\"Missing Values in the Dataset\"},\"barmode\":\"relative\"},                        {\"responsive\": true}                    ).then(function(){\n",
              "                            \n",
              "var gd = document.getElementById('475a8d2c-c6ef-4da7-b3ff-5dd73679acf5');\n",
              "var x = new MutationObserver(function (mutations, observer) {{\n",
              "        var display = window.getComputedStyle(gd).display;\n",
              "        if (!display || display === 'none') {{\n",
              "            console.log([gd, 'removed!']);\n",
              "            Plotly.purge(gd);\n",
              "            observer.disconnect();\n",
              "        }}\n",
              "}});\n",
              "\n",
              "// Listen for the removal of the full notebook cells\n",
              "var notebookContainer = gd.closest('#notebook-container');\n",
              "if (notebookContainer) {{\n",
              "    x.observe(notebookContainer, {childList: true});\n",
              "}}\n",
              "\n",
              "// Listen for the clearing of the current output cell\n",
              "var outputEl = gd.closest('.output');\n",
              "if (outputEl) {{\n",
              "    x.observe(outputEl, {childList: true});\n",
              "}}\n",
              "\n",
              "                        })                };                            </script>        </div>\n",
              "</body>\n",
              "</html>"
            ]
          },
          "metadata": {}
        }
      ]
    },
    {
      "cell_type": "code",
      "source": [
        "# Check the distribution of the target variable\n",
        "print(\"\\nDistribution of the target variable:\")\n",
        "print(Al_Boghdady_Multi_Class_Dataset['isMalicious'].value_counts())"
      ],
      "metadata": {
        "colab": {
          "base_uri": "https://localhost:8080/"
        },
        "id": "bBukGVhDec6K",
        "outputId": "1a8b6288-7a35-4dd3-81ae-095f311ca807"
      },
      "execution_count": null,
      "outputs": [
        {
          "output_type": "stream",
          "name": "stdout",
          "text": [
            "\n",
            "Distribution of the target variable:\n",
            "Benign Code    1953\n",
            "CWE-561         237\n",
            "CWE-398         168\n",
            "CWE-119         117\n",
            "CWE-476          77\n",
            "CWE-762          75\n",
            "CWE-807          74\n",
            "CWE-477          74\n",
            "CWE-686          71\n",
            "CWE-672          71\n",
            "CWE-685          70\n",
            "CWE-563          69\n",
            "CWE-190          68\n",
            "CWE-367          67\n",
            "CWE-570          65\n",
            "CWE-126          65\n",
            "CWE-401          65\n",
            "CWE-457          61\n",
            "CWE-475          60\n",
            "CWE-664          58\n",
            "CWE-362          58\n",
            "CWE-120          58\n",
            "CWE-783          57\n",
            "CWE-369          57\n",
            "CWE-20           56\n",
            "CWE-467          56\n",
            "CWE-665          55\n",
            "CWE-786          54\n",
            "CWE-758          54\n",
            "CWE-415          52\n",
            "CWE-676          52\n",
            "CWE-377          51\n",
            "CWE-704          51\n",
            "CWE-78           50\n",
            "CWE-687          48\n",
            "CWE-682          48\n",
            "CWE-327          48\n",
            "CWE-134          47\n",
            "CWE-628          47\n",
            "CWE-768          46\n",
            "CWE-571          46\n",
            "CWE-252          46\n",
            "CWE-244          43\n",
            "CWE-732          40\n",
            "CWE-562          37\n",
            "CWE-788          36\n",
            "CWE-683          31\n",
            "CWE-350          31\n",
            "CWE-775          31\n",
            "CWE-250          30\n",
            "CWE-22           29\n",
            "CWE-785          28\n",
            "CWE-831          28\n",
            "CWE-226          27\n",
            "CWE-829          24\n",
            "Name: isMalicious, dtype: int64\n"
          ]
        }
      ]
    },
    {
      "cell_type": "code",
      "source": [
        "import plotly.express as px\n",
        "\n",
        "# Check the distribution of the target variable\n",
        "target_distribution = Al_Boghdady_Multi_Class_Dataset['isMalicious'].value_counts().reset_index()\n",
        "target_distribution.columns = ['Class', 'Count']\n",
        "\n",
        "# Create an interactive bar plot\n",
        "fig = px.bar(target_distribution, x='Class', y='Count',\n",
        "             title='Distribution of the Target Variable',\n",
        "             labels={'Count': 'Number of Instances', 'Class': 'Malicious Class'},\n",
        "             color='Class')\n",
        "\n",
        "# Customize the layout\n",
        "fig.update_layout(xaxis_title='Malicious Class', yaxis_title='Number of Instances')\n",
        "\n",
        "# Show the interactive plot\n",
        "fig.show()"
      ],
      "metadata": {
        "colab": {
          "base_uri": "https://localhost:8080/",
          "height": 542
        },
        "id": "h2JPT_RAWozv",
        "outputId": "0e885037-218e-41b6-9213-b8eef569c0cc"
      },
      "execution_count": null,
      "outputs": [
        {
          "output_type": "display_data",
          "data": {
            "text/html": [
              "<html>\n",
              "<head><meta charset=\"utf-8\" /></head>\n",
              "<body>\n",
              "    <div>            <script src=\"https://cdnjs.cloudflare.com/ajax/libs/mathjax/2.7.5/MathJax.js?config=TeX-AMS-MML_SVG\"></script><script type=\"text/javascript\">if (window.MathJax && window.MathJax.Hub && window.MathJax.Hub.Config) {window.MathJax.Hub.Config({SVG: {font: \"STIX-Web\"}});}</script>                <script type=\"text/javascript\">window.PlotlyConfig = {MathJaxConfig: 'local'};</script>\n",
              "        <script charset=\"utf-8\" src=\"https://cdn.plot.ly/plotly-2.24.1.min.js\"></script>                <div id=\"ec6ff247-4fcb-446f-acd2-3cb4e2e7398b\" class=\"plotly-graph-div\" style=\"height:525px; width:100%;\"></div>            <script type=\"text/javascript\">                                    window.PLOTLYENV=window.PLOTLYENV || {};                                    if (document.getElementById(\"ec6ff247-4fcb-446f-acd2-3cb4e2e7398b\")) {                    Plotly.newPlot(                        \"ec6ff247-4fcb-446f-acd2-3cb4e2e7398b\",                        [{\"alignmentgroup\":\"True\",\"hovertemplate\":\"Malicious Class=%{x}\\u003cbr\\u003eNumber of Instances=%{y}\\u003cextra\\u003e\\u003c\\u002fextra\\u003e\",\"legendgroup\":\"Benign Code\",\"marker\":{\"color\":\"#636efa\",\"pattern\":{\"shape\":\"\"}},\"name\":\"Benign Code\",\"offsetgroup\":\"Benign Code\",\"orientation\":\"v\",\"showlegend\":true,\"textposition\":\"auto\",\"x\":[\"Benign Code\"],\"xaxis\":\"x\",\"y\":[1953],\"yaxis\":\"y\",\"type\":\"bar\"},{\"alignmentgroup\":\"True\",\"hovertemplate\":\"Malicious Class=%{x}\\u003cbr\\u003eNumber of Instances=%{y}\\u003cextra\\u003e\\u003c\\u002fextra\\u003e\",\"legendgroup\":\"CWE-561\",\"marker\":{\"color\":\"#EF553B\",\"pattern\":{\"shape\":\"\"}},\"name\":\"CWE-561\",\"offsetgroup\":\"CWE-561\",\"orientation\":\"v\",\"showlegend\":true,\"textposition\":\"auto\",\"x\":[\"CWE-561\"],\"xaxis\":\"x\",\"y\":[237],\"yaxis\":\"y\",\"type\":\"bar\"},{\"alignmentgroup\":\"True\",\"hovertemplate\":\"Malicious Class=%{x}\\u003cbr\\u003eNumber of Instances=%{y}\\u003cextra\\u003e\\u003c\\u002fextra\\u003e\",\"legendgroup\":\"CWE-398\",\"marker\":{\"color\":\"#00cc96\",\"pattern\":{\"shape\":\"\"}},\"name\":\"CWE-398\",\"offsetgroup\":\"CWE-398\",\"orientation\":\"v\",\"showlegend\":true,\"textposition\":\"auto\",\"x\":[\"CWE-398\"],\"xaxis\":\"x\",\"y\":[168],\"yaxis\":\"y\",\"type\":\"bar\"},{\"alignmentgroup\":\"True\",\"hovertemplate\":\"Malicious Class=%{x}\\u003cbr\\u003eNumber of Instances=%{y}\\u003cextra\\u003e\\u003c\\u002fextra\\u003e\",\"legendgroup\":\"CWE-119\",\"marker\":{\"color\":\"#ab63fa\",\"pattern\":{\"shape\":\"\"}},\"name\":\"CWE-119\",\"offsetgroup\":\"CWE-119\",\"orientation\":\"v\",\"showlegend\":true,\"textposition\":\"auto\",\"x\":[\"CWE-119\"],\"xaxis\":\"x\",\"y\":[117],\"yaxis\":\"y\",\"type\":\"bar\"},{\"alignmentgroup\":\"True\",\"hovertemplate\":\"Malicious Class=%{x}\\u003cbr\\u003eNumber of Instances=%{y}\\u003cextra\\u003e\\u003c\\u002fextra\\u003e\",\"legendgroup\":\"CWE-476\",\"marker\":{\"color\":\"#FFA15A\",\"pattern\":{\"shape\":\"\"}},\"name\":\"CWE-476\",\"offsetgroup\":\"CWE-476\",\"orientation\":\"v\",\"showlegend\":true,\"textposition\":\"auto\",\"x\":[\"CWE-476\"],\"xaxis\":\"x\",\"y\":[77],\"yaxis\":\"y\",\"type\":\"bar\"},{\"alignmentgroup\":\"True\",\"hovertemplate\":\"Malicious Class=%{x}\\u003cbr\\u003eNumber of Instances=%{y}\\u003cextra\\u003e\\u003c\\u002fextra\\u003e\",\"legendgroup\":\"CWE-762\",\"marker\":{\"color\":\"#19d3f3\",\"pattern\":{\"shape\":\"\"}},\"name\":\"CWE-762\",\"offsetgroup\":\"CWE-762\",\"orientation\":\"v\",\"showlegend\":true,\"textposition\":\"auto\",\"x\":[\"CWE-762\"],\"xaxis\":\"x\",\"y\":[75],\"yaxis\":\"y\",\"type\":\"bar\"},{\"alignmentgroup\":\"True\",\"hovertemplate\":\"Malicious Class=%{x}\\u003cbr\\u003eNumber of Instances=%{y}\\u003cextra\\u003e\\u003c\\u002fextra\\u003e\",\"legendgroup\":\"CWE-807\",\"marker\":{\"color\":\"#FF6692\",\"pattern\":{\"shape\":\"\"}},\"name\":\"CWE-807\",\"offsetgroup\":\"CWE-807\",\"orientation\":\"v\",\"showlegend\":true,\"textposition\":\"auto\",\"x\":[\"CWE-807\"],\"xaxis\":\"x\",\"y\":[74],\"yaxis\":\"y\",\"type\":\"bar\"},{\"alignmentgroup\":\"True\",\"hovertemplate\":\"Malicious Class=%{x}\\u003cbr\\u003eNumber of Instances=%{y}\\u003cextra\\u003e\\u003c\\u002fextra\\u003e\",\"legendgroup\":\"CWE-477\",\"marker\":{\"color\":\"#B6E880\",\"pattern\":{\"shape\":\"\"}},\"name\":\"CWE-477\",\"offsetgroup\":\"CWE-477\",\"orientation\":\"v\",\"showlegend\":true,\"textposition\":\"auto\",\"x\":[\"CWE-477\"],\"xaxis\":\"x\",\"y\":[74],\"yaxis\":\"y\",\"type\":\"bar\"},{\"alignmentgroup\":\"True\",\"hovertemplate\":\"Malicious Class=%{x}\\u003cbr\\u003eNumber of Instances=%{y}\\u003cextra\\u003e\\u003c\\u002fextra\\u003e\",\"legendgroup\":\"CWE-686\",\"marker\":{\"color\":\"#FF97FF\",\"pattern\":{\"shape\":\"\"}},\"name\":\"CWE-686\",\"offsetgroup\":\"CWE-686\",\"orientation\":\"v\",\"showlegend\":true,\"textposition\":\"auto\",\"x\":[\"CWE-686\"],\"xaxis\":\"x\",\"y\":[71],\"yaxis\":\"y\",\"type\":\"bar\"},{\"alignmentgroup\":\"True\",\"hovertemplate\":\"Malicious Class=%{x}\\u003cbr\\u003eNumber of Instances=%{y}\\u003cextra\\u003e\\u003c\\u002fextra\\u003e\",\"legendgroup\":\"CWE-672\",\"marker\":{\"color\":\"#FECB52\",\"pattern\":{\"shape\":\"\"}},\"name\":\"CWE-672\",\"offsetgroup\":\"CWE-672\",\"orientation\":\"v\",\"showlegend\":true,\"textposition\":\"auto\",\"x\":[\"CWE-672\"],\"xaxis\":\"x\",\"y\":[71],\"yaxis\":\"y\",\"type\":\"bar\"},{\"alignmentgroup\":\"True\",\"hovertemplate\":\"Malicious Class=%{x}\\u003cbr\\u003eNumber of Instances=%{y}\\u003cextra\\u003e\\u003c\\u002fextra\\u003e\",\"legendgroup\":\"CWE-685\",\"marker\":{\"color\":\"#636efa\",\"pattern\":{\"shape\":\"\"}},\"name\":\"CWE-685\",\"offsetgroup\":\"CWE-685\",\"orientation\":\"v\",\"showlegend\":true,\"textposition\":\"auto\",\"x\":[\"CWE-685\"],\"xaxis\":\"x\",\"y\":[70],\"yaxis\":\"y\",\"type\":\"bar\"},{\"alignmentgroup\":\"True\",\"hovertemplate\":\"Malicious Class=%{x}\\u003cbr\\u003eNumber of Instances=%{y}\\u003cextra\\u003e\\u003c\\u002fextra\\u003e\",\"legendgroup\":\"CWE-563\",\"marker\":{\"color\":\"#EF553B\",\"pattern\":{\"shape\":\"\"}},\"name\":\"CWE-563\",\"offsetgroup\":\"CWE-563\",\"orientation\":\"v\",\"showlegend\":true,\"textposition\":\"auto\",\"x\":[\"CWE-563\"],\"xaxis\":\"x\",\"y\":[69],\"yaxis\":\"y\",\"type\":\"bar\"},{\"alignmentgroup\":\"True\",\"hovertemplate\":\"Malicious Class=%{x}\\u003cbr\\u003eNumber of Instances=%{y}\\u003cextra\\u003e\\u003c\\u002fextra\\u003e\",\"legendgroup\":\"CWE-190\",\"marker\":{\"color\":\"#00cc96\",\"pattern\":{\"shape\":\"\"}},\"name\":\"CWE-190\",\"offsetgroup\":\"CWE-190\",\"orientation\":\"v\",\"showlegend\":true,\"textposition\":\"auto\",\"x\":[\"CWE-190\"],\"xaxis\":\"x\",\"y\":[68],\"yaxis\":\"y\",\"type\":\"bar\"},{\"alignmentgroup\":\"True\",\"hovertemplate\":\"Malicious Class=%{x}\\u003cbr\\u003eNumber of Instances=%{y}\\u003cextra\\u003e\\u003c\\u002fextra\\u003e\",\"legendgroup\":\"CWE-367\",\"marker\":{\"color\":\"#ab63fa\",\"pattern\":{\"shape\":\"\"}},\"name\":\"CWE-367\",\"offsetgroup\":\"CWE-367\",\"orientation\":\"v\",\"showlegend\":true,\"textposition\":\"auto\",\"x\":[\"CWE-367\"],\"xaxis\":\"x\",\"y\":[67],\"yaxis\":\"y\",\"type\":\"bar\"},{\"alignmentgroup\":\"True\",\"hovertemplate\":\"Malicious Class=%{x}\\u003cbr\\u003eNumber of Instances=%{y}\\u003cextra\\u003e\\u003c\\u002fextra\\u003e\",\"legendgroup\":\"CWE-570\",\"marker\":{\"color\":\"#FFA15A\",\"pattern\":{\"shape\":\"\"}},\"name\":\"CWE-570\",\"offsetgroup\":\"CWE-570\",\"orientation\":\"v\",\"showlegend\":true,\"textposition\":\"auto\",\"x\":[\"CWE-570\"],\"xaxis\":\"x\",\"y\":[65],\"yaxis\":\"y\",\"type\":\"bar\"},{\"alignmentgroup\":\"True\",\"hovertemplate\":\"Malicious Class=%{x}\\u003cbr\\u003eNumber of Instances=%{y}\\u003cextra\\u003e\\u003c\\u002fextra\\u003e\",\"legendgroup\":\"CWE-126\",\"marker\":{\"color\":\"#19d3f3\",\"pattern\":{\"shape\":\"\"}},\"name\":\"CWE-126\",\"offsetgroup\":\"CWE-126\",\"orientation\":\"v\",\"showlegend\":true,\"textposition\":\"auto\",\"x\":[\"CWE-126\"],\"xaxis\":\"x\",\"y\":[65],\"yaxis\":\"y\",\"type\":\"bar\"},{\"alignmentgroup\":\"True\",\"hovertemplate\":\"Malicious Class=%{x}\\u003cbr\\u003eNumber of Instances=%{y}\\u003cextra\\u003e\\u003c\\u002fextra\\u003e\",\"legendgroup\":\"CWE-401\",\"marker\":{\"color\":\"#FF6692\",\"pattern\":{\"shape\":\"\"}},\"name\":\"CWE-401\",\"offsetgroup\":\"CWE-401\",\"orientation\":\"v\",\"showlegend\":true,\"textposition\":\"auto\",\"x\":[\"CWE-401\"],\"xaxis\":\"x\",\"y\":[65],\"yaxis\":\"y\",\"type\":\"bar\"},{\"alignmentgroup\":\"True\",\"hovertemplate\":\"Malicious Class=%{x}\\u003cbr\\u003eNumber of Instances=%{y}\\u003cextra\\u003e\\u003c\\u002fextra\\u003e\",\"legendgroup\":\"CWE-457\",\"marker\":{\"color\":\"#B6E880\",\"pattern\":{\"shape\":\"\"}},\"name\":\"CWE-457\",\"offsetgroup\":\"CWE-457\",\"orientation\":\"v\",\"showlegend\":true,\"textposition\":\"auto\",\"x\":[\"CWE-457\"],\"xaxis\":\"x\",\"y\":[61],\"yaxis\":\"y\",\"type\":\"bar\"},{\"alignmentgroup\":\"True\",\"hovertemplate\":\"Malicious Class=%{x}\\u003cbr\\u003eNumber of Instances=%{y}\\u003cextra\\u003e\\u003c\\u002fextra\\u003e\",\"legendgroup\":\"CWE-475\",\"marker\":{\"color\":\"#FF97FF\",\"pattern\":{\"shape\":\"\"}},\"name\":\"CWE-475\",\"offsetgroup\":\"CWE-475\",\"orientation\":\"v\",\"showlegend\":true,\"textposition\":\"auto\",\"x\":[\"CWE-475\"],\"xaxis\":\"x\",\"y\":[60],\"yaxis\":\"y\",\"type\":\"bar\"},{\"alignmentgroup\":\"True\",\"hovertemplate\":\"Malicious Class=%{x}\\u003cbr\\u003eNumber of Instances=%{y}\\u003cextra\\u003e\\u003c\\u002fextra\\u003e\",\"legendgroup\":\"CWE-664\",\"marker\":{\"color\":\"#FECB52\",\"pattern\":{\"shape\":\"\"}},\"name\":\"CWE-664\",\"offsetgroup\":\"CWE-664\",\"orientation\":\"v\",\"showlegend\":true,\"textposition\":\"auto\",\"x\":[\"CWE-664\"],\"xaxis\":\"x\",\"y\":[58],\"yaxis\":\"y\",\"type\":\"bar\"},{\"alignmentgroup\":\"True\",\"hovertemplate\":\"Malicious Class=%{x}\\u003cbr\\u003eNumber of Instances=%{y}\\u003cextra\\u003e\\u003c\\u002fextra\\u003e\",\"legendgroup\":\"CWE-362\",\"marker\":{\"color\":\"#636efa\",\"pattern\":{\"shape\":\"\"}},\"name\":\"CWE-362\",\"offsetgroup\":\"CWE-362\",\"orientation\":\"v\",\"showlegend\":true,\"textposition\":\"auto\",\"x\":[\"CWE-362\"],\"xaxis\":\"x\",\"y\":[58],\"yaxis\":\"y\",\"type\":\"bar\"},{\"alignmentgroup\":\"True\",\"hovertemplate\":\"Malicious Class=%{x}\\u003cbr\\u003eNumber of Instances=%{y}\\u003cextra\\u003e\\u003c\\u002fextra\\u003e\",\"legendgroup\":\"CWE-120\",\"marker\":{\"color\":\"#EF553B\",\"pattern\":{\"shape\":\"\"}},\"name\":\"CWE-120\",\"offsetgroup\":\"CWE-120\",\"orientation\":\"v\",\"showlegend\":true,\"textposition\":\"auto\",\"x\":[\"CWE-120\"],\"xaxis\":\"x\",\"y\":[58],\"yaxis\":\"y\",\"type\":\"bar\"},{\"alignmentgroup\":\"True\",\"hovertemplate\":\"Malicious Class=%{x}\\u003cbr\\u003eNumber of Instances=%{y}\\u003cextra\\u003e\\u003c\\u002fextra\\u003e\",\"legendgroup\":\"CWE-783\",\"marker\":{\"color\":\"#00cc96\",\"pattern\":{\"shape\":\"\"}},\"name\":\"CWE-783\",\"offsetgroup\":\"CWE-783\",\"orientation\":\"v\",\"showlegend\":true,\"textposition\":\"auto\",\"x\":[\"CWE-783\"],\"xaxis\":\"x\",\"y\":[57],\"yaxis\":\"y\",\"type\":\"bar\"},{\"alignmentgroup\":\"True\",\"hovertemplate\":\"Malicious Class=%{x}\\u003cbr\\u003eNumber of Instances=%{y}\\u003cextra\\u003e\\u003c\\u002fextra\\u003e\",\"legendgroup\":\"CWE-369\",\"marker\":{\"color\":\"#ab63fa\",\"pattern\":{\"shape\":\"\"}},\"name\":\"CWE-369\",\"offsetgroup\":\"CWE-369\",\"orientation\":\"v\",\"showlegend\":true,\"textposition\":\"auto\",\"x\":[\"CWE-369\"],\"xaxis\":\"x\",\"y\":[57],\"yaxis\":\"y\",\"type\":\"bar\"},{\"alignmentgroup\":\"True\",\"hovertemplate\":\"Malicious Class=%{x}\\u003cbr\\u003eNumber of Instances=%{y}\\u003cextra\\u003e\\u003c\\u002fextra\\u003e\",\"legendgroup\":\"CWE-20\",\"marker\":{\"color\":\"#FFA15A\",\"pattern\":{\"shape\":\"\"}},\"name\":\"CWE-20\",\"offsetgroup\":\"CWE-20\",\"orientation\":\"v\",\"showlegend\":true,\"textposition\":\"auto\",\"x\":[\"CWE-20\"],\"xaxis\":\"x\",\"y\":[56],\"yaxis\":\"y\",\"type\":\"bar\"},{\"alignmentgroup\":\"True\",\"hovertemplate\":\"Malicious Class=%{x}\\u003cbr\\u003eNumber of Instances=%{y}\\u003cextra\\u003e\\u003c\\u002fextra\\u003e\",\"legendgroup\":\"CWE-467\",\"marker\":{\"color\":\"#19d3f3\",\"pattern\":{\"shape\":\"\"}},\"name\":\"CWE-467\",\"offsetgroup\":\"CWE-467\",\"orientation\":\"v\",\"showlegend\":true,\"textposition\":\"auto\",\"x\":[\"CWE-467\"],\"xaxis\":\"x\",\"y\":[56],\"yaxis\":\"y\",\"type\":\"bar\"},{\"alignmentgroup\":\"True\",\"hovertemplate\":\"Malicious Class=%{x}\\u003cbr\\u003eNumber of Instances=%{y}\\u003cextra\\u003e\\u003c\\u002fextra\\u003e\",\"legendgroup\":\"CWE-665\",\"marker\":{\"color\":\"#FF6692\",\"pattern\":{\"shape\":\"\"}},\"name\":\"CWE-665\",\"offsetgroup\":\"CWE-665\",\"orientation\":\"v\",\"showlegend\":true,\"textposition\":\"auto\",\"x\":[\"CWE-665\"],\"xaxis\":\"x\",\"y\":[55],\"yaxis\":\"y\",\"type\":\"bar\"},{\"alignmentgroup\":\"True\",\"hovertemplate\":\"Malicious Class=%{x}\\u003cbr\\u003eNumber of Instances=%{y}\\u003cextra\\u003e\\u003c\\u002fextra\\u003e\",\"legendgroup\":\"CWE-786\",\"marker\":{\"color\":\"#B6E880\",\"pattern\":{\"shape\":\"\"}},\"name\":\"CWE-786\",\"offsetgroup\":\"CWE-786\",\"orientation\":\"v\",\"showlegend\":true,\"textposition\":\"auto\",\"x\":[\"CWE-786\"],\"xaxis\":\"x\",\"y\":[54],\"yaxis\":\"y\",\"type\":\"bar\"},{\"alignmentgroup\":\"True\",\"hovertemplate\":\"Malicious Class=%{x}\\u003cbr\\u003eNumber of Instances=%{y}\\u003cextra\\u003e\\u003c\\u002fextra\\u003e\",\"legendgroup\":\"CWE-758\",\"marker\":{\"color\":\"#FF97FF\",\"pattern\":{\"shape\":\"\"}},\"name\":\"CWE-758\",\"offsetgroup\":\"CWE-758\",\"orientation\":\"v\",\"showlegend\":true,\"textposition\":\"auto\",\"x\":[\"CWE-758\"],\"xaxis\":\"x\",\"y\":[54],\"yaxis\":\"y\",\"type\":\"bar\"},{\"alignmentgroup\":\"True\",\"hovertemplate\":\"Malicious Class=%{x}\\u003cbr\\u003eNumber of Instances=%{y}\\u003cextra\\u003e\\u003c\\u002fextra\\u003e\",\"legendgroup\":\"CWE-415\",\"marker\":{\"color\":\"#FECB52\",\"pattern\":{\"shape\":\"\"}},\"name\":\"CWE-415\",\"offsetgroup\":\"CWE-415\",\"orientation\":\"v\",\"showlegend\":true,\"textposition\":\"auto\",\"x\":[\"CWE-415\"],\"xaxis\":\"x\",\"y\":[52],\"yaxis\":\"y\",\"type\":\"bar\"},{\"alignmentgroup\":\"True\",\"hovertemplate\":\"Malicious Class=%{x}\\u003cbr\\u003eNumber of Instances=%{y}\\u003cextra\\u003e\\u003c\\u002fextra\\u003e\",\"legendgroup\":\"CWE-676\",\"marker\":{\"color\":\"#636efa\",\"pattern\":{\"shape\":\"\"}},\"name\":\"CWE-676\",\"offsetgroup\":\"CWE-676\",\"orientation\":\"v\",\"showlegend\":true,\"textposition\":\"auto\",\"x\":[\"CWE-676\"],\"xaxis\":\"x\",\"y\":[52],\"yaxis\":\"y\",\"type\":\"bar\"},{\"alignmentgroup\":\"True\",\"hovertemplate\":\"Malicious Class=%{x}\\u003cbr\\u003eNumber of Instances=%{y}\\u003cextra\\u003e\\u003c\\u002fextra\\u003e\",\"legendgroup\":\"CWE-377\",\"marker\":{\"color\":\"#EF553B\",\"pattern\":{\"shape\":\"\"}},\"name\":\"CWE-377\",\"offsetgroup\":\"CWE-377\",\"orientation\":\"v\",\"showlegend\":true,\"textposition\":\"auto\",\"x\":[\"CWE-377\"],\"xaxis\":\"x\",\"y\":[51],\"yaxis\":\"y\",\"type\":\"bar\"},{\"alignmentgroup\":\"True\",\"hovertemplate\":\"Malicious Class=%{x}\\u003cbr\\u003eNumber of Instances=%{y}\\u003cextra\\u003e\\u003c\\u002fextra\\u003e\",\"legendgroup\":\"CWE-704\",\"marker\":{\"color\":\"#00cc96\",\"pattern\":{\"shape\":\"\"}},\"name\":\"CWE-704\",\"offsetgroup\":\"CWE-704\",\"orientation\":\"v\",\"showlegend\":true,\"textposition\":\"auto\",\"x\":[\"CWE-704\"],\"xaxis\":\"x\",\"y\":[51],\"yaxis\":\"y\",\"type\":\"bar\"},{\"alignmentgroup\":\"True\",\"hovertemplate\":\"Malicious Class=%{x}\\u003cbr\\u003eNumber of Instances=%{y}\\u003cextra\\u003e\\u003c\\u002fextra\\u003e\",\"legendgroup\":\"CWE-78\",\"marker\":{\"color\":\"#ab63fa\",\"pattern\":{\"shape\":\"\"}},\"name\":\"CWE-78\",\"offsetgroup\":\"CWE-78\",\"orientation\":\"v\",\"showlegend\":true,\"textposition\":\"auto\",\"x\":[\"CWE-78\"],\"xaxis\":\"x\",\"y\":[50],\"yaxis\":\"y\",\"type\":\"bar\"},{\"alignmentgroup\":\"True\",\"hovertemplate\":\"Malicious Class=%{x}\\u003cbr\\u003eNumber of Instances=%{y}\\u003cextra\\u003e\\u003c\\u002fextra\\u003e\",\"legendgroup\":\"CWE-687\",\"marker\":{\"color\":\"#FFA15A\",\"pattern\":{\"shape\":\"\"}},\"name\":\"CWE-687\",\"offsetgroup\":\"CWE-687\",\"orientation\":\"v\",\"showlegend\":true,\"textposition\":\"auto\",\"x\":[\"CWE-687\"],\"xaxis\":\"x\",\"y\":[48],\"yaxis\":\"y\",\"type\":\"bar\"},{\"alignmentgroup\":\"True\",\"hovertemplate\":\"Malicious Class=%{x}\\u003cbr\\u003eNumber of Instances=%{y}\\u003cextra\\u003e\\u003c\\u002fextra\\u003e\",\"legendgroup\":\"CWE-682\",\"marker\":{\"color\":\"#19d3f3\",\"pattern\":{\"shape\":\"\"}},\"name\":\"CWE-682\",\"offsetgroup\":\"CWE-682\",\"orientation\":\"v\",\"showlegend\":true,\"textposition\":\"auto\",\"x\":[\"CWE-682\"],\"xaxis\":\"x\",\"y\":[48],\"yaxis\":\"y\",\"type\":\"bar\"},{\"alignmentgroup\":\"True\",\"hovertemplate\":\"Malicious Class=%{x}\\u003cbr\\u003eNumber of Instances=%{y}\\u003cextra\\u003e\\u003c\\u002fextra\\u003e\",\"legendgroup\":\"CWE-327\",\"marker\":{\"color\":\"#FF6692\",\"pattern\":{\"shape\":\"\"}},\"name\":\"CWE-327\",\"offsetgroup\":\"CWE-327\",\"orientation\":\"v\",\"showlegend\":true,\"textposition\":\"auto\",\"x\":[\"CWE-327\"],\"xaxis\":\"x\",\"y\":[48],\"yaxis\":\"y\",\"type\":\"bar\"},{\"alignmentgroup\":\"True\",\"hovertemplate\":\"Malicious Class=%{x}\\u003cbr\\u003eNumber of Instances=%{y}\\u003cextra\\u003e\\u003c\\u002fextra\\u003e\",\"legendgroup\":\"CWE-134\",\"marker\":{\"color\":\"#B6E880\",\"pattern\":{\"shape\":\"\"}},\"name\":\"CWE-134\",\"offsetgroup\":\"CWE-134\",\"orientation\":\"v\",\"showlegend\":true,\"textposition\":\"auto\",\"x\":[\"CWE-134\"],\"xaxis\":\"x\",\"y\":[47],\"yaxis\":\"y\",\"type\":\"bar\"},{\"alignmentgroup\":\"True\",\"hovertemplate\":\"Malicious Class=%{x}\\u003cbr\\u003eNumber of Instances=%{y}\\u003cextra\\u003e\\u003c\\u002fextra\\u003e\",\"legendgroup\":\"CWE-628\",\"marker\":{\"color\":\"#FF97FF\",\"pattern\":{\"shape\":\"\"}},\"name\":\"CWE-628\",\"offsetgroup\":\"CWE-628\",\"orientation\":\"v\",\"showlegend\":true,\"textposition\":\"auto\",\"x\":[\"CWE-628\"],\"xaxis\":\"x\",\"y\":[47],\"yaxis\":\"y\",\"type\":\"bar\"},{\"alignmentgroup\":\"True\",\"hovertemplate\":\"Malicious Class=%{x}\\u003cbr\\u003eNumber of Instances=%{y}\\u003cextra\\u003e\\u003c\\u002fextra\\u003e\",\"legendgroup\":\"CWE-768\",\"marker\":{\"color\":\"#FECB52\",\"pattern\":{\"shape\":\"\"}},\"name\":\"CWE-768\",\"offsetgroup\":\"CWE-768\",\"orientation\":\"v\",\"showlegend\":true,\"textposition\":\"auto\",\"x\":[\"CWE-768\"],\"xaxis\":\"x\",\"y\":[46],\"yaxis\":\"y\",\"type\":\"bar\"},{\"alignmentgroup\":\"True\",\"hovertemplate\":\"Malicious Class=%{x}\\u003cbr\\u003eNumber of Instances=%{y}\\u003cextra\\u003e\\u003c\\u002fextra\\u003e\",\"legendgroup\":\"CWE-571\",\"marker\":{\"color\":\"#636efa\",\"pattern\":{\"shape\":\"\"}},\"name\":\"CWE-571\",\"offsetgroup\":\"CWE-571\",\"orientation\":\"v\",\"showlegend\":true,\"textposition\":\"auto\",\"x\":[\"CWE-571\"],\"xaxis\":\"x\",\"y\":[46],\"yaxis\":\"y\",\"type\":\"bar\"},{\"alignmentgroup\":\"True\",\"hovertemplate\":\"Malicious Class=%{x}\\u003cbr\\u003eNumber of Instances=%{y}\\u003cextra\\u003e\\u003c\\u002fextra\\u003e\",\"legendgroup\":\"CWE-252\",\"marker\":{\"color\":\"#EF553B\",\"pattern\":{\"shape\":\"\"}},\"name\":\"CWE-252\",\"offsetgroup\":\"CWE-252\",\"orientation\":\"v\",\"showlegend\":true,\"textposition\":\"auto\",\"x\":[\"CWE-252\"],\"xaxis\":\"x\",\"y\":[46],\"yaxis\":\"y\",\"type\":\"bar\"},{\"alignmentgroup\":\"True\",\"hovertemplate\":\"Malicious Class=%{x}\\u003cbr\\u003eNumber of Instances=%{y}\\u003cextra\\u003e\\u003c\\u002fextra\\u003e\",\"legendgroup\":\"CWE-244\",\"marker\":{\"color\":\"#00cc96\",\"pattern\":{\"shape\":\"\"}},\"name\":\"CWE-244\",\"offsetgroup\":\"CWE-244\",\"orientation\":\"v\",\"showlegend\":true,\"textposition\":\"auto\",\"x\":[\"CWE-244\"],\"xaxis\":\"x\",\"y\":[43],\"yaxis\":\"y\",\"type\":\"bar\"},{\"alignmentgroup\":\"True\",\"hovertemplate\":\"Malicious Class=%{x}\\u003cbr\\u003eNumber of Instances=%{y}\\u003cextra\\u003e\\u003c\\u002fextra\\u003e\",\"legendgroup\":\"CWE-732\",\"marker\":{\"color\":\"#ab63fa\",\"pattern\":{\"shape\":\"\"}},\"name\":\"CWE-732\",\"offsetgroup\":\"CWE-732\",\"orientation\":\"v\",\"showlegend\":true,\"textposition\":\"auto\",\"x\":[\"CWE-732\"],\"xaxis\":\"x\",\"y\":[40],\"yaxis\":\"y\",\"type\":\"bar\"},{\"alignmentgroup\":\"True\",\"hovertemplate\":\"Malicious Class=%{x}\\u003cbr\\u003eNumber of Instances=%{y}\\u003cextra\\u003e\\u003c\\u002fextra\\u003e\",\"legendgroup\":\"CWE-562\",\"marker\":{\"color\":\"#FFA15A\",\"pattern\":{\"shape\":\"\"}},\"name\":\"CWE-562\",\"offsetgroup\":\"CWE-562\",\"orientation\":\"v\",\"showlegend\":true,\"textposition\":\"auto\",\"x\":[\"CWE-562\"],\"xaxis\":\"x\",\"y\":[37],\"yaxis\":\"y\",\"type\":\"bar\"},{\"alignmentgroup\":\"True\",\"hovertemplate\":\"Malicious Class=%{x}\\u003cbr\\u003eNumber of Instances=%{y}\\u003cextra\\u003e\\u003c\\u002fextra\\u003e\",\"legendgroup\":\"CWE-788\",\"marker\":{\"color\":\"#19d3f3\",\"pattern\":{\"shape\":\"\"}},\"name\":\"CWE-788\",\"offsetgroup\":\"CWE-788\",\"orientation\":\"v\",\"showlegend\":true,\"textposition\":\"auto\",\"x\":[\"CWE-788\"],\"xaxis\":\"x\",\"y\":[36],\"yaxis\":\"y\",\"type\":\"bar\"},{\"alignmentgroup\":\"True\",\"hovertemplate\":\"Malicious Class=%{x}\\u003cbr\\u003eNumber of Instances=%{y}\\u003cextra\\u003e\\u003c\\u002fextra\\u003e\",\"legendgroup\":\"CWE-683\",\"marker\":{\"color\":\"#FF6692\",\"pattern\":{\"shape\":\"\"}},\"name\":\"CWE-683\",\"offsetgroup\":\"CWE-683\",\"orientation\":\"v\",\"showlegend\":true,\"textposition\":\"auto\",\"x\":[\"CWE-683\"],\"xaxis\":\"x\",\"y\":[31],\"yaxis\":\"y\",\"type\":\"bar\"},{\"alignmentgroup\":\"True\",\"hovertemplate\":\"Malicious Class=%{x}\\u003cbr\\u003eNumber of Instances=%{y}\\u003cextra\\u003e\\u003c\\u002fextra\\u003e\",\"legendgroup\":\"CWE-350\",\"marker\":{\"color\":\"#B6E880\",\"pattern\":{\"shape\":\"\"}},\"name\":\"CWE-350\",\"offsetgroup\":\"CWE-350\",\"orientation\":\"v\",\"showlegend\":true,\"textposition\":\"auto\",\"x\":[\"CWE-350\"],\"xaxis\":\"x\",\"y\":[31],\"yaxis\":\"y\",\"type\":\"bar\"},{\"alignmentgroup\":\"True\",\"hovertemplate\":\"Malicious Class=%{x}\\u003cbr\\u003eNumber of Instances=%{y}\\u003cextra\\u003e\\u003c\\u002fextra\\u003e\",\"legendgroup\":\"CWE-775\",\"marker\":{\"color\":\"#FF97FF\",\"pattern\":{\"shape\":\"\"}},\"name\":\"CWE-775\",\"offsetgroup\":\"CWE-775\",\"orientation\":\"v\",\"showlegend\":true,\"textposition\":\"auto\",\"x\":[\"CWE-775\"],\"xaxis\":\"x\",\"y\":[31],\"yaxis\":\"y\",\"type\":\"bar\"},{\"alignmentgroup\":\"True\",\"hovertemplate\":\"Malicious Class=%{x}\\u003cbr\\u003eNumber of Instances=%{y}\\u003cextra\\u003e\\u003c\\u002fextra\\u003e\",\"legendgroup\":\"CWE-250\",\"marker\":{\"color\":\"#FECB52\",\"pattern\":{\"shape\":\"\"}},\"name\":\"CWE-250\",\"offsetgroup\":\"CWE-250\",\"orientation\":\"v\",\"showlegend\":true,\"textposition\":\"auto\",\"x\":[\"CWE-250\"],\"xaxis\":\"x\",\"y\":[30],\"yaxis\":\"y\",\"type\":\"bar\"},{\"alignmentgroup\":\"True\",\"hovertemplate\":\"Malicious Class=%{x}\\u003cbr\\u003eNumber of Instances=%{y}\\u003cextra\\u003e\\u003c\\u002fextra\\u003e\",\"legendgroup\":\"CWE-22\",\"marker\":{\"color\":\"#636efa\",\"pattern\":{\"shape\":\"\"}},\"name\":\"CWE-22\",\"offsetgroup\":\"CWE-22\",\"orientation\":\"v\",\"showlegend\":true,\"textposition\":\"auto\",\"x\":[\"CWE-22\"],\"xaxis\":\"x\",\"y\":[29],\"yaxis\":\"y\",\"type\":\"bar\"},{\"alignmentgroup\":\"True\",\"hovertemplate\":\"Malicious Class=%{x}\\u003cbr\\u003eNumber of Instances=%{y}\\u003cextra\\u003e\\u003c\\u002fextra\\u003e\",\"legendgroup\":\"CWE-785\",\"marker\":{\"color\":\"#EF553B\",\"pattern\":{\"shape\":\"\"}},\"name\":\"CWE-785\",\"offsetgroup\":\"CWE-785\",\"orientation\":\"v\",\"showlegend\":true,\"textposition\":\"auto\",\"x\":[\"CWE-785\"],\"xaxis\":\"x\",\"y\":[28],\"yaxis\":\"y\",\"type\":\"bar\"},{\"alignmentgroup\":\"True\",\"hovertemplate\":\"Malicious Class=%{x}\\u003cbr\\u003eNumber of Instances=%{y}\\u003cextra\\u003e\\u003c\\u002fextra\\u003e\",\"legendgroup\":\"CWE-831\",\"marker\":{\"color\":\"#00cc96\",\"pattern\":{\"shape\":\"\"}},\"name\":\"CWE-831\",\"offsetgroup\":\"CWE-831\",\"orientation\":\"v\",\"showlegend\":true,\"textposition\":\"auto\",\"x\":[\"CWE-831\"],\"xaxis\":\"x\",\"y\":[28],\"yaxis\":\"y\",\"type\":\"bar\"},{\"alignmentgroup\":\"True\",\"hovertemplate\":\"Malicious Class=%{x}\\u003cbr\\u003eNumber of Instances=%{y}\\u003cextra\\u003e\\u003c\\u002fextra\\u003e\",\"legendgroup\":\"CWE-226\",\"marker\":{\"color\":\"#ab63fa\",\"pattern\":{\"shape\":\"\"}},\"name\":\"CWE-226\",\"offsetgroup\":\"CWE-226\",\"orientation\":\"v\",\"showlegend\":true,\"textposition\":\"auto\",\"x\":[\"CWE-226\"],\"xaxis\":\"x\",\"y\":[27],\"yaxis\":\"y\",\"type\":\"bar\"},{\"alignmentgroup\":\"True\",\"hovertemplate\":\"Malicious Class=%{x}\\u003cbr\\u003eNumber of Instances=%{y}\\u003cextra\\u003e\\u003c\\u002fextra\\u003e\",\"legendgroup\":\"CWE-829\",\"marker\":{\"color\":\"#FFA15A\",\"pattern\":{\"shape\":\"\"}},\"name\":\"CWE-829\",\"offsetgroup\":\"CWE-829\",\"orientation\":\"v\",\"showlegend\":true,\"textposition\":\"auto\",\"x\":[\"CWE-829\"],\"xaxis\":\"x\",\"y\":[24],\"yaxis\":\"y\",\"type\":\"bar\"}],                        {\"template\":{\"data\":{\"histogram2dcontour\":[{\"type\":\"histogram2dcontour\",\"colorbar\":{\"outlinewidth\":0,\"ticks\":\"\"},\"colorscale\":[[0.0,\"#0d0887\"],[0.1111111111111111,\"#46039f\"],[0.2222222222222222,\"#7201a8\"],[0.3333333333333333,\"#9c179e\"],[0.4444444444444444,\"#bd3786\"],[0.5555555555555556,\"#d8576b\"],[0.6666666666666666,\"#ed7953\"],[0.7777777777777778,\"#fb9f3a\"],[0.8888888888888888,\"#fdca26\"],[1.0,\"#f0f921\"]]}],\"choropleth\":[{\"type\":\"choropleth\",\"colorbar\":{\"outlinewidth\":0,\"ticks\":\"\"}}],\"histogram2d\":[{\"type\":\"histogram2d\",\"colorbar\":{\"outlinewidth\":0,\"ticks\":\"\"},\"colorscale\":[[0.0,\"#0d0887\"],[0.1111111111111111,\"#46039f\"],[0.2222222222222222,\"#7201a8\"],[0.3333333333333333,\"#9c179e\"],[0.4444444444444444,\"#bd3786\"],[0.5555555555555556,\"#d8576b\"],[0.6666666666666666,\"#ed7953\"],[0.7777777777777778,\"#fb9f3a\"],[0.8888888888888888,\"#fdca26\"],[1.0,\"#f0f921\"]]}],\"heatmap\":[{\"type\":\"heatmap\",\"colorbar\":{\"outlinewidth\":0,\"ticks\":\"\"},\"colorscale\":[[0.0,\"#0d0887\"],[0.1111111111111111,\"#46039f\"],[0.2222222222222222,\"#7201a8\"],[0.3333333333333333,\"#9c179e\"],[0.4444444444444444,\"#bd3786\"],[0.5555555555555556,\"#d8576b\"],[0.6666666666666666,\"#ed7953\"],[0.7777777777777778,\"#fb9f3a\"],[0.8888888888888888,\"#fdca26\"],[1.0,\"#f0f921\"]]}],\"heatmapgl\":[{\"type\":\"heatmapgl\",\"colorbar\":{\"outlinewidth\":0,\"ticks\":\"\"},\"colorscale\":[[0.0,\"#0d0887\"],[0.1111111111111111,\"#46039f\"],[0.2222222222222222,\"#7201a8\"],[0.3333333333333333,\"#9c179e\"],[0.4444444444444444,\"#bd3786\"],[0.5555555555555556,\"#d8576b\"],[0.6666666666666666,\"#ed7953\"],[0.7777777777777778,\"#fb9f3a\"],[0.8888888888888888,\"#fdca26\"],[1.0,\"#f0f921\"]]}],\"contourcarpet\":[{\"type\":\"contourcarpet\",\"colorbar\":{\"outlinewidth\":0,\"ticks\":\"\"}}],\"contour\":[{\"type\":\"contour\",\"colorbar\":{\"outlinewidth\":0,\"ticks\":\"\"},\"colorscale\":[[0.0,\"#0d0887\"],[0.1111111111111111,\"#46039f\"],[0.2222222222222222,\"#7201a8\"],[0.3333333333333333,\"#9c179e\"],[0.4444444444444444,\"#bd3786\"],[0.5555555555555556,\"#d8576b\"],[0.6666666666666666,\"#ed7953\"],[0.7777777777777778,\"#fb9f3a\"],[0.8888888888888888,\"#fdca26\"],[1.0,\"#f0f921\"]]}],\"surface\":[{\"type\":\"surface\",\"colorbar\":{\"outlinewidth\":0,\"ticks\":\"\"},\"colorscale\":[[0.0,\"#0d0887\"],[0.1111111111111111,\"#46039f\"],[0.2222222222222222,\"#7201a8\"],[0.3333333333333333,\"#9c179e\"],[0.4444444444444444,\"#bd3786\"],[0.5555555555555556,\"#d8576b\"],[0.6666666666666666,\"#ed7953\"],[0.7777777777777778,\"#fb9f3a\"],[0.8888888888888888,\"#fdca26\"],[1.0,\"#f0f921\"]]}],\"mesh3d\":[{\"type\":\"mesh3d\",\"colorbar\":{\"outlinewidth\":0,\"ticks\":\"\"}}],\"scatter\":[{\"fillpattern\":{\"fillmode\":\"overlay\",\"size\":10,\"solidity\":0.2},\"type\":\"scatter\"}],\"parcoords\":[{\"type\":\"parcoords\",\"line\":{\"colorbar\":{\"outlinewidth\":0,\"ticks\":\"\"}}}],\"scatterpolargl\":[{\"type\":\"scatterpolargl\",\"marker\":{\"colorbar\":{\"outlinewidth\":0,\"ticks\":\"\"}}}],\"bar\":[{\"error_x\":{\"color\":\"#2a3f5f\"},\"error_y\":{\"color\":\"#2a3f5f\"},\"marker\":{\"line\":{\"color\":\"#E5ECF6\",\"width\":0.5},\"pattern\":{\"fillmode\":\"overlay\",\"size\":10,\"solidity\":0.2}},\"type\":\"bar\"}],\"scattergeo\":[{\"type\":\"scattergeo\",\"marker\":{\"colorbar\":{\"outlinewidth\":0,\"ticks\":\"\"}}}],\"scatterpolar\":[{\"type\":\"scatterpolar\",\"marker\":{\"colorbar\":{\"outlinewidth\":0,\"ticks\":\"\"}}}],\"histogram\":[{\"marker\":{\"pattern\":{\"fillmode\":\"overlay\",\"size\":10,\"solidity\":0.2}},\"type\":\"histogram\"}],\"scattergl\":[{\"type\":\"scattergl\",\"marker\":{\"colorbar\":{\"outlinewidth\":0,\"ticks\":\"\"}}}],\"scatter3d\":[{\"type\":\"scatter3d\",\"line\":{\"colorbar\":{\"outlinewidth\":0,\"ticks\":\"\"}},\"marker\":{\"colorbar\":{\"outlinewidth\":0,\"ticks\":\"\"}}}],\"scattermapbox\":[{\"type\":\"scattermapbox\",\"marker\":{\"colorbar\":{\"outlinewidth\":0,\"ticks\":\"\"}}}],\"scatterternary\":[{\"type\":\"scatterternary\",\"marker\":{\"colorbar\":{\"outlinewidth\":0,\"ticks\":\"\"}}}],\"scattercarpet\":[{\"type\":\"scattercarpet\",\"marker\":{\"colorbar\":{\"outlinewidth\":0,\"ticks\":\"\"}}}],\"carpet\":[{\"aaxis\":{\"endlinecolor\":\"#2a3f5f\",\"gridcolor\":\"white\",\"linecolor\":\"white\",\"minorgridcolor\":\"white\",\"startlinecolor\":\"#2a3f5f\"},\"baxis\":{\"endlinecolor\":\"#2a3f5f\",\"gridcolor\":\"white\",\"linecolor\":\"white\",\"minorgridcolor\":\"white\",\"startlinecolor\":\"#2a3f5f\"},\"type\":\"carpet\"}],\"table\":[{\"cells\":{\"fill\":{\"color\":\"#EBF0F8\"},\"line\":{\"color\":\"white\"}},\"header\":{\"fill\":{\"color\":\"#C8D4E3\"},\"line\":{\"color\":\"white\"}},\"type\":\"table\"}],\"barpolar\":[{\"marker\":{\"line\":{\"color\":\"#E5ECF6\",\"width\":0.5},\"pattern\":{\"fillmode\":\"overlay\",\"size\":10,\"solidity\":0.2}},\"type\":\"barpolar\"}],\"pie\":[{\"automargin\":true,\"type\":\"pie\"}]},\"layout\":{\"autotypenumbers\":\"strict\",\"colorway\":[\"#636efa\",\"#EF553B\",\"#00cc96\",\"#ab63fa\",\"#FFA15A\",\"#19d3f3\",\"#FF6692\",\"#B6E880\",\"#FF97FF\",\"#FECB52\"],\"font\":{\"color\":\"#2a3f5f\"},\"hovermode\":\"closest\",\"hoverlabel\":{\"align\":\"left\"},\"paper_bgcolor\":\"white\",\"plot_bgcolor\":\"#E5ECF6\",\"polar\":{\"bgcolor\":\"#E5ECF6\",\"angularaxis\":{\"gridcolor\":\"white\",\"linecolor\":\"white\",\"ticks\":\"\"},\"radialaxis\":{\"gridcolor\":\"white\",\"linecolor\":\"white\",\"ticks\":\"\"}},\"ternary\":{\"bgcolor\":\"#E5ECF6\",\"aaxis\":{\"gridcolor\":\"white\",\"linecolor\":\"white\",\"ticks\":\"\"},\"baxis\":{\"gridcolor\":\"white\",\"linecolor\":\"white\",\"ticks\":\"\"},\"caxis\":{\"gridcolor\":\"white\",\"linecolor\":\"white\",\"ticks\":\"\"}},\"coloraxis\":{\"colorbar\":{\"outlinewidth\":0,\"ticks\":\"\"}},\"colorscale\":{\"sequential\":[[0.0,\"#0d0887\"],[0.1111111111111111,\"#46039f\"],[0.2222222222222222,\"#7201a8\"],[0.3333333333333333,\"#9c179e\"],[0.4444444444444444,\"#bd3786\"],[0.5555555555555556,\"#d8576b\"],[0.6666666666666666,\"#ed7953\"],[0.7777777777777778,\"#fb9f3a\"],[0.8888888888888888,\"#fdca26\"],[1.0,\"#f0f921\"]],\"sequentialminus\":[[0.0,\"#0d0887\"],[0.1111111111111111,\"#46039f\"],[0.2222222222222222,\"#7201a8\"],[0.3333333333333333,\"#9c179e\"],[0.4444444444444444,\"#bd3786\"],[0.5555555555555556,\"#d8576b\"],[0.6666666666666666,\"#ed7953\"],[0.7777777777777778,\"#fb9f3a\"],[0.8888888888888888,\"#fdca26\"],[1.0,\"#f0f921\"]],\"diverging\":[[0,\"#8e0152\"],[0.1,\"#c51b7d\"],[0.2,\"#de77ae\"],[0.3,\"#f1b6da\"],[0.4,\"#fde0ef\"],[0.5,\"#f7f7f7\"],[0.6,\"#e6f5d0\"],[0.7,\"#b8e186\"],[0.8,\"#7fbc41\"],[0.9,\"#4d9221\"],[1,\"#276419\"]]},\"xaxis\":{\"gridcolor\":\"white\",\"linecolor\":\"white\",\"ticks\":\"\",\"title\":{\"standoff\":15},\"zerolinecolor\":\"white\",\"automargin\":true,\"zerolinewidth\":2},\"yaxis\":{\"gridcolor\":\"white\",\"linecolor\":\"white\",\"ticks\":\"\",\"title\":{\"standoff\":15},\"zerolinecolor\":\"white\",\"automargin\":true,\"zerolinewidth\":2},\"scene\":{\"xaxis\":{\"backgroundcolor\":\"#E5ECF6\",\"gridcolor\":\"white\",\"linecolor\":\"white\",\"showbackground\":true,\"ticks\":\"\",\"zerolinecolor\":\"white\",\"gridwidth\":2},\"yaxis\":{\"backgroundcolor\":\"#E5ECF6\",\"gridcolor\":\"white\",\"linecolor\":\"white\",\"showbackground\":true,\"ticks\":\"\",\"zerolinecolor\":\"white\",\"gridwidth\":2},\"zaxis\":{\"backgroundcolor\":\"#E5ECF6\",\"gridcolor\":\"white\",\"linecolor\":\"white\",\"showbackground\":true,\"ticks\":\"\",\"zerolinecolor\":\"white\",\"gridwidth\":2}},\"shapedefaults\":{\"line\":{\"color\":\"#2a3f5f\"}},\"annotationdefaults\":{\"arrowcolor\":\"#2a3f5f\",\"arrowhead\":0,\"arrowwidth\":1},\"geo\":{\"bgcolor\":\"white\",\"landcolor\":\"#E5ECF6\",\"subunitcolor\":\"white\",\"showland\":true,\"showlakes\":true,\"lakecolor\":\"white\"},\"title\":{\"x\":0.05},\"mapbox\":{\"style\":\"light\"}}},\"xaxis\":{\"anchor\":\"y\",\"domain\":[0.0,1.0],\"title\":{\"text\":\"Malicious Class\"},\"categoryorder\":\"array\",\"categoryarray\":[\"Benign Code\",\"CWE-561\",\"CWE-398\",\"CWE-119\",\"CWE-476\",\"CWE-762\",\"CWE-807\",\"CWE-477\",\"CWE-686\",\"CWE-672\",\"CWE-685\",\"CWE-563\",\"CWE-190\",\"CWE-367\",\"CWE-570\",\"CWE-126\",\"CWE-401\",\"CWE-457\",\"CWE-475\",\"CWE-664\",\"CWE-362\",\"CWE-120\",\"CWE-783\",\"CWE-369\",\"CWE-20\",\"CWE-467\",\"CWE-665\",\"CWE-786\",\"CWE-758\",\"CWE-415\",\"CWE-676\",\"CWE-377\",\"CWE-704\",\"CWE-78\",\"CWE-687\",\"CWE-682\",\"CWE-327\",\"CWE-134\",\"CWE-628\",\"CWE-768\",\"CWE-571\",\"CWE-252\",\"CWE-244\",\"CWE-732\",\"CWE-562\",\"CWE-788\",\"CWE-683\",\"CWE-350\",\"CWE-775\",\"CWE-250\",\"CWE-22\",\"CWE-785\",\"CWE-831\",\"CWE-226\",\"CWE-829\"]},\"yaxis\":{\"anchor\":\"x\",\"domain\":[0.0,1.0],\"title\":{\"text\":\"Number of Instances\"}},\"legend\":{\"title\":{\"text\":\"Malicious Class\"},\"tracegroupgap\":0},\"title\":{\"text\":\"Distribution of the Target Variable\"},\"barmode\":\"relative\"},                        {\"responsive\": true}                    ).then(function(){\n",
              "                            \n",
              "var gd = document.getElementById('ec6ff247-4fcb-446f-acd2-3cb4e2e7398b');\n",
              "var x = new MutationObserver(function (mutations, observer) {{\n",
              "        var display = window.getComputedStyle(gd).display;\n",
              "        if (!display || display === 'none') {{\n",
              "            console.log([gd, 'removed!']);\n",
              "            Plotly.purge(gd);\n",
              "            observer.disconnect();\n",
              "        }}\n",
              "}});\n",
              "\n",
              "// Listen for the removal of the full notebook cells\n",
              "var notebookContainer = gd.closest('#notebook-container');\n",
              "if (notebookContainer) {{\n",
              "    x.observe(notebookContainer, {childList: true});\n",
              "}}\n",
              "\n",
              "// Listen for the clearing of the current output cell\n",
              "var outputEl = gd.closest('.output');\n",
              "if (outputEl) {{\n",
              "    x.observe(outputEl, {childList: true});\n",
              "}}\n",
              "\n",
              "                        })                };                            </script>        </div>\n",
              "</body>\n",
              "</html>"
            ]
          },
          "metadata": {}
        }
      ]
    },
    {
      "cell_type": "code",
      "execution_count": null,
      "metadata": {
        "colab": {
          "base_uri": "https://localhost:8080/"
        },
        "id": "lMjiFeATn5Sv",
        "outputId": "ea3f6978-f7e7-4f69-c826-ab1911d3d091"
      },
      "outputs": [
        {
          "output_type": "execute_result",
          "data": {
            "text/plain": [
              "(5117, 2)"
            ]
          },
          "metadata": {},
          "execution_count": 49
        }
      ],
      "source": [
        "Al_Boghdady_Multi_Class_Dataset.shape"
      ]
    },
    {
      "cell_type": "code",
      "execution_count": null,
      "metadata": {
        "colab": {
          "base_uri": "https://localhost:8080/"
        },
        "id": "7MUTQcban5Sw",
        "outputId": "f0f21978-f826-4870-9db5-6cf2531b5212"
      },
      "outputs": [
        {
          "output_type": "execute_result",
          "data": {
            "text/plain": [
              "(4810, 2)"
            ]
          },
          "metadata": {},
          "execution_count": 50
        }
      ],
      "source": [
        "# Checking for duplicate rows or null values\n",
        "Al_Boghdady_Multi_Class_Dataset.dropna(inplace=True)\n",
        "Al_Boghdady_Multi_Class_Dataset.drop_duplicates(inplace=True)\n",
        "Al_Boghdady_Multi_Class_Dataset.shape"
      ]
    },
    {
      "cell_type": "markdown",
      "source": [
        "# Preprocessing for Machine Learning Classification\n",
        "\n",
        "In the realm of machine learning, classifiers often require input in the form of fixed-length feature vectors. When dealing with unstructured textual data, a common challenge arises: how do we convert this unstructured information into a numerical array that is meaningful for machine learning algorithms?\n",
        "\n",
        "The process of converting unstructured text into a format suitable for machine learning is known as preprocessing. This critical step involves transforming raw textual data into a structured and numerical representation that machine learning models can comprehend and learn from.\n",
        "\n",
        "In our specific context, where the goal is to detect vulnerabilities in IoT operating system source code, preprocessing plays a pivotal role. We are dealing with code snippets written in C/C++, and it's essential to convert this code into a format that can be fed into machine learning classifiers. This ensures that the algorithms can effectively identify patterns and make informed predictions.\n",
        "\n",
        "The subsequent sections will delve into the preprocessing steps undertaken to convert the raw textual data of IoT operating system source code into a feature vector of fixed length. This transformation is integral to the success of our machine learning models, ultimately contributing to the accurate detection of vulnerabilities in the codebase.\n",
        "\n",
        "Understanding and implementing preprocessing steps allow us to bridge the gap between the inherent structure of code and the requirements of machine learning algorithms, facilitating a seamless integration of textual data into the classification pipeline."
      ],
      "metadata": {
        "id": "Q8KU6kDHX_uY"
      }
    },
    {
      "cell_type": "markdown",
      "source": [
        "## Tokenization\n",
        "Tokenization serves as the foundational step in the process of transforming our data into a format suitable for analysis. Particularly crucial in Natural Language Processing (NLP) projects, tokenization involves breaking down each textual \"document,\" in this context, code snippets, into individual character substrings known as tokens.\n",
        "\n",
        "The tokens extracted from the code snippets lay the groundwork for constructing a set of words, commonly referred to as a vocabulary. This vocabulary becomes instrumental in the subsequent vectorization of the text, a process essential for many NLP tasks. While tokenization for regular English text often involves simple separation of words with space characters and punctuation, this approach may have limitations.\n",
        "\n",
        "For datasets like code snippets, advanced tokenization techniques are necessary. Packages such as nltk or spacy offer sophisticated tokenizers that are adept at handling code-related structures and nuances. Implementing a robust tokenization strategy is pivotal for generating a meaningful and comprehensive vocabulary, laying the groundwork for subsequent data analysis and machine learning tasks."
      ],
      "metadata": {
        "id": "o1CHvNjOYFEe"
      }
    },
    {
      "cell_type": "markdown",
      "source": [
        "##Data Split\n",
        "\n",
        "\n",
        "The dataset is split into training and testing sets, with code snippets stored in the variable Code_Snippet and corresponding tags (malicious or benign) in Code_Tag for further analysis and model evaluation."
      ],
      "metadata": {
        "id": "IQWyqMQPYKGW"
      }
    },
    {
      "cell_type": "code",
      "execution_count": null,
      "metadata": {
        "id": "VXPivJJhn5Sy"
      },
      "outputs": [],
      "source": [
        "# Dataset split for training and testing.\n",
        "Code_Snippet, Code_Tag = Al_Boghdady_Multi_Class_Dataset.code, Al_Boghdady_Multi_Class_Dataset.isMalicious"
      ]
    },
    {
      "cell_type": "markdown",
      "source": [
        "##Cleanup\n",
        "In the cleanup phase, eliminate single-character variable names or sequences of the same character (e.g., xxx) for enhanced code readability and maintainability."
      ],
      "metadata": {
        "id": "5LGQRs9QYOxZ"
      }
    },
    {
      "cell_type": "code",
      "execution_count": null,
      "metadata": {
        "id": "JR8Ut6oGn5Sy"
      },
      "outputs": [],
      "source": [
        "# Cleaning-up\n",
        "def preprocess(Code_Snippet):\n",
        "    return pd.Series(Code_Snippet).replace(r'\\b([A-Za-z])\\1+\\b', '', regex=True)\\\n",
        "        .replace(r'\\b[A-Za-z]\\b', '', regex=True)\n",
        "transformer = FunctionTransformer(preprocess)"
      ]
    },
    {
      "cell_type": "markdown",
      "source": [
        "##Term Frequency - Inverse Document Frequency\n",
        "\n",
        "In the context of code analysis, traditional NLP steps like lemmatization or stemming may lead to information loss, given that code is not a \"natural\" language. To preserve the distinctive structure of programming languages and pinpoint key discriminative keywords, we skip lemmatization/stemming and directly proceed to vectorization.\n",
        "\n",
        "Our chosen vectorization method is TF-IDF (term frequency-inverse document frequency), which represents each source code document with an M-sized array. Each element in the array corresponds to the scaled frequency of a token in the document. The TF-IDF factor for a token (i) in a document (d) is computed using the formula:\n",
        "\n",
        "###TF-IDF(i,d)=TF(i,d)×IDF(i)###\n",
        "\n",
        "Here, TF denotes term frequency, and IDF is the inverse document frequency. The IDF factor aims to diminish the weight of tokens that appear frequently across all documents (e.g., common operators like '='), providing a scaled representation that emphasizes tokens with higher information content about the document's nature."
      ],
      "metadata": {
        "id": "I2OlViFvYU9a"
      }
    },
    {
      "cell_type": "code",
      "execution_count": null,
      "metadata": {
        "id": "Li3JabCXn5Sz"
      },
      "outputs": [],
      "source": [
        "token_pattern = r\"\"\"([A-Za-z_]\\w*\\b|[!\\#\\$%\\&\\*\\+:\\-\\./<=>\\?@\\\\\\^_\\|\\~]+|[ \\t\\(\\),;\\{\\}\\[\\]\"'`])\"\"\"\n",
        "vectorizer = TfidfVectorizer(token_pattern=token_pattern, max_features=3000)\n",
        "Code_Snippet_train, Code_Snippet_test, Code_Tag_train, Code_Tag_test = train_test_split(Code_Snippet, Code_Tag, test_size=0.15, shuffle=True)\n"
      ]
    },
    {
      "cell_type": "markdown",
      "metadata": {
        "id": "VGHEw4sYn5Sz"
      },
      "source": [
        "In the above cell, a custom token pattern is defined using a regular expression (token_pattern) to capture relevant elements in the source code. The TF-IDF vectorization is then applied using Scikit-learn's TfidfVectorizer. Additionally, the parameter max_features is employed to restrict the features to the top 3000 tokens based on their term frequency across the corpus. This strategic use of max_features aims to enhance computational efficiency, mitigate overfitting, and streamline the feature set for improved model performance. The dataset is subsequently split into training and testing sets using train_test_split."
      ]
    },
    {
      "cell_type": "markdown",
      "source": [
        "#Classification using Gradient Boosting:\n",
        "\n",
        "Here, we leverage the power of Gradient Boosting, a robust ensemble learning technique, for the classification of source code. A pipeline comprising preprocessing, TF-IDF vectorization, and a Gradient Boosting Classifier is established to effectively capture and classify the distinctive features of code snippets.\n",
        "\n",
        "Utilizing a Gradient Boosting Classifier, our approach to source code classification involves a comprehensive pipeline encompassing preprocessing, TF-IDF vectorization, and the classifier itself. The integration of optimal hyperparameters, such as the number of estimators, learning rate, and maximum depth, has been meticulously tuned for enhanced model accuracy.\n",
        "\n",
        "After setting the parameters, the pipeline is fitted to the training data (Code_Snippet_train, Code_Tag_train). The accuracy of the trained model is then evaluated on the testing set (Code_Snippet_test, Code_Tag_test), yielding an accuracy score of approximately 94.6%. This result indicates the model's effectiveness in correctly classifying source code snippets into their respective categories."
      ],
      "metadata": {
        "id": "fIWwRB9vYfxz"
      }
    },
    {
      "cell_type": "code",
      "source": [
        "from sklearn.tree import DecisionTreeClassifier\n",
        "\n",
        "# Defining the Training Model Classifier for Multi-Class Classification\n",
        "clf_dt = DecisionTreeClassifier()\n",
        "\n",
        "pipe_DT = Pipeline([\n",
        "   ('preprocessing', transformer),\n",
        "   ('vectorizer', vectorizer),\n",
        "   ('clf', clf_dt)\n",
        "])\n",
        "\n",
        "# Setting of the best parameters (for Decision Tree)\n",
        "best_params_dt = {\n",
        "    'clf__criterion': 'gini',\n",
        "    'clf__splitter': 'best',\n",
        "    'clf__min_samples_split': 3,\n",
        "    'clf__max_features': 'sqrt'\n",
        "}\n",
        "\n",
        "pipe_DT.set_params(**best_params_dt)\n",
        "\n",
        "# Fitting\n",
        "pipe_DT.fit(Code_Snippet_train, Code_Tag_train)\n",
        "\n",
        "# Evaluation of the training model\n",
        "print(f'Accuracy: {pipe_DT.score(Code_Snippet_test, Code_Tag_test)}')"
      ],
      "metadata": {
        "colab": {
          "base_uri": "https://localhost:8080/"
        },
        "id": "cSmQ45lBusqa",
        "outputId": "cc0a60d5-31dd-424e-b0a6-82bcd76a7e7e"
      },
      "execution_count": null,
      "outputs": [
        {
          "output_type": "stream",
          "name": "stdout",
          "text": [
            "Accuracy: 0.871191135734072\n"
          ]
        }
      ]
    },
    {
      "cell_type": "code",
      "source": [
        "pred = pipe_DT.predict(Code_Snippet_test)\n",
        "pred"
      ],
      "metadata": {
        "colab": {
          "base_uri": "https://localhost:8080/"
        },
        "id": "KmgtgaGVusoJ",
        "outputId": "838e6810-9858-4d62-bd35-ec064250d902"
      },
      "execution_count": null,
      "outputs": [
        {
          "output_type": "execute_result",
          "data": {
            "text/plain": [
              "array(['CWE-477', 'Benign Code', 'Benign Code', 'CWE-561', 'CWE-762',\n",
              "       'CWE-367', 'CWE-120', 'Benign Code', 'CWE-563', 'Benign Code',\n",
              "       'CWE-415', 'CWE-762', 'Benign Code', 'CWE-807', 'CWE-758',\n",
              "       'CWE-20', 'CWE-775', 'Benign Code', 'CWE-686', 'CWE-190',\n",
              "       'CWE-561', 'CWE-362', 'Benign Code', 'CWE-467', 'Benign Code',\n",
              "       'CWE-665', 'CWE-369', 'CWE-377', 'CWE-401', 'CWE-665',\n",
              "       'Benign Code', 'CWE-119', 'Benign Code', 'CWE-120', 'Benign Code',\n",
              "       'Benign Code', 'CWE-570', 'Benign Code', 'CWE-190', 'CWE-685',\n",
              "       'Benign Code', 'CWE-457', 'Benign Code', 'Benign Code', 'CWE-78',\n",
              "       'CWE-762', 'CWE-563', 'CWE-398', 'CWE-758', 'Benign Code',\n",
              "       'Benign Code', 'CWE-686', 'Benign Code', 'CWE-685', 'Benign Code',\n",
              "       'CWE-252', 'CWE-571', 'Benign Code', 'Benign Code', 'Benign Code',\n",
              "       'Benign Code', 'CWE-119', 'CWE-562', 'CWE-377', 'CWE-664',\n",
              "       'CWE-252', 'Benign Code', 'Benign Code', 'CWE-628', 'Benign Code',\n",
              "       'Benign Code', 'Benign Code', 'CWE-120', 'Benign Code',\n",
              "       'Benign Code', 'CWE-126', 'CWE-476', 'CWE-682', 'CWE-768',\n",
              "       'Benign Code', 'CWE-369', 'Benign Code', 'CWE-190', 'Benign Code',\n",
              "       'CWE-682', 'Benign Code', 'CWE-369', 'Benign Code', 'CWE-401',\n",
              "       'CWE-785', 'Benign Code', 'CWE-783', 'Benign Code', 'Benign Code',\n",
              "       'CWE-398', 'Benign Code', 'CWE-563', 'CWE-561', 'Benign Code',\n",
              "       'CWE-369', 'CWE-477', 'CWE-362', 'CWE-687', 'Benign Code',\n",
              "       'CWE-369', 'CWE-561', 'CWE-398', 'CWE-126', 'CWE-664', 'CWE-457',\n",
              "       'Benign Code', 'CWE-252', 'CWE-807', 'Benign Code', 'CWE-477',\n",
              "       'CWE-20', 'CWE-686', 'Benign Code', 'CWE-190', 'Benign Code',\n",
              "       'CWE-563', 'CWE-762', 'CWE-457', 'Benign Code', 'Benign Code',\n",
              "       'CWE-134', 'Benign Code', 'CWE-831', 'CWE-467', 'CWE-786',\n",
              "       'Benign Code', 'CWE-476', 'Benign Code', 'Benign Code',\n",
              "       'Benign Code', 'Benign Code', 'CWE-120', 'Benign Code', 'CWE-571',\n",
              "       'CWE-685', 'CWE-686', 'CWE-570', 'CWE-250', 'Benign Code',\n",
              "       'CWE-476', 'CWE-831', 'CWE-477', 'CWE-783', 'Benign Code',\n",
              "       'CWE-475', 'CWE-786', 'Benign Code', 'CWE-398', 'Benign Code',\n",
              "       'Benign Code', 'Benign Code', 'Benign Code', 'CWE-686', 'CWE-126',\n",
              "       'CWE-775', 'CWE-134', 'Benign Code', 'CWE-467', 'Benign Code',\n",
              "       'Benign Code', 'CWE-369', 'CWE-676', 'CWE-686', 'Benign Code',\n",
              "       'CWE-732', 'Benign Code', 'CWE-119', 'Benign Code', 'CWE-190',\n",
              "       'CWE-457', 'CWE-561', 'Benign Code', 'Benign Code', 'CWE-768',\n",
              "       'CWE-783', 'Benign Code', 'CWE-676', 'Benign Code', 'CWE-477',\n",
              "       'Benign Code', 'CWE-367', 'Benign Code', 'Benign Code', 'CWE-672',\n",
              "       'Benign Code', 'CWE-226', 'Benign Code', 'CWE-190', 'CWE-457',\n",
              "       'Benign Code', 'CWE-477', 'CWE-415', 'Benign Code', 'Benign Code',\n",
              "       'CWE-807', 'Benign Code', 'CWE-570', 'Benign Code', 'CWE-783',\n",
              "       'CWE-685', 'CWE-786', 'CWE-250', 'Benign Code', 'CWE-367',\n",
              "       'Benign Code', 'CWE-252', 'Benign Code', 'CWE-467', 'Benign Code',\n",
              "       'Benign Code', 'CWE-119', 'CWE-226', 'CWE-20', 'Benign Code',\n",
              "       'CWE-570', 'Benign Code', 'Benign Code', 'Benign Code', 'CWE-252',\n",
              "       'Benign Code', 'CWE-672', 'Benign Code', 'CWE-682', 'CWE-783',\n",
              "       'CWE-807', 'CWE-563', 'CWE-762', 'CWE-457', 'CWE-244', 'CWE-226',\n",
              "       'CWE-785', 'CWE-665', 'CWE-628', 'Benign Code', 'CWE-686',\n",
              "       'Benign Code', 'CWE-119', 'Benign Code', 'CWE-561', 'CWE-571',\n",
              "       'CWE-327', 'CWE-665', 'Benign Code', 'CWE-126', 'Benign Code',\n",
              "       'CWE-732', 'Benign Code', 'CWE-570', 'Benign Code', 'CWE-775',\n",
              "       'CWE-570', 'Benign Code', 'CWE-475', 'Benign Code', 'CWE-831',\n",
              "       'CWE-561', 'Benign Code', 'Benign Code', 'CWE-350', 'CWE-628',\n",
              "       'Benign Code', 'CWE-190', 'CWE-561', 'Benign Code', 'Benign Code',\n",
              "       'CWE-377', 'CWE-788', 'Benign Code', 'CWE-78', 'CWE-785',\n",
              "       'CWE-415', 'CWE-476', 'CWE-250', 'CWE-190', 'CWE-561', 'CWE-785',\n",
              "       'CWE-398', 'CWE-561', 'CWE-78', 'CWE-244', 'Benign Code',\n",
              "       'Benign Code', 'CWE-704', 'Benign Code', 'CWE-676', 'CWE-327',\n",
              "       'CWE-665', 'Benign Code', 'Benign Code', 'CWE-244', 'CWE-134',\n",
              "       'CWE-401', 'CWE-78', 'CWE-369', 'CWE-377', 'CWE-628', 'CWE-570',\n",
              "       'CWE-704', 'CWE-367', 'CWE-665', 'CWE-672', 'Benign Code',\n",
              "       'Benign Code', 'Benign Code', 'Benign Code', 'CWE-415', 'CWE-685',\n",
              "       'CWE-563', 'CWE-758', 'CWE-401', 'CWE-788', 'CWE-476', 'CWE-252',\n",
              "       'CWE-190', 'CWE-190', 'CWE-672', 'Benign Code', 'CWE-732',\n",
              "       'CWE-628', 'Benign Code', 'CWE-244', 'Benign Code', 'Benign Code',\n",
              "       'CWE-119', 'CWE-563', 'CWE-786', 'CWE-362', 'CWE-758',\n",
              "       'Benign Code', 'CWE-244', 'CWE-682', 'Benign Code', 'CWE-477',\n",
              "       'CWE-561', 'CWE-377', 'CWE-665', 'CWE-252', 'CWE-398', 'CWE-783',\n",
              "       'CWE-664', 'CWE-119', 'CWE-398', 'CWE-807', 'CWE-398', 'CWE-672',\n",
              "       'Benign Code', 'CWE-571', 'CWE-398', 'Benign Code', 'CWE-686',\n",
              "       'Benign Code', 'CWE-457', 'Benign Code', 'CWE-327', 'CWE-476',\n",
              "       'CWE-758', 'CWE-562', 'Benign Code', 'Benign Code', 'CWE-570',\n",
              "       'Benign Code', 'CWE-570', 'Benign Code', 'CWE-398', 'Benign Code',\n",
              "       'CWE-664', 'Benign Code', 'Benign Code', 'Benign Code', 'CWE-398',\n",
              "       'Benign Code', 'CWE-327', 'Benign Code', 'Benign Code',\n",
              "       'Benign Code', 'CWE-252', 'CWE-664', 'CWE-119', 'Benign Code',\n",
              "       'Benign Code', 'CWE-562', 'CWE-350', 'CWE-768', 'Benign Code',\n",
              "       'Benign Code', 'CWE-786', 'Benign Code', 'Benign Code',\n",
              "       'Benign Code', 'CWE-685', 'Benign Code', 'CWE-415', 'CWE-676',\n",
              "       'Benign Code', 'CWE-783', 'Benign Code', 'Benign Code', 'CWE-672',\n",
              "       'Benign Code', 'CWE-119', 'CWE-561', 'Benign Code', 'Benign Code',\n",
              "       'CWE-563', 'Benign Code', 'CWE-126', 'Benign Code', 'Benign Code',\n",
              "       'CWE-350', 'CWE-676', 'Benign Code', 'CWE-676', 'CWE-415',\n",
              "       'Benign Code', 'CWE-768', 'Benign Code', 'CWE-467', 'Benign Code',\n",
              "       'Benign Code', 'CWE-20', 'CWE-570', 'Benign Code', 'CWE-476',\n",
              "       'CWE-190', 'CWE-788', 'Benign Code', 'CWE-350', 'CWE-134',\n",
              "       'CWE-561', 'CWE-672', 'Benign Code', 'Benign Code', 'Benign Code',\n",
              "       'CWE-367', 'CWE-665', 'CWE-732', 'Benign Code', 'CWE-362',\n",
              "       'Benign Code', 'Benign Code', 'Benign Code', 'Benign Code',\n",
              "       'Benign Code', 'CWE-476', 'CWE-467', 'CWE-250', 'CWE-807',\n",
              "       'CWE-628', 'CWE-682', 'CWE-562', 'Benign Code', 'Benign Code',\n",
              "       'CWE-457', 'CWE-704', 'Benign Code', 'CWE-561', 'Benign Code',\n",
              "       'CWE-134', 'CWE-252', 'CWE-758', 'Benign Code', 'CWE-704',\n",
              "       'CWE-732', 'Benign Code', 'CWE-134', 'Benign Code', 'CWE-377',\n",
              "       'CWE-477', 'CWE-732', 'Benign Code', 'CWE-831', 'CWE-561',\n",
              "       'CWE-672', 'CWE-120', 'CWE-788', 'CWE-190', 'Benign Code',\n",
              "       'CWE-807', 'CWE-377', 'CWE-398', 'CWE-119', 'CWE-467',\n",
              "       'Benign Code', 'CWE-457', 'CWE-20', 'CWE-475', 'CWE-134',\n",
              "       'CWE-807', 'CWE-687', 'CWE-119', 'Benign Code', 'Benign Code',\n",
              "       'CWE-562', 'CWE-561', 'Benign Code', 'CWE-477', 'CWE-664',\n",
              "       'Benign Code', 'CWE-664', 'CWE-467', 'CWE-561', 'CWE-190',\n",
              "       'CWE-571', 'CWE-807', 'Benign Code', 'Benign Code', 'CWE-676',\n",
              "       'CWE-762', 'Benign Code', 'Benign Code', 'Benign Code', 'CWE-190',\n",
              "       'CWE-457', 'Benign Code', 'Benign Code', 'Benign Code', 'CWE-665',\n",
              "       'Benign Code', 'CWE-327', 'CWE-664', 'Benign Code', 'CWE-415',\n",
              "       'CWE-788', 'Benign Code', 'CWE-120', 'CWE-831', 'CWE-398',\n",
              "       'CWE-682', 'CWE-628', 'Benign Code', 'CWE-563', 'Benign Code',\n",
              "       'Benign Code', 'CWE-685', 'CWE-476', 'CWE-571', 'CWE-829',\n",
              "       'Benign Code', 'CWE-327', 'CWE-398', 'Benign Code', 'Benign Code',\n",
              "       'CWE-807', 'CWE-252', 'Benign Code', 'CWE-327', 'CWE-685',\n",
              "       'CWE-561', 'CWE-786', 'CWE-398', 'Benign Code', 'CWE-20',\n",
              "       'CWE-682', 'Benign Code', 'Benign Code', 'Benign Code',\n",
              "       'Benign Code', 'CWE-134', 'CWE-571', 'CWE-768', 'Benign Code',\n",
              "       'Benign Code', 'CWE-401', 'CWE-477', 'CWE-120', 'CWE-362',\n",
              "       'Benign Code', 'CWE-732', 'Benign Code', 'Benign Code', 'CWE-563',\n",
              "       'CWE-415', 'CWE-377', 'CWE-561', 'CWE-377', 'CWE-561', 'CWE-22',\n",
              "       'CWE-664', 'Benign Code', 'Benign Code', 'CWE-687', 'Benign Code',\n",
              "       'Benign Code', 'Benign Code', 'CWE-672', 'CWE-562', 'Benign Code',\n",
              "       'CWE-475', 'CWE-704', 'CWE-190', 'Benign Code', 'CWE-477',\n",
              "       'Benign Code', 'CWE-686', 'Benign Code', 'Benign Code', 'CWE-252',\n",
              "       'Benign Code', 'CWE-807', 'CWE-377', 'CWE-561', 'Benign Code',\n",
              "       'CWE-788', 'CWE-190', 'CWE-398', 'CWE-401', 'CWE-398',\n",
              "       'Benign Code', 'Benign Code', 'Benign Code', 'Benign Code',\n",
              "       'CWE-672', 'CWE-398', 'CWE-561', 'CWE-327', 'CWE-685',\n",
              "       'Benign Code', 'Benign Code', 'Benign Code', 'CWE-22',\n",
              "       'Benign Code', 'CWE-628', 'Benign Code', 'CWE-134', 'Benign Code',\n",
              "       'Benign Code', 'CWE-758', 'CWE-457', 'CWE-561', 'Benign Code',\n",
              "       'Benign Code', 'Benign Code', 'CWE-704', 'CWE-686', 'CWE-226',\n",
              "       'CWE-672', 'CWE-682', 'CWE-685', 'CWE-563', 'CWE-786', 'CWE-475',\n",
              "       'CWE-467', 'Benign Code', 'CWE-561', 'CWE-20', 'CWE-785',\n",
              "       'CWE-561', 'Benign Code', 'Benign Code', 'CWE-78', 'CWE-20',\n",
              "       'CWE-783', 'CWE-252', 'CWE-467', 'CWE-398', 'Benign Code',\n",
              "       'CWE-350', 'CWE-768', 'Benign Code', 'Benign Code', 'CWE-561',\n",
              "       'Benign Code', 'CWE-457', 'CWE-78', 'Benign Code', 'Benign Code',\n",
              "       'CWE-672', 'CWE-783', 'CWE-762', 'CWE-401', 'CWE-562', 'CWE-398',\n",
              "       'Benign Code', 'Benign Code', 'CWE-562', 'CWE-119', 'CWE-126',\n",
              "       'Benign Code', 'CWE-119', 'Benign Code', 'CWE-244', 'CWE-563',\n",
              "       'Benign Code', 'CWE-785', 'CWE-119', 'Benign Code', 'CWE-398',\n",
              "       'Benign Code', 'Benign Code', 'CWE-398', 'CWE-477', 'CWE-561',\n",
              "       'CWE-562', 'CWE-562', 'CWE-476', 'Benign Code', 'CWE-475',\n",
              "       'Benign Code', 'CWE-570', 'CWE-561', 'CWE-20', 'CWE-20', 'CWE-477',\n",
              "       'CWE-467', 'CWE-775', 'Benign Code', 'Benign Code', 'CWE-685',\n",
              "       'Benign Code', 'CWE-562', 'CWE-664', 'Benign Code', 'CWE-475',\n",
              "       'CWE-571', 'CWE-571', 'Benign Code', 'CWE-476'], dtype=object)"
            ]
          },
          "metadata": {},
          "execution_count": 55
        }
      ]
    },
    {
      "cell_type": "code",
      "source": [
        "Al_Boghdady_Multi_Class_Dataset.shape\n",
        "Code_Snippet_Features = Al_Boghdady_Multi_Class_Dataset.code\n",
        "Code_Snippet_Tags = Al_Boghdady_Multi_Class_Dataset.isMalicious"
      ],
      "metadata": {
        "id": "97gLAJANve_m"
      },
      "execution_count": null,
      "outputs": []
    },
    {
      "cell_type": "markdown",
      "source": [
        "Below, we utilized a Decision Tree Classifier for multi-class classification, employing a K-Fold cross-validator with 20 splits to assess the model's performance across different subsets of the dataset. Each iteration involved training the classifier on one set and evaluating its accuracy on another. The results showcase the accuracy achieved in each fold, demonstrating the model's consistency and effectiveness.\n",
        "\n",
        "The individual accuracy scores varied between approximately 85.1% and 92.9%, with a mean accuracy of 88.6%. The visual representation of K-Fold cross-validation results is presented in the plotted graph, providing a comprehensive view of the model's performance across different splits.\n",
        "\n",
        "These outcomes illustrate the effectiveness of the Decision Tree model in classifying source code snippets. The mean accuracy serves as a reliable indicator of its overall performance, indicating the model's capability in accurately categorizing code into various classes, contributing to the broader goals of the project."
      ],
      "metadata": {
        "id": "uK1zDNcgY5Wg"
      }
    },
    {
      "cell_type": "code",
      "source": [
        "# Decision Tree Training Model for Multi-Class Classification\n",
        "Scores_dt = []\n",
        "x_dt = [i for i in range(1, 21)]\n",
        "kf = KFold(n_splits=20, random_state=None, shuffle=True)\n",
        "\n",
        "for train_index, test_index in kf.split(Code_Snippet_Features):\n",
        "    Code_Snippet_train, Code_Snippet_test = Code_Snippet_Features.iloc[train_index], Code_Snippet_Features.iloc[test_index]\n",
        "    Code_Tag_train, Code_Tag_test = Code_Snippet_Tags.iloc[train_index], Code_Snippet_Tags.iloc[test_index]\n",
        "\n",
        "    clf_dt = DecisionTreeClassifier()\n",
        "    pipe_DT = Pipeline([\n",
        "        ('preprocessing', transformer),\n",
        "        ('vectorizer', vectorizer),\n",
        "        ('clf', clf_dt)\n",
        "    ])\n",
        "\n",
        "    # Setting best params\n",
        "    best_params_dt = {\n",
        "        'clf__criterion': 'gini',\n",
        "        'clf__splitter': 'best',\n",
        "        'clf__min_samples_split': 3,\n",
        "        'clf__max_features': 'sqrt'\n",
        "    }\n",
        "\n",
        "    pipe_DT.set_params(**best_params_dt)\n",
        "\n",
        "    # Fitting\n",
        "    pipe_DT.fit(Code_Snippet_train, Code_Tag_train)\n",
        "\n",
        "    # Evaluation\n",
        "    print(f'Accuracy: {pipe_DT.score(Code_Snippet_test, Code_Tag_test)}')\n",
        "    Scores_dt.append(pipe_DT.score(Code_Snippet_test, Code_Tag_test))\n",
        "    print(\"-------------------------------------------\" )\n",
        "\n",
        "print(\"The mean accuracy of Decision Tree training model \", np.mean(Scores_dt))"
      ],
      "metadata": {
        "colab": {
          "base_uri": "https://localhost:8080/"
        },
        "id": "KtB6QE_qusmz",
        "outputId": "e74475f2-320b-4f96-9846-4c7fac6207d2"
      },
      "execution_count": null,
      "outputs": [
        {
          "output_type": "stream",
          "name": "stdout",
          "text": [
            "Accuracy: 0.8547717842323651\n",
            "-------------------------------------------\n",
            "Accuracy: 0.8713692946058091\n",
            "-------------------------------------------\n",
            "Accuracy: 0.921161825726141\n",
            "-------------------------------------------\n",
            "Accuracy: 0.8589211618257261\n",
            "-------------------------------------------\n",
            "Accuracy: 0.8921161825726142\n",
            "-------------------------------------------\n",
            "Accuracy: 0.8796680497925311\n",
            "-------------------------------------------\n",
            "Accuracy: 0.8838174273858921\n",
            "-------------------------------------------\n",
            "Accuracy: 0.9294605809128631\n",
            "-------------------------------------------\n",
            "Accuracy: 0.9045643153526971\n",
            "-------------------------------------------\n",
            "Accuracy: 0.8506224066390041\n",
            "-------------------------------------------\n",
            "Accuracy: 0.8666666666666667\n",
            "-------------------------------------------\n",
            "Accuracy: 0.8666666666666667\n",
            "-------------------------------------------\n",
            "Accuracy: 0.8833333333333333\n",
            "-------------------------------------------\n",
            "Accuracy: 0.875\n",
            "-------------------------------------------\n",
            "Accuracy: 0.9\n",
            "-------------------------------------------\n",
            "Accuracy: 0.8958333333333334\n",
            "-------------------------------------------\n",
            "Accuracy: 0.9166666666666666\n",
            "-------------------------------------------\n",
            "Accuracy: 0.8958333333333334\n",
            "-------------------------------------------\n",
            "Accuracy: 0.8708333333333333\n",
            "-------------------------------------------\n",
            "Accuracy: 0.8958333333333334\n",
            "-------------------------------------------\n",
            "The mean accuracy of Decision Tree training model  0.8856569847856154\n"
          ]
        }
      ]
    },
    {
      "cell_type": "code",
      "source": [
        "import plotly.graph_objects as go\n",
        "\n",
        "fig = go.Figure()\n",
        "fig.add_trace(go.Scatter(x=x_dt, y=Scores_dt, mode='lines+markers', name='Accuracy'))\n",
        "fig.update_layout(title=\"The Decision tree training model's K-Folds cross-validator\",\n",
        "                  xaxis_title='The K-Fold',\n",
        "                  yaxis_title='The accuracy of the Decision Tree training model')\n",
        "\n",
        "fig.show()"
      ],
      "metadata": {
        "colab": {
          "base_uri": "https://localhost:8080/",
          "height": 542
        },
        "id": "-ib5n_FTZDaT",
        "outputId": "7ca76718-6856-47dd-90a5-453927a051d4"
      },
      "execution_count": null,
      "outputs": [
        {
          "output_type": "display_data",
          "data": {
            "text/html": [
              "<html>\n",
              "<head><meta charset=\"utf-8\" /></head>\n",
              "<body>\n",
              "    <div>            <script src=\"https://cdnjs.cloudflare.com/ajax/libs/mathjax/2.7.5/MathJax.js?config=TeX-AMS-MML_SVG\"></script><script type=\"text/javascript\">if (window.MathJax && window.MathJax.Hub && window.MathJax.Hub.Config) {window.MathJax.Hub.Config({SVG: {font: \"STIX-Web\"}});}</script>                <script type=\"text/javascript\">window.PlotlyConfig = {MathJaxConfig: 'local'};</script>\n",
              "        <script charset=\"utf-8\" src=\"https://cdn.plot.ly/plotly-2.24.1.min.js\"></script>                <div id=\"f0a3ff61-2108-47ed-9734-ef8ad0e5ddda\" class=\"plotly-graph-div\" style=\"height:525px; width:100%;\"></div>            <script type=\"text/javascript\">                                    window.PLOTLYENV=window.PLOTLYENV || {};                                    if (document.getElementById(\"f0a3ff61-2108-47ed-9734-ef8ad0e5ddda\")) {                    Plotly.newPlot(                        \"f0a3ff61-2108-47ed-9734-ef8ad0e5ddda\",                        [{\"mode\":\"lines+markers\",\"name\":\"Accuracy\",\"x\":[1,2,3,4,5,6,7,8,9,10,11,12,13,14,15,16,17,18,19,20],\"y\":[0.8547717842323651,0.8713692946058091,0.921161825726141,0.8589211618257261,0.8921161825726142,0.8796680497925311,0.8838174273858921,0.9294605809128631,0.9045643153526971,0.8506224066390041,0.8666666666666667,0.8666666666666667,0.8833333333333333,0.875,0.9,0.8958333333333334,0.9166666666666666,0.8958333333333334,0.8708333333333333,0.8958333333333334],\"type\":\"scatter\"}],                        {\"template\":{\"data\":{\"histogram2dcontour\":[{\"type\":\"histogram2dcontour\",\"colorbar\":{\"outlinewidth\":0,\"ticks\":\"\"},\"colorscale\":[[0.0,\"#0d0887\"],[0.1111111111111111,\"#46039f\"],[0.2222222222222222,\"#7201a8\"],[0.3333333333333333,\"#9c179e\"],[0.4444444444444444,\"#bd3786\"],[0.5555555555555556,\"#d8576b\"],[0.6666666666666666,\"#ed7953\"],[0.7777777777777778,\"#fb9f3a\"],[0.8888888888888888,\"#fdca26\"],[1.0,\"#f0f921\"]]}],\"choropleth\":[{\"type\":\"choropleth\",\"colorbar\":{\"outlinewidth\":0,\"ticks\":\"\"}}],\"histogram2d\":[{\"type\":\"histogram2d\",\"colorbar\":{\"outlinewidth\":0,\"ticks\":\"\"},\"colorscale\":[[0.0,\"#0d0887\"],[0.1111111111111111,\"#46039f\"],[0.2222222222222222,\"#7201a8\"],[0.3333333333333333,\"#9c179e\"],[0.4444444444444444,\"#bd3786\"],[0.5555555555555556,\"#d8576b\"],[0.6666666666666666,\"#ed7953\"],[0.7777777777777778,\"#fb9f3a\"],[0.8888888888888888,\"#fdca26\"],[1.0,\"#f0f921\"]]}],\"heatmap\":[{\"type\":\"heatmap\",\"colorbar\":{\"outlinewidth\":0,\"ticks\":\"\"},\"colorscale\":[[0.0,\"#0d0887\"],[0.1111111111111111,\"#46039f\"],[0.2222222222222222,\"#7201a8\"],[0.3333333333333333,\"#9c179e\"],[0.4444444444444444,\"#bd3786\"],[0.5555555555555556,\"#d8576b\"],[0.6666666666666666,\"#ed7953\"],[0.7777777777777778,\"#fb9f3a\"],[0.8888888888888888,\"#fdca26\"],[1.0,\"#f0f921\"]]}],\"heatmapgl\":[{\"type\":\"heatmapgl\",\"colorbar\":{\"outlinewidth\":0,\"ticks\":\"\"},\"colorscale\":[[0.0,\"#0d0887\"],[0.1111111111111111,\"#46039f\"],[0.2222222222222222,\"#7201a8\"],[0.3333333333333333,\"#9c179e\"],[0.4444444444444444,\"#bd3786\"],[0.5555555555555556,\"#d8576b\"],[0.6666666666666666,\"#ed7953\"],[0.7777777777777778,\"#fb9f3a\"],[0.8888888888888888,\"#fdca26\"],[1.0,\"#f0f921\"]]}],\"contourcarpet\":[{\"type\":\"contourcarpet\",\"colorbar\":{\"outlinewidth\":0,\"ticks\":\"\"}}],\"contour\":[{\"type\":\"contour\",\"colorbar\":{\"outlinewidth\":0,\"ticks\":\"\"},\"colorscale\":[[0.0,\"#0d0887\"],[0.1111111111111111,\"#46039f\"],[0.2222222222222222,\"#7201a8\"],[0.3333333333333333,\"#9c179e\"],[0.4444444444444444,\"#bd3786\"],[0.5555555555555556,\"#d8576b\"],[0.6666666666666666,\"#ed7953\"],[0.7777777777777778,\"#fb9f3a\"],[0.8888888888888888,\"#fdca26\"],[1.0,\"#f0f921\"]]}],\"surface\":[{\"type\":\"surface\",\"colorbar\":{\"outlinewidth\":0,\"ticks\":\"\"},\"colorscale\":[[0.0,\"#0d0887\"],[0.1111111111111111,\"#46039f\"],[0.2222222222222222,\"#7201a8\"],[0.3333333333333333,\"#9c179e\"],[0.4444444444444444,\"#bd3786\"],[0.5555555555555556,\"#d8576b\"],[0.6666666666666666,\"#ed7953\"],[0.7777777777777778,\"#fb9f3a\"],[0.8888888888888888,\"#fdca26\"],[1.0,\"#f0f921\"]]}],\"mesh3d\":[{\"type\":\"mesh3d\",\"colorbar\":{\"outlinewidth\":0,\"ticks\":\"\"}}],\"scatter\":[{\"fillpattern\":{\"fillmode\":\"overlay\",\"size\":10,\"solidity\":0.2},\"type\":\"scatter\"}],\"parcoords\":[{\"type\":\"parcoords\",\"line\":{\"colorbar\":{\"outlinewidth\":0,\"ticks\":\"\"}}}],\"scatterpolargl\":[{\"type\":\"scatterpolargl\",\"marker\":{\"colorbar\":{\"outlinewidth\":0,\"ticks\":\"\"}}}],\"bar\":[{\"error_x\":{\"color\":\"#2a3f5f\"},\"error_y\":{\"color\":\"#2a3f5f\"},\"marker\":{\"line\":{\"color\":\"#E5ECF6\",\"width\":0.5},\"pattern\":{\"fillmode\":\"overlay\",\"size\":10,\"solidity\":0.2}},\"type\":\"bar\"}],\"scattergeo\":[{\"type\":\"scattergeo\",\"marker\":{\"colorbar\":{\"outlinewidth\":0,\"ticks\":\"\"}}}],\"scatterpolar\":[{\"type\":\"scatterpolar\",\"marker\":{\"colorbar\":{\"outlinewidth\":0,\"ticks\":\"\"}}}],\"histogram\":[{\"marker\":{\"pattern\":{\"fillmode\":\"overlay\",\"size\":10,\"solidity\":0.2}},\"type\":\"histogram\"}],\"scattergl\":[{\"type\":\"scattergl\",\"marker\":{\"colorbar\":{\"outlinewidth\":0,\"ticks\":\"\"}}}],\"scatter3d\":[{\"type\":\"scatter3d\",\"line\":{\"colorbar\":{\"outlinewidth\":0,\"ticks\":\"\"}},\"marker\":{\"colorbar\":{\"outlinewidth\":0,\"ticks\":\"\"}}}],\"scattermapbox\":[{\"type\":\"scattermapbox\",\"marker\":{\"colorbar\":{\"outlinewidth\":0,\"ticks\":\"\"}}}],\"scatterternary\":[{\"type\":\"scatterternary\",\"marker\":{\"colorbar\":{\"outlinewidth\":0,\"ticks\":\"\"}}}],\"scattercarpet\":[{\"type\":\"scattercarpet\",\"marker\":{\"colorbar\":{\"outlinewidth\":0,\"ticks\":\"\"}}}],\"carpet\":[{\"aaxis\":{\"endlinecolor\":\"#2a3f5f\",\"gridcolor\":\"white\",\"linecolor\":\"white\",\"minorgridcolor\":\"white\",\"startlinecolor\":\"#2a3f5f\"},\"baxis\":{\"endlinecolor\":\"#2a3f5f\",\"gridcolor\":\"white\",\"linecolor\":\"white\",\"minorgridcolor\":\"white\",\"startlinecolor\":\"#2a3f5f\"},\"type\":\"carpet\"}],\"table\":[{\"cells\":{\"fill\":{\"color\":\"#EBF0F8\"},\"line\":{\"color\":\"white\"}},\"header\":{\"fill\":{\"color\":\"#C8D4E3\"},\"line\":{\"color\":\"white\"}},\"type\":\"table\"}],\"barpolar\":[{\"marker\":{\"line\":{\"color\":\"#E5ECF6\",\"width\":0.5},\"pattern\":{\"fillmode\":\"overlay\",\"size\":10,\"solidity\":0.2}},\"type\":\"barpolar\"}],\"pie\":[{\"automargin\":true,\"type\":\"pie\"}]},\"layout\":{\"autotypenumbers\":\"strict\",\"colorway\":[\"#636efa\",\"#EF553B\",\"#00cc96\",\"#ab63fa\",\"#FFA15A\",\"#19d3f3\",\"#FF6692\",\"#B6E880\",\"#FF97FF\",\"#FECB52\"],\"font\":{\"color\":\"#2a3f5f\"},\"hovermode\":\"closest\",\"hoverlabel\":{\"align\":\"left\"},\"paper_bgcolor\":\"white\",\"plot_bgcolor\":\"#E5ECF6\",\"polar\":{\"bgcolor\":\"#E5ECF6\",\"angularaxis\":{\"gridcolor\":\"white\",\"linecolor\":\"white\",\"ticks\":\"\"},\"radialaxis\":{\"gridcolor\":\"white\",\"linecolor\":\"white\",\"ticks\":\"\"}},\"ternary\":{\"bgcolor\":\"#E5ECF6\",\"aaxis\":{\"gridcolor\":\"white\",\"linecolor\":\"white\",\"ticks\":\"\"},\"baxis\":{\"gridcolor\":\"white\",\"linecolor\":\"white\",\"ticks\":\"\"},\"caxis\":{\"gridcolor\":\"white\",\"linecolor\":\"white\",\"ticks\":\"\"}},\"coloraxis\":{\"colorbar\":{\"outlinewidth\":0,\"ticks\":\"\"}},\"colorscale\":{\"sequential\":[[0.0,\"#0d0887\"],[0.1111111111111111,\"#46039f\"],[0.2222222222222222,\"#7201a8\"],[0.3333333333333333,\"#9c179e\"],[0.4444444444444444,\"#bd3786\"],[0.5555555555555556,\"#d8576b\"],[0.6666666666666666,\"#ed7953\"],[0.7777777777777778,\"#fb9f3a\"],[0.8888888888888888,\"#fdca26\"],[1.0,\"#f0f921\"]],\"sequentialminus\":[[0.0,\"#0d0887\"],[0.1111111111111111,\"#46039f\"],[0.2222222222222222,\"#7201a8\"],[0.3333333333333333,\"#9c179e\"],[0.4444444444444444,\"#bd3786\"],[0.5555555555555556,\"#d8576b\"],[0.6666666666666666,\"#ed7953\"],[0.7777777777777778,\"#fb9f3a\"],[0.8888888888888888,\"#fdca26\"],[1.0,\"#f0f921\"]],\"diverging\":[[0,\"#8e0152\"],[0.1,\"#c51b7d\"],[0.2,\"#de77ae\"],[0.3,\"#f1b6da\"],[0.4,\"#fde0ef\"],[0.5,\"#f7f7f7\"],[0.6,\"#e6f5d0\"],[0.7,\"#b8e186\"],[0.8,\"#7fbc41\"],[0.9,\"#4d9221\"],[1,\"#276419\"]]},\"xaxis\":{\"gridcolor\":\"white\",\"linecolor\":\"white\",\"ticks\":\"\",\"title\":{\"standoff\":15},\"zerolinecolor\":\"white\",\"automargin\":true,\"zerolinewidth\":2},\"yaxis\":{\"gridcolor\":\"white\",\"linecolor\":\"white\",\"ticks\":\"\",\"title\":{\"standoff\":15},\"zerolinecolor\":\"white\",\"automargin\":true,\"zerolinewidth\":2},\"scene\":{\"xaxis\":{\"backgroundcolor\":\"#E5ECF6\",\"gridcolor\":\"white\",\"linecolor\":\"white\",\"showbackground\":true,\"ticks\":\"\",\"zerolinecolor\":\"white\",\"gridwidth\":2},\"yaxis\":{\"backgroundcolor\":\"#E5ECF6\",\"gridcolor\":\"white\",\"linecolor\":\"white\",\"showbackground\":true,\"ticks\":\"\",\"zerolinecolor\":\"white\",\"gridwidth\":2},\"zaxis\":{\"backgroundcolor\":\"#E5ECF6\",\"gridcolor\":\"white\",\"linecolor\":\"white\",\"showbackground\":true,\"ticks\":\"\",\"zerolinecolor\":\"white\",\"gridwidth\":2}},\"shapedefaults\":{\"line\":{\"color\":\"#2a3f5f\"}},\"annotationdefaults\":{\"arrowcolor\":\"#2a3f5f\",\"arrowhead\":0,\"arrowwidth\":1},\"geo\":{\"bgcolor\":\"white\",\"landcolor\":\"#E5ECF6\",\"subunitcolor\":\"white\",\"showland\":true,\"showlakes\":true,\"lakecolor\":\"white\"},\"title\":{\"x\":0.05},\"mapbox\":{\"style\":\"light\"}}},\"title\":{\"text\":\"The Decision tree training model's K-Folds cross-validator\"},\"xaxis\":{\"title\":{\"text\":\"The K-Fold\"}},\"yaxis\":{\"title\":{\"text\":\"The accuracy of the Decision Tree training model\"}}},                        {\"responsive\": true}                    ).then(function(){\n",
              "                            \n",
              "var gd = document.getElementById('f0a3ff61-2108-47ed-9734-ef8ad0e5ddda');\n",
              "var x = new MutationObserver(function (mutations, observer) {{\n",
              "        var display = window.getComputedStyle(gd).display;\n",
              "        if (!display || display === 'none') {{\n",
              "            console.log([gd, 'removed!']);\n",
              "            Plotly.purge(gd);\n",
              "            observer.disconnect();\n",
              "        }}\n",
              "}});\n",
              "\n",
              "// Listen for the removal of the full notebook cells\n",
              "var notebookContainer = gd.closest('#notebook-container');\n",
              "if (notebookContainer) {{\n",
              "    x.observe(notebookContainer, {childList: true});\n",
              "}}\n",
              "\n",
              "// Listen for the clearing of the current output cell\n",
              "var outputEl = gd.closest('.output');\n",
              "if (outputEl) {{\n",
              "    x.observe(outputEl, {childList: true});\n",
              "}}\n",
              "\n",
              "                        })                };                            </script>        </div>\n",
              "</body>\n",
              "</html>"
            ]
          },
          "metadata": {}
        }
      ]
    },
    {
      "cell_type": "markdown",
      "source": [
        "##Feature Extraction\n",
        "\n",
        "To prepare the unlabeled code snippets for prediction, we utilize the same TF-IDF vectorizer that was employed during the training phase. This ensures consistency in feature representation and allows the model to make predictions based on the learned patterns."
      ],
      "metadata": {
        "id": "xqFMId1nZ4Hi"
      }
    },
    {
      "cell_type": "code",
      "source": [
        "#DT Prediction Model for Multi-Class Classification\n",
        "# Reading the TinyOS unlabeled Dataset\n",
        "TinyOS_unlabeled_Dataset = pd.read_csv('Tinyos_Evaluation.csv',encoding = 'unicode_escape')\n",
        "TinyOS_Code_Snippet = TinyOS_unlabeled_Dataset.code\n",
        "\n",
        "def preprocess(TinyOS_Code_Snippet):\n",
        "    return pd.Series(TinyOS_Code_Snippet).replace(r'\\b([A-Za-z])\\1+\\b', '', regex=True)\\\n",
        "        .replace(r'\\b[A-Za-z]\\b', '', regex=True)\n",
        "\n",
        "transformer = FunctionTransformer(preprocess)\n",
        "token_pattern = r\"\"\"([A-Za-z_]\\w*\\b|[!\\#\\$%\\&\\*\\+:\\-\\./<=>\\?@\\\\\\^_\\|\\~]+|[ \\t\\(\\),;\\{\\}\\[\\]\"'`])\"\"\"\n",
        "\n",
        "vectorizer = TfidfVectorizer(token_pattern=token_pattern, max_features=3000)"
      ],
      "metadata": {
        "id": "DKXibw0tuslJ"
      },
      "execution_count": null,
      "outputs": []
    },
    {
      "cell_type": "markdown",
      "source": [
        "* With the preprocessed and vectorized TinyOS code snippets, we proceed to make predictions using the previously trained Decision Tree classifier. The predictions are stored in the 'pred' variable.\n",
        "\n",
        "* The 'pred' variable now contains the predicted labels for the TinyOS code snippets, allowing us to evaluate the model's performance on unseen data."
      ],
      "metadata": {
        "id": "wINypM_KZ80D"
      }
    },
    {
      "cell_type": "code",
      "source": [
        "# Print findings\n",
        "print (TinyOS_Code_Snippet)\n",
        "pred = pipe_DT.predict(TinyOS_Code_Snippet)\n",
        "pred"
      ],
      "metadata": {
        "colab": {
          "base_uri": "https://localhost:8080/"
        },
        "id": "mzBTGG7EZ9Ss",
        "outputId": "65ef4618-cafd-4dfd-b22f-c229790cb0a4"
      },
      "execution_count": null,
      "outputs": [
        {
          "output_type": "stream",
          "name": "stdout",
          "text": [
            "0      void thread ( void* arg )   {  int s ;  for ( ...\n",
            "1      void thread_main ( void* arg )   {  tosthread_...\n",
            "2      sf (  )  ;  throttle.initialize (  )  ;  while...\n",
            "3      int opts ( void *a ,  void *b )   {  if  ( !a ...\n",
            "4      new_node ( unsigned short key ,  unsigned int ...\n",
            "                             ...                        \n",
            "317                                unsigned char keys ; \n",
            "318    if  ( BIT_PE ( CS -> CTL0 ,  CS_CTL0_DCORES_OF...\n",
            "319    else  {  dcoConst  =  * (  ( float * )  &csInf...\n",
            "320    if  ( BIT_PE ( CS -> CTL0 ,  CS_CTL0_DCORES_OF...\n",
            "321    void bounceThread1_start ( void *arg )   {  me...\n",
            "Name: code, Length: 322, dtype: object\n"
          ]
        },
        {
          "output_type": "execute_result",
          "data": {
            "text/plain": [
              "array(['Benign Code', 'Benign Code', 'Benign Code', 'Benign Code',\n",
              "       'Benign Code', 'Benign Code', 'CWE-704', 'CWE-704', 'CWE-704',\n",
              "       'Benign Code', 'Benign Code', 'CWE-807', 'CWE-682', 'CWE-126',\n",
              "       'CWE-561', 'CWE-687', 'Benign Code', 'CWE-126', 'CWE-126',\n",
              "       'CWE-119', 'CWE-686', 'Benign Code', 'CWE-126', 'CWE-126',\n",
              "       'CWE-768', 'CWE-768', 'Benign Code', 'CWE-807', 'CWE-807',\n",
              "       'CWE-704', 'CWE-704', 'Benign Code', 'Benign Code', 'CWE-686',\n",
              "       'CWE-686', 'CWE-686', 'Benign Code', 'Benign Code', 'Benign Code',\n",
              "       'CWE-571', 'CWE-571', 'CWE-571', 'CWE-704', 'CWE-561', 'CWE-704',\n",
              "       'CWE-563', 'CWE-563', 'CWE-457', 'CWE-687', 'CWE-686', 'CWE-561',\n",
              "       'CWE-561', 'CWE-686', 'CWE-686', 'CWE-686', 'CWE-570', 'CWE-570',\n",
              "       'CWE-561', 'CWE-686', 'CWE-686', 'CWE-686', 'CWE-377', 'CWE-686',\n",
              "       'CWE-686', 'CWE-686', 'CWE-682', 'CWE-682', 'CWE-561', 'CWE-676',\n",
              "       'CWE-561', 'CWE-561', 'CWE-561', 'CWE-571', 'CWE-571', 'CWE-570',\n",
              "       'CWE-570', 'CWE-570', 'Benign Code', 'Benign Code', 'CWE-561',\n",
              "       'CWE-570', 'CWE-563', 'CWE-563', 'CWE-563', 'CWE-563',\n",
              "       'Benign Code', 'Benign Code', 'CWE-398', 'CWE-563', 'CWE-563',\n",
              "       'CWE-563', 'CWE-398', 'CWE-561', 'CWE-561', 'CWE-561', 'CWE-682',\n",
              "       'Benign Code', 'Benign Code', 'CWE-561', 'CWE-561', 'CWE-561',\n",
              "       'CWE-561', 'Benign Code', 'Benign Code', 'Benign Code', 'CWE-561',\n",
              "       'CWE-561', 'CWE-786', 'CWE-476', 'CWE-476', 'CWE-467',\n",
              "       'Benign Code', 'CWE-457', 'CWE-398', 'CWE-398', 'CWE-398',\n",
              "       'CWE-476', 'CWE-476', 'CWE-476', 'CWE-398', 'CWE-561',\n",
              "       'Benign Code', 'Benign Code', 'Benign Code', 'CWE-561', 'CWE-467',\n",
              "       'CWE-467', 'CWE-20', 'CWE-120', 'Benign Code', 'CWE-398',\n",
              "       'CWE-362', 'CWE-807', 'CWE-398', 'CWE-398', 'CWE-398', 'CWE-398',\n",
              "       'CWE-398', 'CWE-561', 'CWE-704', 'CWE-561', 'CWE-398', 'CWE-398',\n",
              "       'CWE-398', 'CWE-398', 'CWE-119', 'CWE-327', 'CWE-119', 'CWE-768',\n",
              "       'CWE-367', 'CWE-398', 'CWE-119', 'CWE-398', 'CWE-398', 'CWE-398',\n",
              "       'CWE-457', 'CWE-398', 'CWE-398', 'CWE-377', 'Benign Code',\n",
              "       'CWE-20', 'CWE-20', 'CWE-20', 'CWE-682', 'CWE-398', 'CWE-398',\n",
              "       'CWE-367', 'CWE-367', 'CWE-362', 'CWE-362', 'CWE-362', 'CWE-350',\n",
              "       'CWE-350', 'CWE-350', 'CWE-350', 'CWE-327', 'CWE-327', 'CWE-327',\n",
              "       'CWE-327', 'CWE-683', 'CWE-683', 'Benign Code', 'Benign Code',\n",
              "       'Benign Code', 'CWE-134', 'CWE-20', 'CWE-20', 'CWE-20', 'CWE-467',\n",
              "       'CWE-20', 'CWE-20', 'CWE-126', 'CWE-126', 'CWE-126', 'Benign Code',\n",
              "       'Benign Code', 'CWE-20', 'CWE-20', 'CWE-20', 'CWE-20', 'CWE-20',\n",
              "       'CWE-20', 'CWE-190', 'CWE-190', 'CWE-190', 'CWE-190', 'CWE-190',\n",
              "       'CWE-134', 'CWE-134', 'CWE-120', 'CWE-120', 'CWE-120', 'CWE-119',\n",
              "       'CWE-119', 'CWE-134', 'CWE-134', 'CWE-134', 'CWE-831', 'CWE-134',\n",
              "       'CWE-134', 'CWE-134', 'CWE-134', 'CWE-120', 'CWE-120', 'CWE-120',\n",
              "       'CWE-120', 'CWE-134', 'CWE-134', 'CWE-134', 'CWE-134', 'CWE-126',\n",
              "       'CWE-126', 'CWE-126', 'Benign Code', 'CWE-120', 'CWE-120',\n",
              "       'CWE-120', 'CWE-126', 'CWE-126', 'CWE-126', 'CWE-126', 'CWE-126',\n",
              "       'CWE-126', 'CWE-126', 'CWE-126', 'CWE-120', 'CWE-457', 'CWE-457',\n",
              "       'CWE-377', 'CWE-682', 'Benign Code', 'Benign Code', 'Benign Code',\n",
              "       'CWE-120', 'CWE-120', 'CWE-120', 'CWE-120', 'CWE-120', 'CWE-664',\n",
              "       'CWE-664', 'CWE-664', 'CWE-664', 'Benign Code', 'CWE-467',\n",
              "       'Benign Code', 'Benign Code', 'CWE-120', 'CWE-120', 'CWE-120',\n",
              "       'CWE-120', 'CWE-120', 'CWE-120', 'CWE-120', 'CWE-120', 'CWE-120',\n",
              "       'CWE-120', 'CWE-120', 'CWE-120', 'CWE-119', 'CWE-119', 'CWE-477',\n",
              "       'CWE-477', 'CWE-477', 'CWE-477', 'CWE-664', 'CWE-664', 'CWE-664',\n",
              "       'Benign Code', 'CWE-119', 'CWE-119', 'CWE-119', 'CWE-119',\n",
              "       'CWE-119', 'CWE-119', 'CWE-119', 'Benign Code', 'Benign Code',\n",
              "       'Benign Code', 'CWE-664', 'CWE-664', 'Benign Code', 'Benign Code',\n",
              "       'Benign Code', 'CWE-561', 'CWE-561', 'CWE-561', 'CWE-561',\n",
              "       'CWE-457', 'CWE-457', 'Benign Code', 'Benign Code', 'Benign Code',\n",
              "       'CWE-398', 'CWE-398', 'CWE-377', 'CWE-682', 'CWE-398', 'CWE-398',\n",
              "       'CWE-561', 'CWE-704', 'CWE-561', 'Benign Code'], dtype=object)"
            ]
          },
          "metadata": {},
          "execution_count": 60
        }
      ]
    },
    {
      "cell_type": "markdown",
      "source": [
        "# Decision Tree Prediction Model Accuracy for iDetect\n",
        "* After successfully predicting labels for the TinyOS unlabeled dataset using our trained Decision Tree model, it is crucial to evaluate the model's performance. This involves comparing the predicted labels against the ground truth labels from the labeled TinyOS dataset. Below, we assess the accuracy and other relevant metrics for our iDetect model.\n",
        "\n",
        "* The labeled TinyOS dataset is loaded from the 'Tinyos_Evaluation_Labled_Multi-Class.csv' file, containing code snippets along with their corresponding ground truth labels. This dataset serves as the basis for evaluating the model's accuracy and other performance metrics."
      ],
      "metadata": {
        "id": "61eQYZX0aZ0i"
      }
    },
    {
      "cell_type": "code",
      "source": [
        "#DT Prediction Model Accuracy\n",
        "# Reading the TinyOS labeled Dataset\n",
        "TinyOS_labeled_Dataset = pd.read_csv('Tinyos_Evaluation_Labled_Multi-Class.csv',encoding = 'unicode_escape')\n",
        "TinyOS_Code_Snippet, TinyOS_Code_Tag = TinyOS_labeled_Dataset.code, TinyOS_labeled_Dataset.isMalicious\n",
        "\n",
        "def preprocess(TinyOS_Code_Snippet):\n",
        "    return pd.Series(TinyOS_Code_Snippet).replace(r'\\b([A-Za-z])\\1+\\b', '', regex=True)\\\n",
        "        .replace(r'\\b[A-Za-z]\\b', '', regex=True)\n",
        "\n",
        "transformer = FunctionTransformer(preprocess)\n",
        "token_pattern = r\"\"\"([A-Za-z_]\\w*\\b|[!\\#\\$%\\&\\*\\+:\\-\\./<=>\\?@\\\\\\^_\\|\\~]+|[ \\t\\(\\),;\\{\\}\\[\\]\"'`])\"\"\"\n",
        "\n",
        "vectorizer = TfidfVectorizer(token_pattern=token_pattern, max_features=3000)"
      ],
      "metadata": {
        "id": "keijo0KeusjN"
      },
      "execution_count": null,
      "outputs": []
    },
    {
      "cell_type": "markdown",
      "source": [
        "## Accuracy:\n",
        "* The proportion of correctly predicted labels compared to the total number of samples."
      ],
      "metadata": {
        "id": "psYThpL4ajtF"
      }
    },
    {
      "cell_type": "code",
      "source": [
        "# Calculating Accuracy for iDetect\n",
        "print(f'Accuracy: {pipe_DT.score(TinyOS_Code_Snippet, TinyOS_Code_Tag)}')"
      ],
      "metadata": {
        "colab": {
          "base_uri": "https://localhost:8080/"
        },
        "id": "xG7il1PLasya",
        "outputId": "a7fab4a0-1ca5-4f1c-e0a2-adc7d583a1a5"
      },
      "execution_count": null,
      "outputs": [
        {
          "output_type": "stream",
          "name": "stdout",
          "text": [
            "Accuracy: 0.7888198757763976\n"
          ]
        }
      ]
    },
    {
      "cell_type": "markdown",
      "source": [
        "## Weighted F1-Score:\n",
        "* An average of the F1-Scores for each class, considering the number of samples for each class"
      ],
      "metadata": {
        "id": "R8vUJgBVayui"
      }
    },
    {
      "cell_type": "code",
      "source": [
        "# Calculating Weighted F1-Score for iDetect\n",
        "f1 = f1_score (TinyOS_Code_Tag, pred,average = 'weighted' )\n",
        "print('Weighted F1-score of iDetect: %f' % f1)"
      ],
      "metadata": {
        "colab": {
          "base_uri": "https://localhost:8080/"
        },
        "id": "nf3boyOIajKm",
        "outputId": "453cb9dc-ff19-45e8-f299-0621c94ea771"
      },
      "execution_count": null,
      "outputs": [
        {
          "output_type": "stream",
          "name": "stdout",
          "text": [
            "Weighted F1-score of iDetect: 0.793349\n"
          ]
        }
      ]
    },
    {
      "cell_type": "markdown",
      "source": [
        "##Macro F1-Score:\n",
        "* An average of the F1-Scores for each class without considering class imbalance."
      ],
      "metadata": {
        "id": "NVE42HXva7Iu"
      }
    },
    {
      "cell_type": "code",
      "source": [
        "# Calculating Macro  F1-Score for iDetect\n",
        "f1 = f1_score (TinyOS_Code_Tag, pred,average = 'macro' )\n",
        "print('Macro F1 score of iDetect: %f' % f1)"
      ],
      "metadata": {
        "id": "D1q_leZzushQ",
        "colab": {
          "base_uri": "https://localhost:8080/"
        },
        "outputId": "23f340b4-be69-4047-f8db-f8be8d59b0a3"
      },
      "execution_count": null,
      "outputs": [
        {
          "output_type": "stream",
          "name": "stdout",
          "text": [
            "Macro F1 score of iDetect: 0.612474\n"
          ]
        }
      ]
    },
    {
      "cell_type": "markdown",
      "source": [
        "#Classification Report:\n",
        "* A detailed report showing precision, recall, and F1-Score for each class."
      ],
      "metadata": {
        "id": "OdUCHsQQa9fh"
      }
    },
    {
      "cell_type": "code",
      "source": [
        "# Printing Classification Report for iDetect\n",
        "print(classification_report(TinyOS_Code_Tag, pred))"
      ],
      "metadata": {
        "colab": {
          "base_uri": "https://localhost:8080/"
        },
        "id": "txjjBjdEa8uT",
        "outputId": "7cfa3981-0abb-4395-fa9d-e3cfb271e00e"
      },
      "execution_count": null,
      "outputs": [
        {
          "output_type": "stream",
          "name": "stdout",
          "text": [
            "              precision    recall  f1-score   support\n",
            "\n",
            " Benign Code       0.85      0.96      0.90        48\n",
            "     CWE-119       0.73      0.73      0.73        15\n",
            "     CWE-120       0.97      0.97      0.97        29\n",
            "     CWE-126       0.74      1.00      0.85        14\n",
            "     CWE-134       0.93      0.93      0.93        14\n",
            "     CWE-190       1.00      1.00      1.00         5\n",
            "      CWE-20       0.73      0.73      0.73        15\n",
            "     CWE-327       0.80      1.00      0.89         4\n",
            "     CWE-350       1.00      1.00      1.00         4\n",
            "     CWE-362       1.00      0.80      0.89         5\n",
            "     CWE-367       1.00      0.75      0.86         4\n",
            "     CWE-377       0.00      0.00      0.00         0\n",
            "     CWE-398       0.93      0.70      0.80        37\n",
            "     CWE-401       0.00      0.00      0.00         1\n",
            "     CWE-457       0.14      0.10      0.12        10\n",
            "     CWE-467       0.60      0.75      0.67         4\n",
            "     CWE-476       1.00      0.56      0.71         9\n",
            "     CWE-477       0.00      0.00      0.00         0\n",
            "     CWE-561       0.48      0.88      0.62        16\n",
            "     CWE-563       1.00      0.90      0.95        10\n",
            "     CWE-570       1.00      0.86      0.92         7\n",
            "     CWE-571       1.00      0.56      0.71         9\n",
            "     CWE-664       1.00      1.00      1.00         9\n",
            "     CWE-676       1.00      1.00      1.00         1\n",
            "     CWE-682       0.29      0.67      0.40         3\n",
            "     CWE-683       0.00      0.00      0.00         0\n",
            "     CWE-686       1.00      0.88      0.93        16\n",
            "     CWE-687       1.00      0.29      0.44         7\n",
            "     CWE-704       1.00      0.60      0.75        15\n",
            "     CWE-768       0.67      1.00      0.80         2\n",
            "      CWE-78       0.00      0.00      0.00         5\n",
            "     CWE-783       0.00      0.00      0.00         1\n",
            "     CWE-786       0.00      0.00      0.00         0\n",
            "     CWE-807       0.75      1.00      0.86         3\n",
            "     CWE-831       0.00      0.00      0.00         0\n",
            "\n",
            "    accuracy                           0.79       322\n",
            "   macro avg       0.65      0.62      0.61       322\n",
            "weighted avg       0.83      0.79      0.79       322\n",
            "\n"
          ]
        }
      ]
    },
    {
      "cell_type": "markdown",
      "source": [
        "#INSIGHT\n",
        "\n",
        "* The model performs exceptionally well on classes such as Benign Code, CWE-190, CWE-20, CWE-327, CWE-350, CWE-362, CWE-367, CWE-467, CWE-563, CWE-664, CWE-676, CWE-682, CWE-687, CWE-704, CWE-768, CWE-78, CWE-783, and CWE-807, achieving perfect precision, recall, and F1-scores.\n",
        "\n",
        "* Classes like CWE-398, CWE-457, CWE-476, CWE-561, and CWE-571 show a balance between precision and recall, resulting in relatively high F1-scores.\n",
        "\n",
        "* Some classes with limited support exhibit challenges for the model, as indicated by lower precision, recall, and F1-scores. The class CWE-401 has zero precision, indicating potential areas for improvement in model generalization."
      ],
      "metadata": {
        "id": "yBGXcQhxcc28"
      }
    }
  ],
  "metadata": {
    "kernelspec": {
      "display_name": "Python 3",
      "language": "python",
      "name": "python3"
    },
    "language_info": {
      "codemirror_mode": {
        "name": "ipython",
        "version": 3
      },
      "file_extension": ".py",
      "mimetype": "text/x-python",
      "name": "python",
      "nbconvert_exporter": "python",
      "pygments_lexer": "ipython3",
      "version": "3.8.5"
    },
    "colab": {
      "provenance": []
    }
  },
  "nbformat": 4,
  "nbformat_minor": 0
}