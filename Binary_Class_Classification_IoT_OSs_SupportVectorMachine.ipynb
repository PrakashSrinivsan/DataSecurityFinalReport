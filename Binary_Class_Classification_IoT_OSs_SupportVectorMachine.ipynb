{
  "cells": [
    {
      "cell_type": "code",
      "execution_count": null,
      "metadata": {
        "id": "MIGpdZ-fUKuH"
      },
      "outputs": [],
      "source": [
        "import pandas as pd\n",
        "from sklearn.feature_extraction.text import TfidfVectorizer\n",
        "from sklearn.preprocessing import FunctionTransformer\n",
        "from sklearn.model_selection import train_test_split\n",
        "from sklearn.ensemble import RandomForestClassifier\n",
        "from sklearn.pipeline import Pipeline\n",
        "from sklearn.model_selection import KFold\n",
        "from sklearn.svm import SVC\n",
        "from sklearn.model_selection import RepeatedKFold\n",
        "import matplotlib.pyplot as plt\n",
        "import numpy as np\n",
        "import re, os\n",
        "from string import printable\n",
        "from sklearn import model_selection\n",
        "from sklearn.tree import DecisionTreeClassifier\n",
        "from matplotlib import pyplot\n",
        "from pathlib import Path\n",
        "from sklearn.metrics import f1_score\n",
        "from sklearn.metrics import classification_report\n",
        "import json\n",
        "import warnings\n",
        "warnings.filterwarnings(\"ignore\")"
      ]
    },
    {
      "cell_type": "code",
      "execution_count": null,
      "metadata": {
        "id": "uUHXqYPAUKuJ"
      },
      "outputs": [],
      "source": [
        "# Reading the Finale_Labeled_Dataset\n",
        "Al_Boghdady_Binary_Dataset = pd.read_csv('Al_Boghdady_Binary.csv',encoding = 'unicode_escape')"
      ]
    },
    {
      "cell_type": "code",
      "source": [
        "# Display the first few rows of the dataset\n",
        "print(\"First few rows of the dataset:\")\n",
        "print(Al_Boghdady_Binary_Dataset.head())"
      ],
      "metadata": {
        "colab": {
          "base_uri": "https://localhost:8080/"
        },
        "id": "aqtyFrdzU-Kb",
        "outputId": "4a9d4c64-6caa-4d78-82a3-c88939988891"
      },
      "execution_count": null,
      "outputs": [
        {
          "output_type": "stream",
          "name": "stdout",
          "text": [
            "First few rows of the dataset:\n",
            "                                                code      isMalicious\n",
            "0  void printfUART_buf  ( char *buf ,   int  len ...  Vulnerable Code\n",
            "1  check_opt_size  ( cp_opt_t *opt ,  unsigned ch...  Vulnerable Code\n",
            "2  cp_ft  ( cp_queue_t *queue ,  cp_tid_t id )   ...  Vulnerable Code\n",
            "3  start  ( cp_pdu_t *pdu )   {  if   ( pdu && pd...  Vulnerable Code\n",
            "4  cp_clone_pdu  ( cp_pdu_t *pdu )   {  cp_pdu_t ...  Vulnerable Code\n"
          ]
        }
      ]
    },
    {
      "cell_type": "code",
      "source": [
        "# Display information about the dataset (e.g., column names, data types)\n",
        "print(\"\\nInformation about the dataset:\")\n",
        "print(Al_Boghdady_Binary_Dataset.info())"
      ],
      "metadata": {
        "colab": {
          "base_uri": "https://localhost:8080/"
        },
        "id": "hO0lGvRRVLUI",
        "outputId": "760d60b5-db3d-4fcd-ac67-a36ada3f5d94"
      },
      "execution_count": null,
      "outputs": [
        {
          "output_type": "stream",
          "name": "stdout",
          "text": [
            "\n",
            "Information about the dataset:\n",
            "<class 'pandas.core.frame.DataFrame'>\n",
            "RangeIndex: 5117 entries, 0 to 5116\n",
            "Data columns (total 2 columns):\n",
            " #   Column       Non-Null Count  Dtype \n",
            "---  ------       --------------  ----- \n",
            " 0   code         5117 non-null   object\n",
            " 1   isMalicious  5117 non-null   object\n",
            "dtypes: object(2)\n",
            "memory usage: 80.1+ KB\n",
            "None\n"
          ]
        }
      ]
    },
    {
      "cell_type": "code",
      "source": [
        "# Check for missing values\n",
        "print(\"\\nMissing values in the dataset:\")\n",
        "print(Al_Boghdady_Binary_Dataset.isnull().sum())"
      ],
      "metadata": {
        "colab": {
          "base_uri": "https://localhost:8080/"
        },
        "id": "RVaGxv2sVQcc",
        "outputId": "c0e96958-037b-4380-cfb8-ea66f64b837c"
      },
      "execution_count": null,
      "outputs": [
        {
          "output_type": "stream",
          "name": "stdout",
          "text": [
            "\n",
            "Missing values in the dataset:\n",
            "code           0\n",
            "isMalicious    0\n",
            "dtype: int64\n"
          ]
        }
      ]
    },
    {
      "cell_type": "code",
      "source": [
        "import plotly.express as px\n",
        "\n",
        "# Create a DataFrame for missing values\n",
        "missing_values_df = Al_Boghdady_Binary_Dataset.isnull().sum().reset_index()\n",
        "missing_values_df.columns = ['Column', 'Missing Values']\n",
        "\n",
        "# Create an interactive bar plot\n",
        "fig = px.bar(missing_values_df, x='Column', y='Missing Values',\n",
        "             title='Missing Values in the Dataset',\n",
        "             labels={'Missing Values': 'Number of Missing Values', 'Column': 'Column Name'})\n",
        "\n",
        "# Customize the layout\n",
        "fig.update_layout(xaxis_title='Column Name', yaxis_title='Number of Missing Values')\n",
        "\n",
        "# Show the interactive plot\n",
        "fig.show()"
      ],
      "metadata": {
        "colab": {
          "base_uri": "https://localhost:8080/",
          "height": 542
        },
        "id": "WpgxOgMadygD",
        "outputId": "140319fe-3fa5-4ff7-df5f-92e4f9e08017"
      },
      "execution_count": null,
      "outputs": [
        {
          "output_type": "display_data",
          "data": {
            "text/html": [
              "<html>\n",
              "<head><meta charset=\"utf-8\" /></head>\n",
              "<body>\n",
              "    <div>            <script src=\"https://cdnjs.cloudflare.com/ajax/libs/mathjax/2.7.5/MathJax.js?config=TeX-AMS-MML_SVG\"></script><script type=\"text/javascript\">if (window.MathJax && window.MathJax.Hub && window.MathJax.Hub.Config) {window.MathJax.Hub.Config({SVG: {font: \"STIX-Web\"}});}</script>                <script type=\"text/javascript\">window.PlotlyConfig = {MathJaxConfig: 'local'};</script>\n",
              "        <script charset=\"utf-8\" src=\"https://cdn.plot.ly/plotly-2.24.1.min.js\"></script>                <div id=\"744e885e-b368-453b-8d79-96d359da0a51\" class=\"plotly-graph-div\" style=\"height:525px; width:100%;\"></div>            <script type=\"text/javascript\">                                    window.PLOTLYENV=window.PLOTLYENV || {};                                    if (document.getElementById(\"744e885e-b368-453b-8d79-96d359da0a51\")) {                    Plotly.newPlot(                        \"744e885e-b368-453b-8d79-96d359da0a51\",                        [{\"alignmentgroup\":\"True\",\"hovertemplate\":\"Column Name=%{x}\\u003cbr\\u003eNumber of Missing Values=%{y}\\u003cextra\\u003e\\u003c\\u002fextra\\u003e\",\"legendgroup\":\"\",\"marker\":{\"color\":\"#636efa\",\"pattern\":{\"shape\":\"\"}},\"name\":\"\",\"offsetgroup\":\"\",\"orientation\":\"v\",\"showlegend\":false,\"textposition\":\"auto\",\"x\":[\"code\",\"isMalicious\"],\"xaxis\":\"x\",\"y\":[0,0],\"yaxis\":\"y\",\"type\":\"bar\"}],                        {\"template\":{\"data\":{\"histogram2dcontour\":[{\"type\":\"histogram2dcontour\",\"colorbar\":{\"outlinewidth\":0,\"ticks\":\"\"},\"colorscale\":[[0.0,\"#0d0887\"],[0.1111111111111111,\"#46039f\"],[0.2222222222222222,\"#7201a8\"],[0.3333333333333333,\"#9c179e\"],[0.4444444444444444,\"#bd3786\"],[0.5555555555555556,\"#d8576b\"],[0.6666666666666666,\"#ed7953\"],[0.7777777777777778,\"#fb9f3a\"],[0.8888888888888888,\"#fdca26\"],[1.0,\"#f0f921\"]]}],\"choropleth\":[{\"type\":\"choropleth\",\"colorbar\":{\"outlinewidth\":0,\"ticks\":\"\"}}],\"histogram2d\":[{\"type\":\"histogram2d\",\"colorbar\":{\"outlinewidth\":0,\"ticks\":\"\"},\"colorscale\":[[0.0,\"#0d0887\"],[0.1111111111111111,\"#46039f\"],[0.2222222222222222,\"#7201a8\"],[0.3333333333333333,\"#9c179e\"],[0.4444444444444444,\"#bd3786\"],[0.5555555555555556,\"#d8576b\"],[0.6666666666666666,\"#ed7953\"],[0.7777777777777778,\"#fb9f3a\"],[0.8888888888888888,\"#fdca26\"],[1.0,\"#f0f921\"]]}],\"heatmap\":[{\"type\":\"heatmap\",\"colorbar\":{\"outlinewidth\":0,\"ticks\":\"\"},\"colorscale\":[[0.0,\"#0d0887\"],[0.1111111111111111,\"#46039f\"],[0.2222222222222222,\"#7201a8\"],[0.3333333333333333,\"#9c179e\"],[0.4444444444444444,\"#bd3786\"],[0.5555555555555556,\"#d8576b\"],[0.6666666666666666,\"#ed7953\"],[0.7777777777777778,\"#fb9f3a\"],[0.8888888888888888,\"#fdca26\"],[1.0,\"#f0f921\"]]}],\"heatmapgl\":[{\"type\":\"heatmapgl\",\"colorbar\":{\"outlinewidth\":0,\"ticks\":\"\"},\"colorscale\":[[0.0,\"#0d0887\"],[0.1111111111111111,\"#46039f\"],[0.2222222222222222,\"#7201a8\"],[0.3333333333333333,\"#9c179e\"],[0.4444444444444444,\"#bd3786\"],[0.5555555555555556,\"#d8576b\"],[0.6666666666666666,\"#ed7953\"],[0.7777777777777778,\"#fb9f3a\"],[0.8888888888888888,\"#fdca26\"],[1.0,\"#f0f921\"]]}],\"contourcarpet\":[{\"type\":\"contourcarpet\",\"colorbar\":{\"outlinewidth\":0,\"ticks\":\"\"}}],\"contour\":[{\"type\":\"contour\",\"colorbar\":{\"outlinewidth\":0,\"ticks\":\"\"},\"colorscale\":[[0.0,\"#0d0887\"],[0.1111111111111111,\"#46039f\"],[0.2222222222222222,\"#7201a8\"],[0.3333333333333333,\"#9c179e\"],[0.4444444444444444,\"#bd3786\"],[0.5555555555555556,\"#d8576b\"],[0.6666666666666666,\"#ed7953\"],[0.7777777777777778,\"#fb9f3a\"],[0.8888888888888888,\"#fdca26\"],[1.0,\"#f0f921\"]]}],\"surface\":[{\"type\":\"surface\",\"colorbar\":{\"outlinewidth\":0,\"ticks\":\"\"},\"colorscale\":[[0.0,\"#0d0887\"],[0.1111111111111111,\"#46039f\"],[0.2222222222222222,\"#7201a8\"],[0.3333333333333333,\"#9c179e\"],[0.4444444444444444,\"#bd3786\"],[0.5555555555555556,\"#d8576b\"],[0.6666666666666666,\"#ed7953\"],[0.7777777777777778,\"#fb9f3a\"],[0.8888888888888888,\"#fdca26\"],[1.0,\"#f0f921\"]]}],\"mesh3d\":[{\"type\":\"mesh3d\",\"colorbar\":{\"outlinewidth\":0,\"ticks\":\"\"}}],\"scatter\":[{\"fillpattern\":{\"fillmode\":\"overlay\",\"size\":10,\"solidity\":0.2},\"type\":\"scatter\"}],\"parcoords\":[{\"type\":\"parcoords\",\"line\":{\"colorbar\":{\"outlinewidth\":0,\"ticks\":\"\"}}}],\"scatterpolargl\":[{\"type\":\"scatterpolargl\",\"marker\":{\"colorbar\":{\"outlinewidth\":0,\"ticks\":\"\"}}}],\"bar\":[{\"error_x\":{\"color\":\"#2a3f5f\"},\"error_y\":{\"color\":\"#2a3f5f\"},\"marker\":{\"line\":{\"color\":\"#E5ECF6\",\"width\":0.5},\"pattern\":{\"fillmode\":\"overlay\",\"size\":10,\"solidity\":0.2}},\"type\":\"bar\"}],\"scattergeo\":[{\"type\":\"scattergeo\",\"marker\":{\"colorbar\":{\"outlinewidth\":0,\"ticks\":\"\"}}}],\"scatterpolar\":[{\"type\":\"scatterpolar\",\"marker\":{\"colorbar\":{\"outlinewidth\":0,\"ticks\":\"\"}}}],\"histogram\":[{\"marker\":{\"pattern\":{\"fillmode\":\"overlay\",\"size\":10,\"solidity\":0.2}},\"type\":\"histogram\"}],\"scattergl\":[{\"type\":\"scattergl\",\"marker\":{\"colorbar\":{\"outlinewidth\":0,\"ticks\":\"\"}}}],\"scatter3d\":[{\"type\":\"scatter3d\",\"line\":{\"colorbar\":{\"outlinewidth\":0,\"ticks\":\"\"}},\"marker\":{\"colorbar\":{\"outlinewidth\":0,\"ticks\":\"\"}}}],\"scattermapbox\":[{\"type\":\"scattermapbox\",\"marker\":{\"colorbar\":{\"outlinewidth\":0,\"ticks\":\"\"}}}],\"scatterternary\":[{\"type\":\"scatterternary\",\"marker\":{\"colorbar\":{\"outlinewidth\":0,\"ticks\":\"\"}}}],\"scattercarpet\":[{\"type\":\"scattercarpet\",\"marker\":{\"colorbar\":{\"outlinewidth\":0,\"ticks\":\"\"}}}],\"carpet\":[{\"aaxis\":{\"endlinecolor\":\"#2a3f5f\",\"gridcolor\":\"white\",\"linecolor\":\"white\",\"minorgridcolor\":\"white\",\"startlinecolor\":\"#2a3f5f\"},\"baxis\":{\"endlinecolor\":\"#2a3f5f\",\"gridcolor\":\"white\",\"linecolor\":\"white\",\"minorgridcolor\":\"white\",\"startlinecolor\":\"#2a3f5f\"},\"type\":\"carpet\"}],\"table\":[{\"cells\":{\"fill\":{\"color\":\"#EBF0F8\"},\"line\":{\"color\":\"white\"}},\"header\":{\"fill\":{\"color\":\"#C8D4E3\"},\"line\":{\"color\":\"white\"}},\"type\":\"table\"}],\"barpolar\":[{\"marker\":{\"line\":{\"color\":\"#E5ECF6\",\"width\":0.5},\"pattern\":{\"fillmode\":\"overlay\",\"size\":10,\"solidity\":0.2}},\"type\":\"barpolar\"}],\"pie\":[{\"automargin\":true,\"type\":\"pie\"}]},\"layout\":{\"autotypenumbers\":\"strict\",\"colorway\":[\"#636efa\",\"#EF553B\",\"#00cc96\",\"#ab63fa\",\"#FFA15A\",\"#19d3f3\",\"#FF6692\",\"#B6E880\",\"#FF97FF\",\"#FECB52\"],\"font\":{\"color\":\"#2a3f5f\"},\"hovermode\":\"closest\",\"hoverlabel\":{\"align\":\"left\"},\"paper_bgcolor\":\"white\",\"plot_bgcolor\":\"#E5ECF6\",\"polar\":{\"bgcolor\":\"#E5ECF6\",\"angularaxis\":{\"gridcolor\":\"white\",\"linecolor\":\"white\",\"ticks\":\"\"},\"radialaxis\":{\"gridcolor\":\"white\",\"linecolor\":\"white\",\"ticks\":\"\"}},\"ternary\":{\"bgcolor\":\"#E5ECF6\",\"aaxis\":{\"gridcolor\":\"white\",\"linecolor\":\"white\",\"ticks\":\"\"},\"baxis\":{\"gridcolor\":\"white\",\"linecolor\":\"white\",\"ticks\":\"\"},\"caxis\":{\"gridcolor\":\"white\",\"linecolor\":\"white\",\"ticks\":\"\"}},\"coloraxis\":{\"colorbar\":{\"outlinewidth\":0,\"ticks\":\"\"}},\"colorscale\":{\"sequential\":[[0.0,\"#0d0887\"],[0.1111111111111111,\"#46039f\"],[0.2222222222222222,\"#7201a8\"],[0.3333333333333333,\"#9c179e\"],[0.4444444444444444,\"#bd3786\"],[0.5555555555555556,\"#d8576b\"],[0.6666666666666666,\"#ed7953\"],[0.7777777777777778,\"#fb9f3a\"],[0.8888888888888888,\"#fdca26\"],[1.0,\"#f0f921\"]],\"sequentialminus\":[[0.0,\"#0d0887\"],[0.1111111111111111,\"#46039f\"],[0.2222222222222222,\"#7201a8\"],[0.3333333333333333,\"#9c179e\"],[0.4444444444444444,\"#bd3786\"],[0.5555555555555556,\"#d8576b\"],[0.6666666666666666,\"#ed7953\"],[0.7777777777777778,\"#fb9f3a\"],[0.8888888888888888,\"#fdca26\"],[1.0,\"#f0f921\"]],\"diverging\":[[0,\"#8e0152\"],[0.1,\"#c51b7d\"],[0.2,\"#de77ae\"],[0.3,\"#f1b6da\"],[0.4,\"#fde0ef\"],[0.5,\"#f7f7f7\"],[0.6,\"#e6f5d0\"],[0.7,\"#b8e186\"],[0.8,\"#7fbc41\"],[0.9,\"#4d9221\"],[1,\"#276419\"]]},\"xaxis\":{\"gridcolor\":\"white\",\"linecolor\":\"white\",\"ticks\":\"\",\"title\":{\"standoff\":15},\"zerolinecolor\":\"white\",\"automargin\":true,\"zerolinewidth\":2},\"yaxis\":{\"gridcolor\":\"white\",\"linecolor\":\"white\",\"ticks\":\"\",\"title\":{\"standoff\":15},\"zerolinecolor\":\"white\",\"automargin\":true,\"zerolinewidth\":2},\"scene\":{\"xaxis\":{\"backgroundcolor\":\"#E5ECF6\",\"gridcolor\":\"white\",\"linecolor\":\"white\",\"showbackground\":true,\"ticks\":\"\",\"zerolinecolor\":\"white\",\"gridwidth\":2},\"yaxis\":{\"backgroundcolor\":\"#E5ECF6\",\"gridcolor\":\"white\",\"linecolor\":\"white\",\"showbackground\":true,\"ticks\":\"\",\"zerolinecolor\":\"white\",\"gridwidth\":2},\"zaxis\":{\"backgroundcolor\":\"#E5ECF6\",\"gridcolor\":\"white\",\"linecolor\":\"white\",\"showbackground\":true,\"ticks\":\"\",\"zerolinecolor\":\"white\",\"gridwidth\":2}},\"shapedefaults\":{\"line\":{\"color\":\"#2a3f5f\"}},\"annotationdefaults\":{\"arrowcolor\":\"#2a3f5f\",\"arrowhead\":0,\"arrowwidth\":1},\"geo\":{\"bgcolor\":\"white\",\"landcolor\":\"#E5ECF6\",\"subunitcolor\":\"white\",\"showland\":true,\"showlakes\":true,\"lakecolor\":\"white\"},\"title\":{\"x\":0.05},\"mapbox\":{\"style\":\"light\"}}},\"xaxis\":{\"anchor\":\"y\",\"domain\":[0.0,1.0],\"title\":{\"text\":\"Column Name\"}},\"yaxis\":{\"anchor\":\"x\",\"domain\":[0.0,1.0],\"title\":{\"text\":\"Number of Missing Values\"}},\"legend\":{\"tracegroupgap\":0},\"title\":{\"text\":\"Missing Values in the Dataset\"},\"barmode\":\"relative\"},                        {\"responsive\": true}                    ).then(function(){\n",
              "                            \n",
              "var gd = document.getElementById('744e885e-b368-453b-8d79-96d359da0a51');\n",
              "var x = new MutationObserver(function (mutations, observer) {{\n",
              "        var display = window.getComputedStyle(gd).display;\n",
              "        if (!display || display === 'none') {{\n",
              "            console.log([gd, 'removed!']);\n",
              "            Plotly.purge(gd);\n",
              "            observer.disconnect();\n",
              "        }}\n",
              "}});\n",
              "\n",
              "// Listen for the removal of the full notebook cells\n",
              "var notebookContainer = gd.closest('#notebook-container');\n",
              "if (notebookContainer) {{\n",
              "    x.observe(notebookContainer, {childList: true});\n",
              "}}\n",
              "\n",
              "// Listen for the clearing of the current output cell\n",
              "var outputEl = gd.closest('.output');\n",
              "if (outputEl) {{\n",
              "    x.observe(outputEl, {childList: true});\n",
              "}}\n",
              "\n",
              "                        })                };                            </script>        </div>\n",
              "</body>\n",
              "</html>"
            ]
          },
          "metadata": {}
        }
      ]
    },
    {
      "cell_type": "code",
      "source": [
        "# Check the distribution of the target variable\n",
        "print(\"\\nDistribution of the target variable:\")\n",
        "print(Al_Boghdady_Binary_Dataset['isMalicious'].value_counts())"
      ],
      "metadata": {
        "colab": {
          "base_uri": "https://localhost:8080/"
        },
        "id": "JhhJ7cS-VU2p",
        "outputId": "215016d2-0234-416d-c75a-06b8f146e7f0"
      },
      "execution_count": null,
      "outputs": [
        {
          "output_type": "stream",
          "name": "stdout",
          "text": [
            "\n",
            "Distribution of the target variable:\n",
            "Vulnerable Code    3164\n",
            "Benign Code        1953\n",
            "Name: isMalicious, dtype: int64\n"
          ]
        }
      ]
    },
    {
      "cell_type": "code",
      "source": [
        "import plotly.express as px\n",
        "\n",
        "# Check the distribution of the target variable\n",
        "target_distribution = Al_Boghdady_Binary_Dataset['isMalicious'].value_counts()\n",
        "\n",
        "# Create a bar chart using Plotly Express\n",
        "fig = px.bar(x=target_distribution.index, y=target_distribution.values, labels={'x': 'Target Variable', 'y': 'Count'},\n",
        "             title='Distribution of the Target Variable', color=target_distribution.index)\n",
        "\n",
        "# Show the interactive plot\n",
        "fig.show()"
      ],
      "metadata": {
        "colab": {
          "base_uri": "https://localhost:8080/",
          "height": 542
        },
        "id": "Y0N0mkRXeBks",
        "outputId": "859b928f-2f6e-489d-9213-0cb2d24af641"
      },
      "execution_count": null,
      "outputs": [
        {
          "output_type": "display_data",
          "data": {
            "text/html": [
              "<html>\n",
              "<head><meta charset=\"utf-8\" /></head>\n",
              "<body>\n",
              "    <div>            <script src=\"https://cdnjs.cloudflare.com/ajax/libs/mathjax/2.7.5/MathJax.js?config=TeX-AMS-MML_SVG\"></script><script type=\"text/javascript\">if (window.MathJax && window.MathJax.Hub && window.MathJax.Hub.Config) {window.MathJax.Hub.Config({SVG: {font: \"STIX-Web\"}});}</script>                <script type=\"text/javascript\">window.PlotlyConfig = {MathJaxConfig: 'local'};</script>\n",
              "        <script charset=\"utf-8\" src=\"https://cdn.plot.ly/plotly-2.24.1.min.js\"></script>                <div id=\"14996f45-6993-48d5-9df8-074bf294e0db\" class=\"plotly-graph-div\" style=\"height:525px; width:100%;\"></div>            <script type=\"text/javascript\">                                    window.PLOTLYENV=window.PLOTLYENV || {};                                    if (document.getElementById(\"14996f45-6993-48d5-9df8-074bf294e0db\")) {                    Plotly.newPlot(                        \"14996f45-6993-48d5-9df8-074bf294e0db\",                        [{\"alignmentgroup\":\"True\",\"hovertemplate\":\"color=Vulnerable Code\\u003cbr\\u003eTarget Variable=%{x}\\u003cbr\\u003eCount=%{y}\\u003cextra\\u003e\\u003c\\u002fextra\\u003e\",\"legendgroup\":\"Vulnerable Code\",\"marker\":{\"color\":\"#636efa\",\"pattern\":{\"shape\":\"\"}},\"name\":\"Vulnerable Code\",\"offsetgroup\":\"Vulnerable Code\",\"orientation\":\"v\",\"showlegend\":true,\"textposition\":\"auto\",\"x\":[\"Vulnerable Code\"],\"xaxis\":\"x\",\"y\":[3164],\"yaxis\":\"y\",\"type\":\"bar\"},{\"alignmentgroup\":\"True\",\"hovertemplate\":\"color=Benign Code\\u003cbr\\u003eTarget Variable=%{x}\\u003cbr\\u003eCount=%{y}\\u003cextra\\u003e\\u003c\\u002fextra\\u003e\",\"legendgroup\":\"Benign Code\",\"marker\":{\"color\":\"#EF553B\",\"pattern\":{\"shape\":\"\"}},\"name\":\"Benign Code\",\"offsetgroup\":\"Benign Code\",\"orientation\":\"v\",\"showlegend\":true,\"textposition\":\"auto\",\"x\":[\"Benign Code\"],\"xaxis\":\"x\",\"y\":[1953],\"yaxis\":\"y\",\"type\":\"bar\"}],                        {\"template\":{\"data\":{\"histogram2dcontour\":[{\"type\":\"histogram2dcontour\",\"colorbar\":{\"outlinewidth\":0,\"ticks\":\"\"},\"colorscale\":[[0.0,\"#0d0887\"],[0.1111111111111111,\"#46039f\"],[0.2222222222222222,\"#7201a8\"],[0.3333333333333333,\"#9c179e\"],[0.4444444444444444,\"#bd3786\"],[0.5555555555555556,\"#d8576b\"],[0.6666666666666666,\"#ed7953\"],[0.7777777777777778,\"#fb9f3a\"],[0.8888888888888888,\"#fdca26\"],[1.0,\"#f0f921\"]]}],\"choropleth\":[{\"type\":\"choropleth\",\"colorbar\":{\"outlinewidth\":0,\"ticks\":\"\"}}],\"histogram2d\":[{\"type\":\"histogram2d\",\"colorbar\":{\"outlinewidth\":0,\"ticks\":\"\"},\"colorscale\":[[0.0,\"#0d0887\"],[0.1111111111111111,\"#46039f\"],[0.2222222222222222,\"#7201a8\"],[0.3333333333333333,\"#9c179e\"],[0.4444444444444444,\"#bd3786\"],[0.5555555555555556,\"#d8576b\"],[0.6666666666666666,\"#ed7953\"],[0.7777777777777778,\"#fb9f3a\"],[0.8888888888888888,\"#fdca26\"],[1.0,\"#f0f921\"]]}],\"heatmap\":[{\"type\":\"heatmap\",\"colorbar\":{\"outlinewidth\":0,\"ticks\":\"\"},\"colorscale\":[[0.0,\"#0d0887\"],[0.1111111111111111,\"#46039f\"],[0.2222222222222222,\"#7201a8\"],[0.3333333333333333,\"#9c179e\"],[0.4444444444444444,\"#bd3786\"],[0.5555555555555556,\"#d8576b\"],[0.6666666666666666,\"#ed7953\"],[0.7777777777777778,\"#fb9f3a\"],[0.8888888888888888,\"#fdca26\"],[1.0,\"#f0f921\"]]}],\"heatmapgl\":[{\"type\":\"heatmapgl\",\"colorbar\":{\"outlinewidth\":0,\"ticks\":\"\"},\"colorscale\":[[0.0,\"#0d0887\"],[0.1111111111111111,\"#46039f\"],[0.2222222222222222,\"#7201a8\"],[0.3333333333333333,\"#9c179e\"],[0.4444444444444444,\"#bd3786\"],[0.5555555555555556,\"#d8576b\"],[0.6666666666666666,\"#ed7953\"],[0.7777777777777778,\"#fb9f3a\"],[0.8888888888888888,\"#fdca26\"],[1.0,\"#f0f921\"]]}],\"contourcarpet\":[{\"type\":\"contourcarpet\",\"colorbar\":{\"outlinewidth\":0,\"ticks\":\"\"}}],\"contour\":[{\"type\":\"contour\",\"colorbar\":{\"outlinewidth\":0,\"ticks\":\"\"},\"colorscale\":[[0.0,\"#0d0887\"],[0.1111111111111111,\"#46039f\"],[0.2222222222222222,\"#7201a8\"],[0.3333333333333333,\"#9c179e\"],[0.4444444444444444,\"#bd3786\"],[0.5555555555555556,\"#d8576b\"],[0.6666666666666666,\"#ed7953\"],[0.7777777777777778,\"#fb9f3a\"],[0.8888888888888888,\"#fdca26\"],[1.0,\"#f0f921\"]]}],\"surface\":[{\"type\":\"surface\",\"colorbar\":{\"outlinewidth\":0,\"ticks\":\"\"},\"colorscale\":[[0.0,\"#0d0887\"],[0.1111111111111111,\"#46039f\"],[0.2222222222222222,\"#7201a8\"],[0.3333333333333333,\"#9c179e\"],[0.4444444444444444,\"#bd3786\"],[0.5555555555555556,\"#d8576b\"],[0.6666666666666666,\"#ed7953\"],[0.7777777777777778,\"#fb9f3a\"],[0.8888888888888888,\"#fdca26\"],[1.0,\"#f0f921\"]]}],\"mesh3d\":[{\"type\":\"mesh3d\",\"colorbar\":{\"outlinewidth\":0,\"ticks\":\"\"}}],\"scatter\":[{\"fillpattern\":{\"fillmode\":\"overlay\",\"size\":10,\"solidity\":0.2},\"type\":\"scatter\"}],\"parcoords\":[{\"type\":\"parcoords\",\"line\":{\"colorbar\":{\"outlinewidth\":0,\"ticks\":\"\"}}}],\"scatterpolargl\":[{\"type\":\"scatterpolargl\",\"marker\":{\"colorbar\":{\"outlinewidth\":0,\"ticks\":\"\"}}}],\"bar\":[{\"error_x\":{\"color\":\"#2a3f5f\"},\"error_y\":{\"color\":\"#2a3f5f\"},\"marker\":{\"line\":{\"color\":\"#E5ECF6\",\"width\":0.5},\"pattern\":{\"fillmode\":\"overlay\",\"size\":10,\"solidity\":0.2}},\"type\":\"bar\"}],\"scattergeo\":[{\"type\":\"scattergeo\",\"marker\":{\"colorbar\":{\"outlinewidth\":0,\"ticks\":\"\"}}}],\"scatterpolar\":[{\"type\":\"scatterpolar\",\"marker\":{\"colorbar\":{\"outlinewidth\":0,\"ticks\":\"\"}}}],\"histogram\":[{\"marker\":{\"pattern\":{\"fillmode\":\"overlay\",\"size\":10,\"solidity\":0.2}},\"type\":\"histogram\"}],\"scattergl\":[{\"type\":\"scattergl\",\"marker\":{\"colorbar\":{\"outlinewidth\":0,\"ticks\":\"\"}}}],\"scatter3d\":[{\"type\":\"scatter3d\",\"line\":{\"colorbar\":{\"outlinewidth\":0,\"ticks\":\"\"}},\"marker\":{\"colorbar\":{\"outlinewidth\":0,\"ticks\":\"\"}}}],\"scattermapbox\":[{\"type\":\"scattermapbox\",\"marker\":{\"colorbar\":{\"outlinewidth\":0,\"ticks\":\"\"}}}],\"scatterternary\":[{\"type\":\"scatterternary\",\"marker\":{\"colorbar\":{\"outlinewidth\":0,\"ticks\":\"\"}}}],\"scattercarpet\":[{\"type\":\"scattercarpet\",\"marker\":{\"colorbar\":{\"outlinewidth\":0,\"ticks\":\"\"}}}],\"carpet\":[{\"aaxis\":{\"endlinecolor\":\"#2a3f5f\",\"gridcolor\":\"white\",\"linecolor\":\"white\",\"minorgridcolor\":\"white\",\"startlinecolor\":\"#2a3f5f\"},\"baxis\":{\"endlinecolor\":\"#2a3f5f\",\"gridcolor\":\"white\",\"linecolor\":\"white\",\"minorgridcolor\":\"white\",\"startlinecolor\":\"#2a3f5f\"},\"type\":\"carpet\"}],\"table\":[{\"cells\":{\"fill\":{\"color\":\"#EBF0F8\"},\"line\":{\"color\":\"white\"}},\"header\":{\"fill\":{\"color\":\"#C8D4E3\"},\"line\":{\"color\":\"white\"}},\"type\":\"table\"}],\"barpolar\":[{\"marker\":{\"line\":{\"color\":\"#E5ECF6\",\"width\":0.5},\"pattern\":{\"fillmode\":\"overlay\",\"size\":10,\"solidity\":0.2}},\"type\":\"barpolar\"}],\"pie\":[{\"automargin\":true,\"type\":\"pie\"}]},\"layout\":{\"autotypenumbers\":\"strict\",\"colorway\":[\"#636efa\",\"#EF553B\",\"#00cc96\",\"#ab63fa\",\"#FFA15A\",\"#19d3f3\",\"#FF6692\",\"#B6E880\",\"#FF97FF\",\"#FECB52\"],\"font\":{\"color\":\"#2a3f5f\"},\"hovermode\":\"closest\",\"hoverlabel\":{\"align\":\"left\"},\"paper_bgcolor\":\"white\",\"plot_bgcolor\":\"#E5ECF6\",\"polar\":{\"bgcolor\":\"#E5ECF6\",\"angularaxis\":{\"gridcolor\":\"white\",\"linecolor\":\"white\",\"ticks\":\"\"},\"radialaxis\":{\"gridcolor\":\"white\",\"linecolor\":\"white\",\"ticks\":\"\"}},\"ternary\":{\"bgcolor\":\"#E5ECF6\",\"aaxis\":{\"gridcolor\":\"white\",\"linecolor\":\"white\",\"ticks\":\"\"},\"baxis\":{\"gridcolor\":\"white\",\"linecolor\":\"white\",\"ticks\":\"\"},\"caxis\":{\"gridcolor\":\"white\",\"linecolor\":\"white\",\"ticks\":\"\"}},\"coloraxis\":{\"colorbar\":{\"outlinewidth\":0,\"ticks\":\"\"}},\"colorscale\":{\"sequential\":[[0.0,\"#0d0887\"],[0.1111111111111111,\"#46039f\"],[0.2222222222222222,\"#7201a8\"],[0.3333333333333333,\"#9c179e\"],[0.4444444444444444,\"#bd3786\"],[0.5555555555555556,\"#d8576b\"],[0.6666666666666666,\"#ed7953\"],[0.7777777777777778,\"#fb9f3a\"],[0.8888888888888888,\"#fdca26\"],[1.0,\"#f0f921\"]],\"sequentialminus\":[[0.0,\"#0d0887\"],[0.1111111111111111,\"#46039f\"],[0.2222222222222222,\"#7201a8\"],[0.3333333333333333,\"#9c179e\"],[0.4444444444444444,\"#bd3786\"],[0.5555555555555556,\"#d8576b\"],[0.6666666666666666,\"#ed7953\"],[0.7777777777777778,\"#fb9f3a\"],[0.8888888888888888,\"#fdca26\"],[1.0,\"#f0f921\"]],\"diverging\":[[0,\"#8e0152\"],[0.1,\"#c51b7d\"],[0.2,\"#de77ae\"],[0.3,\"#f1b6da\"],[0.4,\"#fde0ef\"],[0.5,\"#f7f7f7\"],[0.6,\"#e6f5d0\"],[0.7,\"#b8e186\"],[0.8,\"#7fbc41\"],[0.9,\"#4d9221\"],[1,\"#276419\"]]},\"xaxis\":{\"gridcolor\":\"white\",\"linecolor\":\"white\",\"ticks\":\"\",\"title\":{\"standoff\":15},\"zerolinecolor\":\"white\",\"automargin\":true,\"zerolinewidth\":2},\"yaxis\":{\"gridcolor\":\"white\",\"linecolor\":\"white\",\"ticks\":\"\",\"title\":{\"standoff\":15},\"zerolinecolor\":\"white\",\"automargin\":true,\"zerolinewidth\":2},\"scene\":{\"xaxis\":{\"backgroundcolor\":\"#E5ECF6\",\"gridcolor\":\"white\",\"linecolor\":\"white\",\"showbackground\":true,\"ticks\":\"\",\"zerolinecolor\":\"white\",\"gridwidth\":2},\"yaxis\":{\"backgroundcolor\":\"#E5ECF6\",\"gridcolor\":\"white\",\"linecolor\":\"white\",\"showbackground\":true,\"ticks\":\"\",\"zerolinecolor\":\"white\",\"gridwidth\":2},\"zaxis\":{\"backgroundcolor\":\"#E5ECF6\",\"gridcolor\":\"white\",\"linecolor\":\"white\",\"showbackground\":true,\"ticks\":\"\",\"zerolinecolor\":\"white\",\"gridwidth\":2}},\"shapedefaults\":{\"line\":{\"color\":\"#2a3f5f\"}},\"annotationdefaults\":{\"arrowcolor\":\"#2a3f5f\",\"arrowhead\":0,\"arrowwidth\":1},\"geo\":{\"bgcolor\":\"white\",\"landcolor\":\"#E5ECF6\",\"subunitcolor\":\"white\",\"showland\":true,\"showlakes\":true,\"lakecolor\":\"white\"},\"title\":{\"x\":0.05},\"mapbox\":{\"style\":\"light\"}}},\"xaxis\":{\"anchor\":\"y\",\"domain\":[0.0,1.0],\"title\":{\"text\":\"Target Variable\"}},\"yaxis\":{\"anchor\":\"x\",\"domain\":[0.0,1.0],\"title\":{\"text\":\"Count\"}},\"legend\":{\"title\":{\"text\":\"color\"},\"tracegroupgap\":0},\"title\":{\"text\":\"Distribution of the Target Variable\"},\"barmode\":\"relative\"},                        {\"responsive\": true}                    ).then(function(){\n",
              "                            \n",
              "var gd = document.getElementById('14996f45-6993-48d5-9df8-074bf294e0db');\n",
              "var x = new MutationObserver(function (mutations, observer) {{\n",
              "        var display = window.getComputedStyle(gd).display;\n",
              "        if (!display || display === 'none') {{\n",
              "            console.log([gd, 'removed!']);\n",
              "            Plotly.purge(gd);\n",
              "            observer.disconnect();\n",
              "        }}\n",
              "}});\n",
              "\n",
              "// Listen for the removal of the full notebook cells\n",
              "var notebookContainer = gd.closest('#notebook-container');\n",
              "if (notebookContainer) {{\n",
              "    x.observe(notebookContainer, {childList: true});\n",
              "}}\n",
              "\n",
              "// Listen for the clearing of the current output cell\n",
              "var outputEl = gd.closest('.output');\n",
              "if (outputEl) {{\n",
              "    x.observe(outputEl, {childList: true});\n",
              "}}\n",
              "\n",
              "                        })                };                            </script>        </div>\n",
              "</body>\n",
              "</html>"
            ]
          },
          "metadata": {}
        }
      ]
    },
    {
      "cell_type": "code",
      "execution_count": null,
      "metadata": {
        "colab": {
          "base_uri": "https://localhost:8080/"
        },
        "id": "nhUsnF6QUKuJ",
        "outputId": "6fc6a4f7-1365-493b-e789-21be575e1bfe"
      },
      "outputs": [
        {
          "output_type": "execute_result",
          "data": {
            "text/plain": [
              "(5117, 2)"
            ]
          },
          "metadata": {},
          "execution_count": 22
        }
      ],
      "source": [
        "Al_Boghdady_Binary_Dataset.shape"
      ]
    },
    {
      "cell_type": "code",
      "execution_count": null,
      "metadata": {
        "colab": {
          "base_uri": "https://localhost:8080/"
        },
        "id": "eCH6z8KXUKuJ",
        "outputId": "85c88344-d63e-4a19-8ecb-de2806a012a2"
      },
      "outputs": [
        {
          "output_type": "execute_result",
          "data": {
            "text/plain": [
              "(4810, 2)"
            ]
          },
          "metadata": {},
          "execution_count": 23
        }
      ],
      "source": [
        "# Checking for duplicate rows or null values\n",
        "Al_Boghdady_Binary_Dataset.dropna(inplace=True)\n",
        "Al_Boghdady_Binary_Dataset.drop_duplicates(inplace=True)\n",
        "Al_Boghdady_Binary_Dataset.shape"
      ]
    },
    {
      "cell_type": "markdown",
      "source": [
        "# Preprocessing for Machine Learning Classification\n",
        "\n",
        "In the realm of machine learning, classifiers often require input in the form of fixed-length feature vectors. When dealing with unstructured textual data, a common challenge arises: how do we convert this unstructured information into a numerical array that is meaningful for machine learning algorithms?\n",
        "\n",
        "The process of converting unstructured text into a format suitable for machine learning is known as preprocessing. This critical step involves transforming raw textual data into a structured and numerical representation that machine learning models can comprehend and learn from.\n",
        "\n",
        "In our specific context, where the goal is to detect vulnerabilities in IoT operating system source code, preprocessing plays a pivotal role. We are dealing with code snippets written in C/C++, and it's essential to convert this code into a format that can be fed into machine learning classifiers. This ensures that the algorithms can effectively identify patterns and make informed predictions.\n",
        "\n",
        "The subsequent sections will delve into the preprocessing steps undertaken to convert the raw textual data of IoT operating system source code into a feature vector of fixed length. This transformation is integral to the success of our machine learning models, ultimately contributing to the accurate detection of vulnerabilities in the codebase.\n",
        "\n",
        "Understanding and implementing preprocessing steps allow us to bridge the gap between the inherent structure of code and the requirements of machine learning algorithms, facilitating a seamless integration of textual data into the classification pipeline."
      ],
      "metadata": {
        "id": "t6hHOtz7eMop"
      }
    },
    {
      "cell_type": "markdown",
      "source": [
        "## Tokenization\n",
        "Tokenization serves as the foundational step in the process of transforming our data into a format suitable for analysis. Particularly crucial in Natural Language Processing (NLP) projects, tokenization involves breaking down each textual \"document,\" in this context, code snippets, into individual character substrings known as tokens.\n",
        "\n",
        "The tokens extracted from the code snippets lay the groundwork for constructing a set of words, commonly referred to as a vocabulary. This vocabulary becomes instrumental in the subsequent vectorization of the text, a process essential for many NLP tasks. While tokenization for regular English text often involves simple separation of words with space characters and punctuation, this approach may have limitations.\n",
        "\n",
        "For datasets like code snippets, advanced tokenization techniques are necessary. Packages such as nltk or spacy offer sophisticated tokenizers that are adept at handling code-related structures and nuances. Implementing a robust tokenization strategy is pivotal for generating a meaningful and comprehensive vocabulary, laying the groundwork for subsequent data analysis and machine learning tasks."
      ],
      "metadata": {
        "id": "05cu46FtePvf"
      }
    },
    {
      "cell_type": "markdown",
      "source": [
        "##Data Split\n",
        "\n",
        "\n",
        "The dataset is split into training and testing sets, with code snippets stored in the variable Code_Snippet and corresponding tags (malicious or benign) in Code_Tag for further analysis and model evaluation."
      ],
      "metadata": {
        "id": "Fadi66_meVFz"
      }
    },
    {
      "cell_type": "code",
      "execution_count": null,
      "metadata": {
        "id": "OGSxSO74UKuM"
      },
      "outputs": [],
      "source": [
        "# Dataset split for training and testing.\n",
        "Code_Snippet, Code_Tag = Al_Boghdady_Binary_Dataset.code, Al_Boghdady_Binary_Dataset.isMalicious"
      ]
    },
    {
      "cell_type": "markdown",
      "metadata": {
        "id": "0xYd-iS0UKuM"
      },
      "source": [
        "##Cleanup\n",
        "In the cleanup phase, eliminate single-character variable names or sequences of the same character (e.g., xxx) for enhanced code readability and maintainability."
      ]
    },
    {
      "cell_type": "code",
      "execution_count": null,
      "metadata": {
        "id": "0-95m1vEUKuM"
      },
      "outputs": [],
      "source": [
        "# Cleaning-up\n",
        "def preprocess(Code_Snippet):\n",
        "    return pd.Series(Code_Snippet).replace(r'\\b([A-Za-z])\\1+\\b', '', regex=True)\\\n",
        "        .replace(r'\\b[A-Za-z]\\b', '', regex=True)\n",
        "transformer = FunctionTransformer(preprocess)"
      ]
    },
    {
      "cell_type": "markdown",
      "source": [
        "##Term Frequency - Inverse Document Frequency\n",
        "\n",
        "In the context of code analysis, traditional NLP steps like lemmatization or stemming may lead to information loss, given that code is not a \"natural\" language. To preserve the distinctive structure of programming languages and pinpoint key discriminative keywords, we skip lemmatization/stemming and directly proceed to vectorization.\n",
        "\n",
        "Our chosen vectorization method is TF-IDF (term frequency-inverse document frequency), which represents each source code document with an M-sized array. Each element in the array corresponds to the scaled frequency of a token in the document. The TF-IDF factor for a token (i) in a document (d) is computed using the formula:\n",
        "\n",
        "###TF-IDF(i,d)=TF(i,d)×IDF(i)###\n",
        "\n",
        "Here, TF denotes term frequency, and IDF is the inverse document frequency. The IDF factor aims to diminish the weight of tokens that appear frequently across all documents (e.g., common operators like '='), providing a scaled representation that emphasizes tokens with higher information content about the document's nature."
      ],
      "metadata": {
        "id": "_HCUc4rQegOg"
      }
    },
    {
      "cell_type": "code",
      "execution_count": null,
      "metadata": {
        "id": "i3tytkkuUKuM"
      },
      "outputs": [],
      "source": [
        "token_pattern = r\"\"\"([A-Za-z_]\\w*\\b|[!\\#\\$%\\&\\*\\+:\\-\\./<=>\\?@\\\\\\^_\\|\\~]+|[ \\t\\(\\),;\\{\\}\\[\\]\"'`])\"\"\"\n",
        "vectorizer = TfidfVectorizer(token_pattern=token_pattern, max_features=3000)\n",
        "Code_Snippet_train, Code_Snippet_test, Code_Tag_train, Code_Tag_test = train_test_split(Code_Snippet, Code_Tag, test_size=0.15, shuffle=True)\n"
      ]
    },
    {
      "cell_type": "markdown",
      "source": [
        "In the above cell, a custom token pattern is defined using a regular expression (token_pattern) to capture relevant elements in the source code. The TF-IDF vectorization is then applied using Scikit-learn's TfidfVectorizer. Additionally, the parameter max_features is employed to restrict the features to the top 3000 tokens based on their term frequency across the corpus. This strategic use of max_features aims to enhance computational efficiency, mitigate overfitting, and streamline the feature set for improved model performance. The dataset is subsequently split into training and testing sets using train_test_split."
      ],
      "metadata": {
        "id": "lKKtbOfCekDr"
      }
    },
    {
      "cell_type": "markdown",
      "metadata": {
        "id": "KAQioUBvUKuM"
      },
      "source": [
        "# Support Vector Machine (SVM) for Binary Classification\n",
        "\n",
        "* Support Vector Machine (SVM) classifier is employed for binary classification on the given dataset. The SVM model is implemented using the scikit-learn library, and a pipeline is set up to include preprocessing, vectorization, and the SVM classifier. The best hyperparameters for the SVM model, such as regularization parameter and kernel type, are carefully selected to optimize the model's performance.\n",
        "\n",
        "* The SVM binary classification model demonstrates high accuracy, achieving an accuracy score of approximately 96.68% on the test dataset. This indicates the effectiveness of the SVM algorithm in distinguishing between the two classes in the binary classification problem. The model's performance can be further analyzed through additional metrics such as precision, recall, and the F1-score, providing a comprehensive understanding of its strengths and potential areas for improvement."
      ]
    },
    {
      "cell_type": "code",
      "execution_count": null,
      "metadata": {
        "colab": {
          "base_uri": "https://localhost:8080/"
        },
        "id": "iJfONvLZUKuM",
        "outputId": "3850cb1f-f9f2-4730-b225-43fe9b3199e6"
      },
      "outputs": [
        {
          "output_type": "stream",
          "name": "stdout",
          "text": [
            "Accuracy: 0.9667590027700831\n"
          ]
        }
      ],
      "source": [
        "#Defining the Training Model Classifier for Binary Classification\n",
        "\n",
        "# Create a Decision Tree classifier\n",
        "clf_svm = SVC()\n",
        "\n",
        "# Create a pipeline\n",
        "pipe_SVM = Pipeline([\n",
        "   ('preprocessing', transformer),\n",
        "    ('vectorizer', vectorizer),\n",
        "    ('clf', clf_svm)]\n",
        ")\n",
        "\n",
        "# Setting the best parameters for Decision Tree\n",
        "best_params_svm = {\n",
        "    'clf__C': 1.0,  # Regularization parameter\n",
        "    'clf__kernel': 'rbf',  # You can also try other kernels like 'linear', 'poly', etc.\n",
        "    'clf__gamma': 'scale',  # Kernel coefficient for 'rbf', 'poly', and 'sigmoid'\n",
        "}\n",
        "\n",
        "\n",
        "\n",
        "# Set the parameters for the pipeline\n",
        "pipe_SVM.set_params(**best_params_svm)\n",
        "\n",
        "\n",
        "# Fitting the model\n",
        "pipe_SVM.fit(Code_Snippet_train, Code_Tag_train)\n",
        "\n",
        "\n",
        "# Evaluation of the training model\n",
        "print(f'Accuracy: {pipe_SVM.score(Code_Snippet_test, Code_Tag_test)}')\n"
      ]
    },
    {
      "cell_type": "code",
      "execution_count": null,
      "metadata": {
        "id": "_9xJw7npUKuN"
      },
      "outputs": [],
      "source": [
        "pred = pipe_SVM.predict(Code_Snippet_test)"
      ]
    },
    {
      "cell_type": "code",
      "execution_count": null,
      "metadata": {
        "scrolled": true,
        "colab": {
          "base_uri": "https://localhost:8080/"
        },
        "id": "cijGPcdoUKuN",
        "outputId": "8e2f0ed8-f750-486b-8155-6a588f684e59"
      },
      "outputs": [
        {
          "output_type": "execute_result",
          "data": {
            "text/plain": [
              "array(['Vulnerable Code', 'Benign Code', 'Vulnerable Code',\n",
              "       'Vulnerable Code', 'Benign Code', 'Vulnerable Code',\n",
              "       'Vulnerable Code', 'Vulnerable Code', 'Vulnerable Code',\n",
              "       'Vulnerable Code', 'Benign Code', 'Vulnerable Code',\n",
              "       'Vulnerable Code', 'Vulnerable Code', 'Vulnerable Code',\n",
              "       'Benign Code', 'Vulnerable Code', 'Benign Code', 'Vulnerable Code',\n",
              "       'Vulnerable Code', 'Benign Code', 'Vulnerable Code',\n",
              "       'Vulnerable Code', 'Vulnerable Code', 'Benign Code', 'Benign Code',\n",
              "       'Vulnerable Code', 'Vulnerable Code', 'Vulnerable Code',\n",
              "       'Vulnerable Code', 'Vulnerable Code', 'Vulnerable Code',\n",
              "       'Vulnerable Code', 'Vulnerable Code', 'Vulnerable Code',\n",
              "       'Vulnerable Code', 'Vulnerable Code', 'Benign Code',\n",
              "       'Vulnerable Code', 'Vulnerable Code', 'Vulnerable Code',\n",
              "       'Vulnerable Code', 'Benign Code', 'Vulnerable Code',\n",
              "       'Vulnerable Code', 'Vulnerable Code', 'Vulnerable Code',\n",
              "       'Vulnerable Code', 'Vulnerable Code', 'Benign Code',\n",
              "       'Vulnerable Code', 'Vulnerable Code', 'Vulnerable Code',\n",
              "       'Vulnerable Code', 'Vulnerable Code', 'Vulnerable Code',\n",
              "       'Vulnerable Code', 'Benign Code', 'Benign Code', 'Benign Code',\n",
              "       'Benign Code', 'Benign Code', 'Benign Code', 'Vulnerable Code',\n",
              "       'Benign Code', 'Vulnerable Code', 'Benign Code', 'Benign Code',\n",
              "       'Benign Code', 'Benign Code', 'Benign Code', 'Vulnerable Code',\n",
              "       'Vulnerable Code', 'Benign Code', 'Vulnerable Code',\n",
              "       'Vulnerable Code', 'Benign Code', 'Vulnerable Code', 'Benign Code',\n",
              "       'Vulnerable Code', 'Vulnerable Code', 'Vulnerable Code',\n",
              "       'Vulnerable Code', 'Benign Code', 'Vulnerable Code', 'Benign Code',\n",
              "       'Vulnerable Code', 'Vulnerable Code', 'Vulnerable Code',\n",
              "       'Vulnerable Code', 'Vulnerable Code', 'Vulnerable Code',\n",
              "       'Vulnerable Code', 'Vulnerable Code', 'Vulnerable Code',\n",
              "       'Benign Code', 'Vulnerable Code', 'Benign Code', 'Vulnerable Code',\n",
              "       'Vulnerable Code', 'Vulnerable Code', 'Vulnerable Code',\n",
              "       'Vulnerable Code', 'Vulnerable Code', 'Vulnerable Code',\n",
              "       'Vulnerable Code', 'Vulnerable Code', 'Vulnerable Code',\n",
              "       'Vulnerable Code', 'Vulnerable Code', 'Benign Code',\n",
              "       'Vulnerable Code', 'Benign Code', 'Benign Code', 'Vulnerable Code',\n",
              "       'Vulnerable Code', 'Benign Code', 'Vulnerable Code',\n",
              "       'Vulnerable Code', 'Vulnerable Code', 'Vulnerable Code',\n",
              "       'Vulnerable Code', 'Benign Code', 'Vulnerable Code',\n",
              "       'Vulnerable Code', 'Vulnerable Code', 'Benign Code',\n",
              "       'Vulnerable Code', 'Benign Code', 'Benign Code', 'Vulnerable Code',\n",
              "       'Benign Code', 'Vulnerable Code', 'Vulnerable Code',\n",
              "       'Vulnerable Code', 'Vulnerable Code', 'Benign Code',\n",
              "       'Vulnerable Code', 'Vulnerable Code', 'Benign Code', 'Benign Code',\n",
              "       'Vulnerable Code', 'Benign Code', 'Vulnerable Code',\n",
              "       'Vulnerable Code', 'Vulnerable Code', 'Benign Code',\n",
              "       'Vulnerable Code', 'Vulnerable Code', 'Vulnerable Code',\n",
              "       'Benign Code', 'Vulnerable Code', 'Vulnerable Code',\n",
              "       'Vulnerable Code', 'Benign Code', 'Vulnerable Code',\n",
              "       'Vulnerable Code', 'Benign Code', 'Benign Code', 'Vulnerable Code',\n",
              "       'Benign Code', 'Benign Code', 'Benign Code', 'Vulnerable Code',\n",
              "       'Vulnerable Code', 'Vulnerable Code', 'Vulnerable Code',\n",
              "       'Vulnerable Code', 'Benign Code', 'Benign Code', 'Benign Code',\n",
              "       'Benign Code', 'Vulnerable Code', 'Vulnerable Code', 'Benign Code',\n",
              "       'Vulnerable Code', 'Benign Code', 'Benign Code', 'Vulnerable Code',\n",
              "       'Benign Code', 'Benign Code', 'Benign Code', 'Vulnerable Code',\n",
              "       'Benign Code', 'Vulnerable Code', 'Vulnerable Code',\n",
              "       'Vulnerable Code', 'Vulnerable Code', 'Vulnerable Code',\n",
              "       'Benign Code', 'Vulnerable Code', 'Benign Code', 'Vulnerable Code',\n",
              "       'Vulnerable Code', 'Benign Code', 'Vulnerable Code', 'Benign Code',\n",
              "       'Vulnerable Code', 'Vulnerable Code', 'Vulnerable Code',\n",
              "       'Benign Code', 'Benign Code', 'Vulnerable Code', 'Vulnerable Code',\n",
              "       'Benign Code', 'Vulnerable Code', 'Benign Code', 'Benign Code',\n",
              "       'Vulnerable Code', 'Benign Code', 'Vulnerable Code', 'Benign Code',\n",
              "       'Vulnerable Code', 'Vulnerable Code', 'Vulnerable Code',\n",
              "       'Vulnerable Code', 'Benign Code', 'Benign Code', 'Vulnerable Code',\n",
              "       'Vulnerable Code', 'Vulnerable Code', 'Benign Code',\n",
              "       'Vulnerable Code', 'Vulnerable Code', 'Benign Code', 'Benign Code',\n",
              "       'Benign Code', 'Vulnerable Code', 'Vulnerable Code',\n",
              "       'Vulnerable Code', 'Benign Code', 'Vulnerable Code', 'Benign Code',\n",
              "       'Benign Code', 'Vulnerable Code', 'Vulnerable Code',\n",
              "       'Vulnerable Code', 'Vulnerable Code', 'Benign Code',\n",
              "       'Vulnerable Code', 'Vulnerable Code', 'Benign Code',\n",
              "       'Vulnerable Code', 'Benign Code', 'Vulnerable Code',\n",
              "       'Vulnerable Code', 'Vulnerable Code', 'Benign Code', 'Benign Code',\n",
              "       'Vulnerable Code', 'Vulnerable Code', 'Benign Code',\n",
              "       'Vulnerable Code', 'Benign Code', 'Vulnerable Code',\n",
              "       'Vulnerable Code', 'Vulnerable Code', 'Vulnerable Code',\n",
              "       'Vulnerable Code', 'Vulnerable Code', 'Vulnerable Code',\n",
              "       'Vulnerable Code', 'Benign Code', 'Vulnerable Code',\n",
              "       'Vulnerable Code', 'Benign Code', 'Vulnerable Code',\n",
              "       'Vulnerable Code', 'Vulnerable Code', 'Benign Code',\n",
              "       'Vulnerable Code', 'Vulnerable Code', 'Benign Code',\n",
              "       'Vulnerable Code', 'Vulnerable Code', 'Benign Code', 'Benign Code',\n",
              "       'Vulnerable Code', 'Vulnerable Code', 'Vulnerable Code',\n",
              "       'Vulnerable Code', 'Vulnerable Code', 'Benign Code',\n",
              "       'Vulnerable Code', 'Benign Code', 'Benign Code', 'Benign Code',\n",
              "       'Benign Code', 'Vulnerable Code', 'Vulnerable Code',\n",
              "       'Vulnerable Code', 'Vulnerable Code', 'Vulnerable Code',\n",
              "       'Benign Code', 'Benign Code', 'Vulnerable Code', 'Vulnerable Code',\n",
              "       'Vulnerable Code', 'Vulnerable Code', 'Benign Code', 'Benign Code',\n",
              "       'Vulnerable Code', 'Vulnerable Code', 'Vulnerable Code',\n",
              "       'Vulnerable Code', 'Benign Code', 'Vulnerable Code',\n",
              "       'Vulnerable Code', 'Vulnerable Code', 'Vulnerable Code',\n",
              "       'Benign Code', 'Benign Code', 'Vulnerable Code', 'Benign Code',\n",
              "       'Benign Code', 'Vulnerable Code', 'Benign Code', 'Vulnerable Code',\n",
              "       'Benign Code', 'Benign Code', 'Vulnerable Code', 'Vulnerable Code',\n",
              "       'Benign Code', 'Vulnerable Code', 'Vulnerable Code', 'Benign Code',\n",
              "       'Vulnerable Code', 'Vulnerable Code', 'Benign Code',\n",
              "       'Vulnerable Code', 'Vulnerable Code', 'Vulnerable Code',\n",
              "       'Vulnerable Code', 'Vulnerable Code', 'Vulnerable Code',\n",
              "       'Vulnerable Code', 'Benign Code', 'Benign Code', 'Vulnerable Code',\n",
              "       'Vulnerable Code', 'Vulnerable Code', 'Benign Code',\n",
              "       'Vulnerable Code', 'Vulnerable Code', 'Vulnerable Code',\n",
              "       'Vulnerable Code', 'Vulnerable Code', 'Vulnerable Code',\n",
              "       'Vulnerable Code', 'Vulnerable Code', 'Vulnerable Code',\n",
              "       'Benign Code', 'Vulnerable Code', 'Vulnerable Code',\n",
              "       'Vulnerable Code', 'Vulnerable Code', 'Benign Code',\n",
              "       'Vulnerable Code', 'Vulnerable Code', 'Benign Code',\n",
              "       'Vulnerable Code', 'Benign Code', 'Vulnerable Code',\n",
              "       'Vulnerable Code', 'Vulnerable Code', 'Benign Code',\n",
              "       'Vulnerable Code', 'Vulnerable Code', 'Vulnerable Code',\n",
              "       'Vulnerable Code', 'Vulnerable Code', 'Vulnerable Code',\n",
              "       'Vulnerable Code', 'Vulnerable Code', 'Vulnerable Code',\n",
              "       'Vulnerable Code', 'Benign Code', 'Vulnerable Code', 'Benign Code',\n",
              "       'Vulnerable Code', 'Vulnerable Code', 'Vulnerable Code',\n",
              "       'Vulnerable Code', 'Vulnerable Code', 'Benign Code', 'Benign Code',\n",
              "       'Vulnerable Code', 'Vulnerable Code', 'Vulnerable Code',\n",
              "       'Vulnerable Code', 'Vulnerable Code', 'Vulnerable Code',\n",
              "       'Vulnerable Code', 'Vulnerable Code', 'Vulnerable Code',\n",
              "       'Benign Code', 'Benign Code', 'Benign Code', 'Benign Code',\n",
              "       'Vulnerable Code', 'Vulnerable Code', 'Vulnerable Code',\n",
              "       'Vulnerable Code', 'Vulnerable Code', 'Vulnerable Code',\n",
              "       'Vulnerable Code', 'Benign Code', 'Benign Code', 'Vulnerable Code',\n",
              "       'Benign Code', 'Benign Code', 'Vulnerable Code', 'Vulnerable Code',\n",
              "       'Benign Code', 'Vulnerable Code', 'Vulnerable Code',\n",
              "       'Vulnerable Code', 'Vulnerable Code', 'Vulnerable Code',\n",
              "       'Vulnerable Code', 'Vulnerable Code', 'Benign Code',\n",
              "       'Vulnerable Code', 'Vulnerable Code', 'Benign Code',\n",
              "       'Vulnerable Code', 'Benign Code', 'Benign Code', 'Vulnerable Code',\n",
              "       'Vulnerable Code', 'Vulnerable Code', 'Vulnerable Code',\n",
              "       'Vulnerable Code', 'Vulnerable Code', 'Vulnerable Code',\n",
              "       'Benign Code', 'Vulnerable Code', 'Vulnerable Code',\n",
              "       'Vulnerable Code', 'Vulnerable Code', 'Vulnerable Code',\n",
              "       'Vulnerable Code', 'Vulnerable Code', 'Vulnerable Code',\n",
              "       'Vulnerable Code', 'Vulnerable Code', 'Benign Code',\n",
              "       'Vulnerable Code', 'Vulnerable Code', 'Benign Code', 'Benign Code',\n",
              "       'Benign Code', 'Vulnerable Code', 'Vulnerable Code',\n",
              "       'Vulnerable Code', 'Vulnerable Code', 'Benign Code',\n",
              "       'Vulnerable Code', 'Benign Code', 'Vulnerable Code',\n",
              "       'Vulnerable Code', 'Vulnerable Code', 'Vulnerable Code',\n",
              "       'Vulnerable Code', 'Benign Code', 'Benign Code', 'Vulnerable Code',\n",
              "       'Vulnerable Code', 'Benign Code', 'Vulnerable Code',\n",
              "       'Vulnerable Code', 'Benign Code', 'Benign Code', 'Vulnerable Code',\n",
              "       'Vulnerable Code', 'Benign Code', 'Benign Code', 'Benign Code',\n",
              "       'Vulnerable Code', 'Benign Code', 'Benign Code', 'Benign Code',\n",
              "       'Benign Code', 'Vulnerable Code', 'Vulnerable Code',\n",
              "       'Vulnerable Code', 'Vulnerable Code', 'Vulnerable Code',\n",
              "       'Benign Code', 'Vulnerable Code', 'Benign Code', 'Vulnerable Code',\n",
              "       'Benign Code', 'Vulnerable Code', 'Vulnerable Code', 'Benign Code',\n",
              "       'Benign Code', 'Vulnerable Code', 'Benign Code', 'Vulnerable Code',\n",
              "       'Vulnerable Code', 'Vulnerable Code', 'Vulnerable Code',\n",
              "       'Benign Code', 'Benign Code', 'Vulnerable Code', 'Vulnerable Code',\n",
              "       'Vulnerable Code', 'Vulnerable Code', 'Vulnerable Code',\n",
              "       'Benign Code', 'Benign Code', 'Benign Code', 'Vulnerable Code',\n",
              "       'Vulnerable Code', 'Vulnerable Code', 'Vulnerable Code',\n",
              "       'Vulnerable Code', 'Vulnerable Code', 'Vulnerable Code',\n",
              "       'Vulnerable Code', 'Vulnerable Code', 'Benign Code',\n",
              "       'Vulnerable Code', 'Benign Code', 'Benign Code', 'Vulnerable Code',\n",
              "       'Benign Code', 'Vulnerable Code', 'Benign Code', 'Vulnerable Code',\n",
              "       'Vulnerable Code', 'Vulnerable Code', 'Vulnerable Code',\n",
              "       'Benign Code', 'Benign Code', 'Vulnerable Code', 'Vulnerable Code',\n",
              "       'Benign Code', 'Vulnerable Code', 'Benign Code', 'Benign Code',\n",
              "       'Vulnerable Code', 'Vulnerable Code', 'Benign Code',\n",
              "       'Vulnerable Code', 'Vulnerable Code', 'Benign Code',\n",
              "       'Vulnerable Code', 'Benign Code', 'Vulnerable Code',\n",
              "       'Vulnerable Code', 'Vulnerable Code', 'Vulnerable Code',\n",
              "       'Vulnerable Code', 'Vulnerable Code', 'Benign Code',\n",
              "       'Vulnerable Code', 'Vulnerable Code', 'Vulnerable Code',\n",
              "       'Benign Code', 'Benign Code', 'Vulnerable Code', 'Vulnerable Code',\n",
              "       'Vulnerable Code', 'Benign Code', 'Vulnerable Code', 'Benign Code',\n",
              "       'Benign Code', 'Benign Code', 'Benign Code', 'Benign Code',\n",
              "       'Benign Code', 'Vulnerable Code', 'Vulnerable Code', 'Benign Code',\n",
              "       'Benign Code', 'Vulnerable Code', 'Vulnerable Code',\n",
              "       'Vulnerable Code', 'Benign Code', 'Vulnerable Code',\n",
              "       'Vulnerable Code', 'Vulnerable Code', 'Vulnerable Code',\n",
              "       'Vulnerable Code', 'Vulnerable Code', 'Benign Code',\n",
              "       'Vulnerable Code', 'Vulnerable Code', 'Vulnerable Code',\n",
              "       'Vulnerable Code', 'Benign Code', 'Vulnerable Code',\n",
              "       'Vulnerable Code', 'Benign Code', 'Vulnerable Code', 'Benign Code',\n",
              "       'Vulnerable Code', 'Benign Code', 'Vulnerable Code',\n",
              "       'Vulnerable Code', 'Benign Code', 'Vulnerable Code', 'Benign Code',\n",
              "       'Benign Code', 'Vulnerable Code', 'Vulnerable Code',\n",
              "       'Vulnerable Code', 'Benign Code', 'Benign Code', 'Benign Code',\n",
              "       'Benign Code', 'Vulnerable Code', 'Vulnerable Code',\n",
              "       'Vulnerable Code', 'Vulnerable Code', 'Vulnerable Code',\n",
              "       'Vulnerable Code', 'Vulnerable Code', 'Vulnerable Code',\n",
              "       'Vulnerable Code', 'Vulnerable Code', 'Vulnerable Code',\n",
              "       'Vulnerable Code', 'Vulnerable Code', 'Benign Code', 'Benign Code',\n",
              "       'Vulnerable Code', 'Benign Code', 'Vulnerable Code',\n",
              "       'Vulnerable Code', 'Benign Code', 'Vulnerable Code',\n",
              "       'Vulnerable Code', 'Benign Code', 'Benign Code', 'Benign Code',\n",
              "       'Vulnerable Code', 'Vulnerable Code', 'Vulnerable Code',\n",
              "       'Benign Code', 'Benign Code', 'Benign Code', 'Vulnerable Code',\n",
              "       'Benign Code', 'Benign Code', 'Vulnerable Code', 'Vulnerable Code',\n",
              "       'Vulnerable Code', 'Benign Code', 'Benign Code', 'Benign Code',\n",
              "       'Benign Code', 'Vulnerable Code', 'Vulnerable Code',\n",
              "       'Vulnerable Code', 'Vulnerable Code', 'Benign Code',\n",
              "       'Vulnerable Code', 'Benign Code', 'Vulnerable Code', 'Benign Code',\n",
              "       'Benign Code', 'Vulnerable Code', 'Vulnerable Code', 'Benign Code',\n",
              "       'Benign Code', 'Vulnerable Code', 'Vulnerable Code',\n",
              "       'Vulnerable Code', 'Vulnerable Code', 'Vulnerable Code',\n",
              "       'Benign Code', 'Vulnerable Code', 'Benign Code', 'Vulnerable Code',\n",
              "       'Vulnerable Code', 'Vulnerable Code', 'Vulnerable Code',\n",
              "       'Vulnerable Code', 'Benign Code', 'Vulnerable Code',\n",
              "       'Vulnerable Code', 'Vulnerable Code', 'Benign Code', 'Benign Code',\n",
              "       'Vulnerable Code', 'Benign Code', 'Vulnerable Code',\n",
              "       'Vulnerable Code', 'Vulnerable Code', 'Benign Code',\n",
              "       'Vulnerable Code', 'Benign Code', 'Benign Code', 'Benign Code',\n",
              "       'Vulnerable Code', 'Benign Code', 'Vulnerable Code',\n",
              "       'Vulnerable Code', 'Vulnerable Code', 'Vulnerable Code',\n",
              "       'Vulnerable Code', 'Benign Code', 'Vulnerable Code',\n",
              "       'Vulnerable Code', 'Vulnerable Code', 'Vulnerable Code',\n",
              "       'Benign Code', 'Benign Code', 'Vulnerable Code', 'Benign Code',\n",
              "       'Vulnerable Code', 'Benign Code', 'Vulnerable Code',\n",
              "       'Vulnerable Code', 'Vulnerable Code', 'Benign Code', 'Benign Code',\n",
              "       'Benign Code', 'Vulnerable Code'], dtype=object)"
            ]
          },
          "metadata": {},
          "execution_count": 29
        }
      ],
      "source": [
        "pred"
      ]
    },
    {
      "cell_type": "markdown",
      "source": [
        "* Below, Decision Tree classifier is employed for binary classification using the Al_Boghdady_Binary_Dataset. The dataset consists of code snippets labeled as either malicious or benign. The Decision Tree model is trained and evaluated using K-Fold cross-validation, ensuring robustness and reliability in the assessment.\n",
        "\n",
        "#Results:\n",
        "* The Decision Tree model exhibits high accuracy, with individual K-Fold accuracy scores ranging from approximately 95% to 98%. The mean accuracy of the model across all folds is calculated to be around 97%. This indicates the effectiveness of the Decision Tree algorithm in distinguishing between malicious and benign code snippets.\n",
        "\n",
        "* The plot visualizes the accuracy scores across different folds, providing insights into the model's consistency and generalization capabilities. The fluctuation in accuracy scores can be analyzed to identify potential variations in performance across different subsets of the dataset.\n",
        "\n",
        "* This Decision Tree model serves as a valuable tool for binary classification tasks, demonstrating strong predictive capabilities in distinguishing between malicious and benign code. Further analysis, including precision, recall, and F1-scores, can provide a comprehensive understanding of the model's strengths and areas for improvement."
      ],
      "metadata": {
        "id": "xTzjo-Tsfu85"
      }
    },
    {
      "cell_type": "code",
      "execution_count": null,
      "metadata": {
        "scrolled": true,
        "colab": {
          "base_uri": "https://localhost:8080/",
          "height": 1000
        },
        "id": "57WEIaNOUKuN",
        "outputId": "5364cebd-1266-408d-a203-157911965b67"
      },
      "outputs": [
        {
          "output_type": "stream",
          "name": "stdout",
          "text": [
            "Accuracy: 0.9875518672199171\n",
            "-------------------------------------------\n",
            "Accuracy: 0.966804979253112\n",
            "-------------------------------------------\n",
            "Accuracy: 0.983402489626556\n",
            "-------------------------------------------\n",
            "Accuracy: 0.9585062240663901\n",
            "-------------------------------------------\n",
            "Accuracy: 0.975103734439834\n",
            "-------------------------------------------\n",
            "Accuracy: 0.9626556016597511\n",
            "-------------------------------------------\n",
            "Accuracy: 0.970954356846473\n",
            "-------------------------------------------\n",
            "Accuracy: 0.966804979253112\n",
            "-------------------------------------------\n",
            "Accuracy: 0.979253112033195\n",
            "-------------------------------------------\n",
            "Accuracy: 0.9626556016597511\n",
            "-------------------------------------------\n",
            "Accuracy: 0.9791666666666666\n",
            "-------------------------------------------\n",
            "Accuracy: 0.9666666666666667\n",
            "-------------------------------------------\n",
            "Accuracy: 0.9875\n",
            "-------------------------------------------\n",
            "Accuracy: 0.9625\n",
            "-------------------------------------------\n",
            "Accuracy: 0.9541666666666667\n",
            "-------------------------------------------\n",
            "Accuracy: 0.95\n",
            "-------------------------------------------\n",
            "Accuracy: 0.9916666666666667\n",
            "-------------------------------------------\n",
            "Accuracy: 0.9791666666666666\n",
            "-------------------------------------------\n",
            "Accuracy: 0.9625\n",
            "-------------------------------------------\n",
            "Accuracy: 0.9625\n",
            "-------------------------------------------\n"
          ]
        },
        {
          "output_type": "display_data",
          "data": {
            "text/plain": [
              "<Figure size 640x480 with 1 Axes>"
            ],
            "image/png": "[encoded data removed]"
          },
          "metadata": {}
        }
      ],
      "source": [
        "# Decision Tree Training Model for Binary Classification\n",
        "\n",
        "Al_Boghdady_Binary_Dataset.shape\n",
        "Code_Snippet_Features = Al_Boghdady_Binary_Dataset.code\n",
        "Code_Snippet_Tags = Al_Boghdady_Binary_Dataset.isMalicious\n",
        "\n",
        "Scores_svm = []  # Change the name of the scores list to avoid conflicts with the previous one\n",
        "\n",
        "kf = KFold(n_splits=20, random_state=None, shuffle=True)\n",
        "for train_index, test_index in kf.split(Code_Snippet_Features):\n",
        "\n",
        "    Code_Snippet_train, Code_Snippet_test = Code_Snippet_Features.iloc[train_index], Code_Snippet_Features.iloc[test_index]\n",
        "    Code_Tag_train, Code_Tag_test = Code_Snippet_Tags.iloc[train_index], Code_Snippet_Tags.iloc[test_index]\n",
        "\n",
        "    clf_dt = DecisionTreeClassifier()  # Change to DecisionTreeClassifier\n",
        "\n",
        "    pipe_SVM = Pipeline([\n",
        "        ('preprocessing', transformer),\n",
        "        ('vectorizer', vectorizer),\n",
        "        ('clf', clf_svm)]\n",
        "    )\n",
        "\n",
        "    # Setting best params for Support Vector Machine (SVM)\n",
        "    best_params_svm = {\n",
        "        'clf__C': 1.0,  # Regularization parameter\n",
        "        'clf__kernel': 'rbf',  # You can also try other kernels like 'linear', 'poly', etc.\n",
        "        'clf__gamma': 'scale',  # Kernel coefficient for 'rbf', 'poly', and 'sigmoid'\n",
        "    }\n",
        "\n",
        "    pipe_SVM.set_params(**best_params_svm)\n",
        "\n",
        "    # Fitting the Support Vector Machine (SVM) model\n",
        "    pipe_SVM.fit(Code_Snippet_train, Code_Tag_train)\n",
        "\n",
        "    # Evaluation\n",
        "    print(f'Accuracy: {pipe_SVM.score(Code_Snippet_test, Code_Tag_test)}')\n",
        "    Scores_svm.append(pipe_SVM.score(Code_Snippet_test, Code_Tag_test))\n",
        "    print(\"-------------------------------------------\" )\n",
        "\n",
        "# x axis values\n",
        "x_svm = [i for i in range(1, 21)]\n",
        "# corresponding y axis values\n",
        "y_svm = Scores_svm\n",
        "\n",
        "# plotting the points\n",
        "plt.plot(x_svm, y_svm)\n",
        "\n",
        "# naming the x axis\n",
        "plt.xlabel('The K-Fold')\n",
        "# naming the y axis\n",
        "plt.ylabel('The accuracy of the SVM training model')\n",
        "\n",
        "# giving a title to the graph\n",
        "plt.title(\"The SVM training model's K-Folds cross-validator\")\n",
        "\n",
        "# function to show the plot\n",
        "plt.show()"
      ]
    },
    {
      "cell_type": "code",
      "source": [
        "print(\"The mean accuracy of Decision Tree training model \", np.mean(Scores_svm))"
      ],
      "metadata": {
        "colab": {
          "base_uri": "https://localhost:8080/"
        },
        "id": "YfXEtwepYWIm",
        "outputId": "600c4313-2979-4efc-fbea-c39e000af894"
      },
      "execution_count": null,
      "outputs": [
        {
          "output_type": "stream",
          "name": "stdout",
          "text": [
            "The mean accuracy of Decision Tree training model  0.9700682918395576\n"
          ]
        }
      ]
    },
    {
      "cell_type": "code",
      "source": [
        "import plotly.graph_objects as go\n",
        "\n",
        "# Create a trace\n",
        "trace = go.Scatter(x=x_svm, y=y_svm, mode='lines+markers', name='Accuracy')\n",
        "\n",
        "# Create layout\n",
        "layout = go.Layout(\n",
        "    title=\"The SVM training model's K-Folds cross-validator\",\n",
        "    xaxis=dict(title='The K-Fold'),\n",
        "    yaxis=dict(title='The accuracy of the SVM training model')\n",
        ")\n",
        "\n",
        "# Create figure\n",
        "fig = go.Figure(data=[trace], layout=layout)\n",
        "\n",
        "# Show interactive plot\n",
        "fig.show()"
      ],
      "metadata": {
        "colab": {
          "base_uri": "https://localhost:8080/",
          "height": 542
        },
        "id": "UsGMiTCPgOG7",
        "outputId": "61519bb3-a89a-41ac-de1c-1f1458b41995"
      },
      "execution_count": null,
      "outputs": [
        {
          "output_type": "display_data",
          "data": {
            "text/html": [
              "<html>\n",
              "<head><meta charset=\"utf-8\" /></head>\n",
              "<body>\n",
              "    <div>            <script src=\"https://cdnjs.cloudflare.com/ajax/libs/mathjax/2.7.5/MathJax.js?config=TeX-AMS-MML_SVG\"></script><script type=\"text/javascript\">if (window.MathJax && window.MathJax.Hub && window.MathJax.Hub.Config) {window.MathJax.Hub.Config({SVG: {font: \"STIX-Web\"}});}</script>                <script type=\"text/javascript\">window.PlotlyConfig = {MathJaxConfig: 'local'};</script>\n",
              "        <script charset=\"utf-8\" src=\"https://cdn.plot.ly/plotly-2.24.1.min.js\"></script>                <div id=\"55dbe866-05e2-4dad-98cb-721a094b0d29\" class=\"plotly-graph-div\" style=\"height:525px; width:100%;\"></div>            <script type=\"text/javascript\">                                    window.PLOTLYENV=window.PLOTLYENV || {};                                    if (document.getElementById(\"55dbe866-05e2-4dad-98cb-721a094b0d29\")) {                    Plotly.newPlot(                        \"55dbe866-05e2-4dad-98cb-721a094b0d29\",                        [{\"mode\":\"lines+markers\",\"name\":\"Accuracy\",\"x\":[1,2,3,4,5,6,7,8,9,10,11,12,13,14,15,16,17,18,19,20],\"y\":[0.9875518672199171,0.966804979253112,0.983402489626556,0.9585062240663901,0.975103734439834,0.9626556016597511,0.970954356846473,0.966804979253112,0.979253112033195,0.9626556016597511,0.9791666666666666,0.9666666666666667,0.9875,0.9625,0.9541666666666667,0.95,0.9916666666666667,0.9791666666666666,0.9625,0.9625],\"type\":\"scatter\"}],                        {\"title\":{\"text\":\"The SVM training model's K-Folds cross-validator\"},\"xaxis\":{\"title\":{\"text\":\"The K-Fold\"}},\"yaxis\":{\"title\":{\"text\":\"The accuracy of the SVM training model\"}},\"template\":{\"data\":{\"histogram2dcontour\":[{\"type\":\"histogram2dcontour\",\"colorbar\":{\"outlinewidth\":0,\"ticks\":\"\"},\"colorscale\":[[0.0,\"#0d0887\"],[0.1111111111111111,\"#46039f\"],[0.2222222222222222,\"#7201a8\"],[0.3333333333333333,\"#9c179e\"],[0.4444444444444444,\"#bd3786\"],[0.5555555555555556,\"#d8576b\"],[0.6666666666666666,\"#ed7953\"],[0.7777777777777778,\"#fb9f3a\"],[0.8888888888888888,\"#fdca26\"],[1.0,\"#f0f921\"]]}],\"choropleth\":[{\"type\":\"choropleth\",\"colorbar\":{\"outlinewidth\":0,\"ticks\":\"\"}}],\"histogram2d\":[{\"type\":\"histogram2d\",\"colorbar\":{\"outlinewidth\":0,\"ticks\":\"\"},\"colorscale\":[[0.0,\"#0d0887\"],[0.1111111111111111,\"#46039f\"],[0.2222222222222222,\"#7201a8\"],[0.3333333333333333,\"#9c179e\"],[0.4444444444444444,\"#bd3786\"],[0.5555555555555556,\"#d8576b\"],[0.6666666666666666,\"#ed7953\"],[0.7777777777777778,\"#fb9f3a\"],[0.8888888888888888,\"#fdca26\"],[1.0,\"#f0f921\"]]}],\"heatmap\":[{\"type\":\"heatmap\",\"colorbar\":{\"outlinewidth\":0,\"ticks\":\"\"},\"colorscale\":[[0.0,\"#0d0887\"],[0.1111111111111111,\"#46039f\"],[0.2222222222222222,\"#7201a8\"],[0.3333333333333333,\"#9c179e\"],[0.4444444444444444,\"#bd3786\"],[0.5555555555555556,\"#d8576b\"],[0.6666666666666666,\"#ed7953\"],[0.7777777777777778,\"#fb9f3a\"],[0.8888888888888888,\"#fdca26\"],[1.0,\"#f0f921\"]]}],\"heatmapgl\":[{\"type\":\"heatmapgl\",\"colorbar\":{\"outlinewidth\":0,\"ticks\":\"\"},\"colorscale\":[[0.0,\"#0d0887\"],[0.1111111111111111,\"#46039f\"],[0.2222222222222222,\"#7201a8\"],[0.3333333333333333,\"#9c179e\"],[0.4444444444444444,\"#bd3786\"],[0.5555555555555556,\"#d8576b\"],[0.6666666666666666,\"#ed7953\"],[0.7777777777777778,\"#fb9f3a\"],[0.8888888888888888,\"#fdca26\"],[1.0,\"#f0f921\"]]}],\"contourcarpet\":[{\"type\":\"contourcarpet\",\"colorbar\":{\"outlinewidth\":0,\"ticks\":\"\"}}],\"contour\":[{\"type\":\"contour\",\"colorbar\":{\"outlinewidth\":0,\"ticks\":\"\"},\"colorscale\":[[0.0,\"#0d0887\"],[0.1111111111111111,\"#46039f\"],[0.2222222222222222,\"#7201a8\"],[0.3333333333333333,\"#9c179e\"],[0.4444444444444444,\"#bd3786\"],[0.5555555555555556,\"#d8576b\"],[0.6666666666666666,\"#ed7953\"],[0.7777777777777778,\"#fb9f3a\"],[0.8888888888888888,\"#fdca26\"],[1.0,\"#f0f921\"]]}],\"surface\":[{\"type\":\"surface\",\"colorbar\":{\"outlinewidth\":0,\"ticks\":\"\"},\"colorscale\":[[0.0,\"#0d0887\"],[0.1111111111111111,\"#46039f\"],[0.2222222222222222,\"#7201a8\"],[0.3333333333333333,\"#9c179e\"],[0.4444444444444444,\"#bd3786\"],[0.5555555555555556,\"#d8576b\"],[0.6666666666666666,\"#ed7953\"],[0.7777777777777778,\"#fb9f3a\"],[0.8888888888888888,\"#fdca26\"],[1.0,\"#f0f921\"]]}],\"mesh3d\":[{\"type\":\"mesh3d\",\"colorbar\":{\"outlinewidth\":0,\"ticks\":\"\"}}],\"scatter\":[{\"fillpattern\":{\"fillmode\":\"overlay\",\"size\":10,\"solidity\":0.2},\"type\":\"scatter\"}],\"parcoords\":[{\"type\":\"parcoords\",\"line\":{\"colorbar\":{\"outlinewidth\":0,\"ticks\":\"\"}}}],\"scatterpolargl\":[{\"type\":\"scatterpolargl\",\"marker\":{\"colorbar\":{\"outlinewidth\":0,\"ticks\":\"\"}}}],\"bar\":[{\"error_x\":{\"color\":\"#2a3f5f\"},\"error_y\":{\"color\":\"#2a3f5f\"},\"marker\":{\"line\":{\"color\":\"#E5ECF6\",\"width\":0.5},\"pattern\":{\"fillmode\":\"overlay\",\"size\":10,\"solidity\":0.2}},\"type\":\"bar\"}],\"scattergeo\":[{\"type\":\"scattergeo\",\"marker\":{\"colorbar\":{\"outlinewidth\":0,\"ticks\":\"\"}}}],\"scatterpolar\":[{\"type\":\"scatterpolar\",\"marker\":{\"colorbar\":{\"outlinewidth\":0,\"ticks\":\"\"}}}],\"histogram\":[{\"marker\":{\"pattern\":{\"fillmode\":\"overlay\",\"size\":10,\"solidity\":0.2}},\"type\":\"histogram\"}],\"scattergl\":[{\"type\":\"scattergl\",\"marker\":{\"colorbar\":{\"outlinewidth\":0,\"ticks\":\"\"}}}],\"scatter3d\":[{\"type\":\"scatter3d\",\"line\":{\"colorbar\":{\"outlinewidth\":0,\"ticks\":\"\"}},\"marker\":{\"colorbar\":{\"outlinewidth\":0,\"ticks\":\"\"}}}],\"scattermapbox\":[{\"type\":\"scattermapbox\",\"marker\":{\"colorbar\":{\"outlinewidth\":0,\"ticks\":\"\"}}}],\"scatterternary\":[{\"type\":\"scatterternary\",\"marker\":{\"colorbar\":{\"outlinewidth\":0,\"ticks\":\"\"}}}],\"scattercarpet\":[{\"type\":\"scattercarpet\",\"marker\":{\"colorbar\":{\"outlinewidth\":0,\"ticks\":\"\"}}}],\"carpet\":[{\"aaxis\":{\"endlinecolor\":\"#2a3f5f\",\"gridcolor\":\"white\",\"linecolor\":\"white\",\"minorgridcolor\":\"white\",\"startlinecolor\":\"#2a3f5f\"},\"baxis\":{\"endlinecolor\":\"#2a3f5f\",\"gridcolor\":\"white\",\"linecolor\":\"white\",\"minorgridcolor\":\"white\",\"startlinecolor\":\"#2a3f5f\"},\"type\":\"carpet\"}],\"table\":[{\"cells\":{\"fill\":{\"color\":\"#EBF0F8\"},\"line\":{\"color\":\"white\"}},\"header\":{\"fill\":{\"color\":\"#C8D4E3\"},\"line\":{\"color\":\"white\"}},\"type\":\"table\"}],\"barpolar\":[{\"marker\":{\"line\":{\"color\":\"#E5ECF6\",\"width\":0.5},\"pattern\":{\"fillmode\":\"overlay\",\"size\":10,\"solidity\":0.2}},\"type\":\"barpolar\"}],\"pie\":[{\"automargin\":true,\"type\":\"pie\"}]},\"layout\":{\"autotypenumbers\":\"strict\",\"colorway\":[\"#636efa\",\"#EF553B\",\"#00cc96\",\"#ab63fa\",\"#FFA15A\",\"#19d3f3\",\"#FF6692\",\"#B6E880\",\"#FF97FF\",\"#FECB52\"],\"font\":{\"color\":\"#2a3f5f\"},\"hovermode\":\"closest\",\"hoverlabel\":{\"align\":\"left\"},\"paper_bgcolor\":\"white\",\"plot_bgcolor\":\"#E5ECF6\",\"polar\":{\"bgcolor\":\"#E5ECF6\",\"angularaxis\":{\"gridcolor\":\"white\",\"linecolor\":\"white\",\"ticks\":\"\"},\"radialaxis\":{\"gridcolor\":\"white\",\"linecolor\":\"white\",\"ticks\":\"\"}},\"ternary\":{\"bgcolor\":\"#E5ECF6\",\"aaxis\":{\"gridcolor\":\"white\",\"linecolor\":\"white\",\"ticks\":\"\"},\"baxis\":{\"gridcolor\":\"white\",\"linecolor\":\"white\",\"ticks\":\"\"},\"caxis\":{\"gridcolor\":\"white\",\"linecolor\":\"white\",\"ticks\":\"\"}},\"coloraxis\":{\"colorbar\":{\"outlinewidth\":0,\"ticks\":\"\"}},\"colorscale\":{\"sequential\":[[0.0,\"#0d0887\"],[0.1111111111111111,\"#46039f\"],[0.2222222222222222,\"#7201a8\"],[0.3333333333333333,\"#9c179e\"],[0.4444444444444444,\"#bd3786\"],[0.5555555555555556,\"#d8576b\"],[0.6666666666666666,\"#ed7953\"],[0.7777777777777778,\"#fb9f3a\"],[0.8888888888888888,\"#fdca26\"],[1.0,\"#f0f921\"]],\"sequentialminus\":[[0.0,\"#0d0887\"],[0.1111111111111111,\"#46039f\"],[0.2222222222222222,\"#7201a8\"],[0.3333333333333333,\"#9c179e\"],[0.4444444444444444,\"#bd3786\"],[0.5555555555555556,\"#d8576b\"],[0.6666666666666666,\"#ed7953\"],[0.7777777777777778,\"#fb9f3a\"],[0.8888888888888888,\"#fdca26\"],[1.0,\"#f0f921\"]],\"diverging\":[[0,\"#8e0152\"],[0.1,\"#c51b7d\"],[0.2,\"#de77ae\"],[0.3,\"#f1b6da\"],[0.4,\"#fde0ef\"],[0.5,\"#f7f7f7\"],[0.6,\"#e6f5d0\"],[0.7,\"#b8e186\"],[0.8,\"#7fbc41\"],[0.9,\"#4d9221\"],[1,\"#276419\"]]},\"xaxis\":{\"gridcolor\":\"white\",\"linecolor\":\"white\",\"ticks\":\"\",\"title\":{\"standoff\":15},\"zerolinecolor\":\"white\",\"automargin\":true,\"zerolinewidth\":2},\"yaxis\":{\"gridcolor\":\"white\",\"linecolor\":\"white\",\"ticks\":\"\",\"title\":{\"standoff\":15},\"zerolinecolor\":\"white\",\"automargin\":true,\"zerolinewidth\":2},\"scene\":{\"xaxis\":{\"backgroundcolor\":\"#E5ECF6\",\"gridcolor\":\"white\",\"linecolor\":\"white\",\"showbackground\":true,\"ticks\":\"\",\"zerolinecolor\":\"white\",\"gridwidth\":2},\"yaxis\":{\"backgroundcolor\":\"#E5ECF6\",\"gridcolor\":\"white\",\"linecolor\":\"white\",\"showbackground\":true,\"ticks\":\"\",\"zerolinecolor\":\"white\",\"gridwidth\":2},\"zaxis\":{\"backgroundcolor\":\"#E5ECF6\",\"gridcolor\":\"white\",\"linecolor\":\"white\",\"showbackground\":true,\"ticks\":\"\",\"zerolinecolor\":\"white\",\"gridwidth\":2}},\"shapedefaults\":{\"line\":{\"color\":\"#2a3f5f\"}},\"annotationdefaults\":{\"arrowcolor\":\"#2a3f5f\",\"arrowhead\":0,\"arrowwidth\":1},\"geo\":{\"bgcolor\":\"white\",\"landcolor\":\"#E5ECF6\",\"subunitcolor\":\"white\",\"showland\":true,\"showlakes\":true,\"lakecolor\":\"white\"},\"title\":{\"x\":0.05},\"mapbox\":{\"style\":\"light\"}}}},                        {\"responsive\": true}                    ).then(function(){\n",
              "                            \n",
              "var gd = document.getElementById('55dbe866-05e2-4dad-98cb-721a094b0d29');\n",
              "var x = new MutationObserver(function (mutations, observer) {{\n",
              "        var display = window.getComputedStyle(gd).display;\n",
              "        if (!display || display === 'none') {{\n",
              "            console.log([gd, 'removed!']);\n",
              "            Plotly.purge(gd);\n",
              "            observer.disconnect();\n",
              "        }}\n",
              "}});\n",
              "\n",
              "// Listen for the removal of the full notebook cells\n",
              "var notebookContainer = gd.closest('#notebook-container');\n",
              "if (notebookContainer) {{\n",
              "    x.observe(notebookContainer, {childList: true});\n",
              "}}\n",
              "\n",
              "// Listen for the clearing of the current output cell\n",
              "var outputEl = gd.closest('.output');\n",
              "if (outputEl) {{\n",
              "    x.observe(outputEl, {childList: true});\n",
              "}}\n",
              "\n",
              "                        })                };                            </script>        </div>\n",
              "</body>\n",
              "</html>"
            ]
          },
          "metadata": {}
        }
      ]
    },
    {
      "cell_type": "code",
      "execution_count": null,
      "metadata": {
        "colab": {
          "base_uri": "https://localhost:8080/"
        },
        "id": "a1qdKyObUKuN",
        "outputId": "0df67cdc-3acd-4f0d-893e-da6dba2acf2f"
      },
      "outputs": [
        {
          "output_type": "stream",
          "name": "stdout",
          "text": [
            "0      void thread ( void* arg )   {  int s ;  for ( ...\n",
            "1      void thread_main ( void* arg )   {  tosthread_...\n",
            "2      sf (  )  ;  throttle.initialize (  )  ;  while...\n",
            "3      int opts ( void *a ,  void *b )   {  if  ( !a ...\n",
            "4      new_node ( unsigned short key ,  unsigned int ...\n",
            "                             ...                        \n",
            "317                                unsigned char keys ; \n",
            "318    if  ( BIT_PE ( CS -> CTL0 ,  CS_CTL0_DCORES_OF...\n",
            "319    else  {  dcoConst  =  * (  ( float * )  &csInf...\n",
            "320    if  ( BIT_PE ( CS -> CTL0 ,  CS_CTL0_DCORES_OF...\n",
            "321    void bounceThread1_start ( void *arg )   {  me...\n",
            "Name: code, Length: 322, dtype: object\n"
          ]
        },
        {
          "output_type": "execute_result",
          "data": {
            "text/plain": [
              "array(['Benign Code', 'Benign Code', 'Vulnerable Code', 'Vulnerable Code',\n",
              "       'Vulnerable Code', 'Benign Code', 'Vulnerable Code',\n",
              "       'Vulnerable Code', 'Vulnerable Code', 'Benign Code', 'Benign Code',\n",
              "       'Vulnerable Code', 'Vulnerable Code', 'Vulnerable Code',\n",
              "       'Vulnerable Code', 'Vulnerable Code', 'Vulnerable Code',\n",
              "       'Vulnerable Code', 'Vulnerable Code', 'Vulnerable Code',\n",
              "       'Vulnerable Code', 'Benign Code', 'Vulnerable Code',\n",
              "       'Vulnerable Code', 'Vulnerable Code', 'Vulnerable Code',\n",
              "       'Benign Code', 'Vulnerable Code', 'Vulnerable Code',\n",
              "       'Vulnerable Code', 'Vulnerable Code', 'Benign Code', 'Benign Code',\n",
              "       'Vulnerable Code', 'Vulnerable Code', 'Vulnerable Code',\n",
              "       'Vulnerable Code', 'Vulnerable Code', 'Benign Code',\n",
              "       'Vulnerable Code', 'Vulnerable Code', 'Vulnerable Code',\n",
              "       'Vulnerable Code', 'Vulnerable Code', 'Vulnerable Code',\n",
              "       'Vulnerable Code', 'Vulnerable Code', 'Vulnerable Code',\n",
              "       'Vulnerable Code', 'Vulnerable Code', 'Vulnerable Code',\n",
              "       'Vulnerable Code', 'Vulnerable Code', 'Vulnerable Code',\n",
              "       'Vulnerable Code', 'Vulnerable Code', 'Vulnerable Code',\n",
              "       'Vulnerable Code', 'Vulnerable Code', 'Vulnerable Code',\n",
              "       'Vulnerable Code', 'Vulnerable Code', 'Vulnerable Code',\n",
              "       'Vulnerable Code', 'Vulnerable Code', 'Vulnerable Code',\n",
              "       'Vulnerable Code', 'Vulnerable Code', 'Vulnerable Code',\n",
              "       'Benign Code', 'Vulnerable Code', 'Vulnerable Code',\n",
              "       'Vulnerable Code', 'Vulnerable Code', 'Vulnerable Code',\n",
              "       'Vulnerable Code', 'Vulnerable Code', 'Benign Code',\n",
              "       'Vulnerable Code', 'Vulnerable Code', 'Vulnerable Code',\n",
              "       'Vulnerable Code', 'Vulnerable Code', 'Vulnerable Code',\n",
              "       'Vulnerable Code', 'Vulnerable Code', 'Vulnerable Code',\n",
              "       'Vulnerable Code', 'Vulnerable Code', 'Vulnerable Code',\n",
              "       'Vulnerable Code', 'Vulnerable Code', 'Vulnerable Code',\n",
              "       'Vulnerable Code', 'Vulnerable Code', 'Vulnerable Code',\n",
              "       'Vulnerable Code', 'Vulnerable Code', 'Benign Code', 'Benign Code',\n",
              "       'Benign Code', 'Benign Code', 'Vulnerable Code', 'Benign Code',\n",
              "       'Vulnerable Code', 'Vulnerable Code', 'Vulnerable Code',\n",
              "       'Vulnerable Code', 'Vulnerable Code', 'Vulnerable Code',\n",
              "       'Vulnerable Code', 'Vulnerable Code', 'Vulnerable Code',\n",
              "       'Vulnerable Code', 'Vulnerable Code', 'Vulnerable Code',\n",
              "       'Vulnerable Code', 'Vulnerable Code', 'Vulnerable Code',\n",
              "       'Vulnerable Code', 'Vulnerable Code', 'Vulnerable Code',\n",
              "       'Vulnerable Code', 'Vulnerable Code', 'Vulnerable Code',\n",
              "       'Vulnerable Code', 'Vulnerable Code', 'Vulnerable Code',\n",
              "       'Vulnerable Code', 'Vulnerable Code', 'Vulnerable Code',\n",
              "       'Vulnerable Code', 'Vulnerable Code', 'Vulnerable Code',\n",
              "       'Vulnerable Code', 'Vulnerable Code', 'Vulnerable Code',\n",
              "       'Vulnerable Code', 'Vulnerable Code', 'Vulnerable Code',\n",
              "       'Vulnerable Code', 'Vulnerable Code', 'Vulnerable Code',\n",
              "       'Vulnerable Code', 'Vulnerable Code', 'Vulnerable Code',\n",
              "       'Vulnerable Code', 'Vulnerable Code', 'Vulnerable Code',\n",
              "       'Vulnerable Code', 'Vulnerable Code', 'Vulnerable Code',\n",
              "       'Vulnerable Code', 'Vulnerable Code', 'Vulnerable Code',\n",
              "       'Vulnerable Code', 'Vulnerable Code', 'Vulnerable Code',\n",
              "       'Vulnerable Code', 'Vulnerable Code', 'Vulnerable Code',\n",
              "       'Vulnerable Code', 'Vulnerable Code', 'Vulnerable Code',\n",
              "       'Vulnerable Code', 'Vulnerable Code', 'Vulnerable Code',\n",
              "       'Vulnerable Code', 'Vulnerable Code', 'Vulnerable Code',\n",
              "       'Vulnerable Code', 'Vulnerable Code', 'Vulnerable Code',\n",
              "       'Vulnerable Code', 'Vulnerable Code', 'Vulnerable Code',\n",
              "       'Vulnerable Code', 'Vulnerable Code', 'Vulnerable Code',\n",
              "       'Vulnerable Code', 'Vulnerable Code', 'Vulnerable Code',\n",
              "       'Vulnerable Code', 'Vulnerable Code', 'Vulnerable Code',\n",
              "       'Vulnerable Code', 'Vulnerable Code', 'Vulnerable Code',\n",
              "       'Vulnerable Code', 'Vulnerable Code', 'Vulnerable Code',\n",
              "       'Vulnerable Code', 'Vulnerable Code', 'Vulnerable Code',\n",
              "       'Benign Code', 'Benign Code', 'Vulnerable Code', 'Vulnerable Code',\n",
              "       'Vulnerable Code', 'Vulnerable Code', 'Vulnerable Code',\n",
              "       'Vulnerable Code', 'Vulnerable Code', 'Vulnerable Code',\n",
              "       'Vulnerable Code', 'Vulnerable Code', 'Vulnerable Code',\n",
              "       'Vulnerable Code', 'Vulnerable Code', 'Vulnerable Code',\n",
              "       'Vulnerable Code', 'Vulnerable Code', 'Vulnerable Code',\n",
              "       'Vulnerable Code', 'Vulnerable Code', 'Vulnerable Code',\n",
              "       'Vulnerable Code', 'Vulnerable Code', 'Vulnerable Code',\n",
              "       'Vulnerable Code', 'Vulnerable Code', 'Vulnerable Code',\n",
              "       'Vulnerable Code', 'Vulnerable Code', 'Vulnerable Code',\n",
              "       'Vulnerable Code', 'Vulnerable Code', 'Vulnerable Code',\n",
              "       'Vulnerable Code', 'Vulnerable Code', 'Vulnerable Code',\n",
              "       'Vulnerable Code', 'Vulnerable Code', 'Vulnerable Code',\n",
              "       'Vulnerable Code', 'Vulnerable Code', 'Vulnerable Code',\n",
              "       'Vulnerable Code', 'Vulnerable Code', 'Vulnerable Code',\n",
              "       'Vulnerable Code', 'Vulnerable Code', 'Vulnerable Code',\n",
              "       'Vulnerable Code', 'Vulnerable Code', 'Vulnerable Code',\n",
              "       'Vulnerable Code', 'Vulnerable Code', 'Vulnerable Code',\n",
              "       'Vulnerable Code', 'Vulnerable Code', 'Vulnerable Code',\n",
              "       'Benign Code', 'Vulnerable Code', 'Vulnerable Code',\n",
              "       'Vulnerable Code', 'Vulnerable Code', 'Vulnerable Code',\n",
              "       'Vulnerable Code', 'Vulnerable Code', 'Vulnerable Code',\n",
              "       'Vulnerable Code', 'Benign Code', 'Vulnerable Code', 'Benign Code',\n",
              "       'Vulnerable Code', 'Vulnerable Code', 'Vulnerable Code',\n",
              "       'Vulnerable Code', 'Vulnerable Code', 'Vulnerable Code',\n",
              "       'Vulnerable Code', 'Vulnerable Code', 'Vulnerable Code',\n",
              "       'Vulnerable Code', 'Vulnerable Code', 'Vulnerable Code',\n",
              "       'Vulnerable Code', 'Vulnerable Code', 'Vulnerable Code',\n",
              "       'Vulnerable Code', 'Vulnerable Code', 'Vulnerable Code',\n",
              "       'Vulnerable Code', 'Vulnerable Code', 'Vulnerable Code',\n",
              "       'Vulnerable Code', 'Vulnerable Code', 'Vulnerable Code',\n",
              "       'Vulnerable Code', 'Vulnerable Code', 'Vulnerable Code',\n",
              "       'Vulnerable Code', 'Vulnerable Code', 'Vulnerable Code',\n",
              "       'Vulnerable Code', 'Benign Code', 'Benign Code', 'Vulnerable Code',\n",
              "       'Vulnerable Code', 'Vulnerable Code', 'Vulnerable Code',\n",
              "       'Vulnerable Code', 'Vulnerable Code', 'Vulnerable Code',\n",
              "       'Vulnerable Code', 'Vulnerable Code', 'Vulnerable Code',\n",
              "       'Vulnerable Code', 'Benign Code', 'Benign Code', 'Benign Code',\n",
              "       'Vulnerable Code', 'Vulnerable Code', 'Vulnerable Code',\n",
              "       'Vulnerable Code', 'Vulnerable Code', 'Vulnerable Code',\n",
              "       'Vulnerable Code', 'Vulnerable Code', 'Vulnerable Code',\n",
              "       'Vulnerable Code'], dtype=object)"
            ]
          },
          "metadata": {},
          "execution_count": 32
        }
      ],
      "source": [
        "#RF Prediction Model for Multi-Class Classification\n",
        "# Reading the TinyOS unlabeled Dataset\n",
        "TinyOS_unlabeled_Dataset = pd.read_csv('Tinyos_Evaluation.csv',encoding = 'unicode_escape')\n",
        "TinyOS_Code_Snippet = TinyOS_unlabeled_Dataset.code\n",
        "\n",
        "def preprocess(TinyOS_Code_Snippet):\n",
        "    return pd.Series(TinyOS_Code_Snippet).replace(r'\\b([A-Za-z])\\1+\\b', '', regex=True)\\\n",
        "        .replace(r'\\b[A-Za-z]\\b', '', regex=True)\n",
        "\n",
        "transformer = FunctionTransformer(preprocess)\n",
        "token_pattern = r\"\"\"([A-Za-z_]\\w*\\b|[!\\#\\$%\\&\\*\\+:\\-\\./<=>\\?@\\\\\\^_\\|\\~]+|[ \\t\\(\\),;\\{\\}\\[\\]\"'`])\"\"\"\n",
        "\n",
        "vectorizer = TfidfVectorizer(token_pattern=token_pattern, max_features=3000)\n",
        "\n",
        "# Print findings\n",
        "print (TinyOS_Code_Snippet)\n",
        "pred = pipe_SVM.predict(TinyOS_Code_Snippet)\n",
        "pred"
      ]
    },
    {
      "cell_type": "markdown",
      "source": [
        "#Classification Report:\n",
        "* A detailed report showing precision, recall, and F1-Score for each class."
      ],
      "metadata": {
        "id": "B934m74TgZQf"
      }
    },
    {
      "cell_type": "code",
      "execution_count": null,
      "metadata": {
        "scrolled": true,
        "colab": {
          "base_uri": "https://localhost:8080/"
        },
        "id": "UrEwdrJFUKuO",
        "outputId": "e7ee4465-59d5-433a-d8de-737940a69b0e"
      },
      "outputs": [
        {
          "output_type": "stream",
          "name": "stdout",
          "text": [
            "Macro F1 score of iDetect: 0.903727\n",
            "                 precision    recall  f1-score   support\n",
            "\n",
            "    Benign Code       0.81      0.46      0.59        48\n",
            "Vulnerable Code       0.91      0.98      0.95       274\n",
            "\n",
            "       accuracy                           0.90       322\n",
            "      macro avg       0.86      0.72      0.77       322\n",
            "   weighted avg       0.90      0.90      0.89       322\n",
            "\n"
          ]
        }
      ],
      "source": [
        "#SVM Prediction Model Accuracy\n",
        "# Reading the TinyOS labeled Dataset\n",
        "TinyOS_labeled_Dataset = pd.read_csv('Tinyos_Evaluation_Labled_Binary.csv',encoding = 'unicode_escape')\n",
        "TinyOS_Code_Snippet, TinyOS_Code_Tag = TinyOS_labeled_Dataset.code, TinyOS_labeled_Dataset.isMalicious\n",
        "\n",
        "def preprocess(TinyOS_Code_Snippet):\n",
        "    return pd.Series(TinyOS_Code_Snippet).replace(r'\\b([A-Za-z])\\1+\\b', '', regex=True)\\\n",
        "        .replace(r'\\b[A-Za-z]\\b', '', regex=True)\n",
        "\n",
        "transformer = FunctionTransformer(preprocess)\n",
        "token_pattern = r\"\"\"([A-Za-z_]\\w*\\b|[!\\#\\$%\\&\\*\\+:\\-\\./<=>\\?@\\\\\\^_\\|\\~]+|[ \\t\\(\\),;\\{\\}\\[\\]\"'`])\"\"\"\n",
        "\n",
        "vectorizer = TfidfVectorizer(token_pattern=token_pattern, max_features=3000)\n",
        "\n",
        "# Calculating  F1-Score for iDetect\n",
        "\n",
        "f1 = f1_score (TinyOS_Code_Tag, pred,average = 'micro' )\n",
        "print('Macro F1 score of iDetect: %f' % f1)\n",
        "\n",
        "# Printing Classification Report for iDetect\n",
        "print(classification_report(TinyOS_Code_Tag, pred))"
      ]
    },
    {
      "cell_type": "code",
      "source": [
        "import plotly.graph_objects as go\n",
        "import numpy as np\n",
        "\n",
        "# Calculate confusion matrix\n",
        "conf_matrix = confusion_matrix(TinyOS_Code_Tag, pred)\n",
        "\n",
        "# Normalize the confusion matrix\n",
        "conf_matrix_norm = conf_matrix.astype('float') / conf_matrix.sum(axis=1)[:, np.newaxis]\n",
        "\n",
        "# Create an interactive heatmap\n",
        "fig = go.Figure(data=go.Heatmap(\n",
        "    z=conf_matrix_norm,\n",
        "    x=['Benign Code', 'Vulnerable Code'],\n",
        "    y=['Benign Code', 'Vulnerable Code'],\n",
        "    colorscale='Viridis',\n",
        "    colorbar=dict(title='Normalized Confusion Matrix'),\n",
        "))\n",
        "\n",
        "# Add labels\n",
        "fig.update_layout(\n",
        "    title=\"Normalized Confusion Matrix for iDetect\",\n",
        "    xaxis_title=\"Predicted\",\n",
        "    yaxis_title=\"Actual\",\n",
        ")\n",
        "\n",
        "# Show interactive plot\n",
        "fig.show()"
      ],
      "metadata": {
        "id": "ExsKrSkRZEEt",
        "colab": {
          "base_uri": "https://localhost:8080/",
          "height": 542
        },
        "outputId": "2eeda091-6c49-40a4-91b9-5c69df2c43b5"
      },
      "execution_count": null,
      "outputs": [
        {
          "output_type": "display_data",
          "data": {
            "text/html": [
              "<html>\n",
              "<head><meta charset=\"utf-8\" /></head>\n",
              "<body>\n",
              "    <div>            <script src=\"https://cdnjs.cloudflare.com/ajax/libs/mathjax/2.7.5/MathJax.js?config=TeX-AMS-MML_SVG\"></script><script type=\"text/javascript\">if (window.MathJax && window.MathJax.Hub && window.MathJax.Hub.Config) {window.MathJax.Hub.Config({SVG: {font: \"STIX-Web\"}});}</script>                <script type=\"text/javascript\">window.PlotlyConfig = {MathJaxConfig: 'local'};</script>\n",
              "        <script charset=\"utf-8\" src=\"https://cdn.plot.ly/plotly-2.24.1.min.js\"></script>                <div id=\"bb05eafe-02c6-455c-aa66-611eac95b8f5\" class=\"plotly-graph-div\" style=\"height:525px; width:100%;\"></div>            <script type=\"text/javascript\">                                    window.PLOTLYENV=window.PLOTLYENV || {};                                    if (document.getElementById(\"bb05eafe-02c6-455c-aa66-611eac95b8f5\")) {                    Plotly.newPlot(                        \"bb05eafe-02c6-455c-aa66-611eac95b8f5\",                        [{\"colorbar\":{\"title\":{\"text\":\"Normalized Confusion Matrix\"}},\"colorscale\":[[0.0,\"#440154\"],[0.1111111111111111,\"#482878\"],[0.2222222222222222,\"#3e4989\"],[0.3333333333333333,\"#31688e\"],[0.4444444444444444,\"#26828e\"],[0.5555555555555556,\"#1f9e89\"],[0.6666666666666666,\"#35b779\"],[0.7777777777777778,\"#6ece58\"],[0.8888888888888888,\"#b5de2b\"],[1.0,\"#fde725\"]],\"x\":[\"Benign Code\",\"Vulnerable Code\"],\"y\":[\"Benign Code\",\"Vulnerable Code\"],\"z\":[[0.4583333333333333,0.5416666666666666],[0.01824817518248175,0.9817518248175182]],\"type\":\"heatmap\"}],                        {\"template\":{\"data\":{\"histogram2dcontour\":[{\"type\":\"histogram2dcontour\",\"colorbar\":{\"outlinewidth\":0,\"ticks\":\"\"},\"colorscale\":[[0.0,\"#0d0887\"],[0.1111111111111111,\"#46039f\"],[0.2222222222222222,\"#7201a8\"],[0.3333333333333333,\"#9c179e\"],[0.4444444444444444,\"#bd3786\"],[0.5555555555555556,\"#d8576b\"],[0.6666666666666666,\"#ed7953\"],[0.7777777777777778,\"#fb9f3a\"],[0.8888888888888888,\"#fdca26\"],[1.0,\"#f0f921\"]]}],\"choropleth\":[{\"type\":\"choropleth\",\"colorbar\":{\"outlinewidth\":0,\"ticks\":\"\"}}],\"histogram2d\":[{\"type\":\"histogram2d\",\"colorbar\":{\"outlinewidth\":0,\"ticks\":\"\"},\"colorscale\":[[0.0,\"#0d0887\"],[0.1111111111111111,\"#46039f\"],[0.2222222222222222,\"#7201a8\"],[0.3333333333333333,\"#9c179e\"],[0.4444444444444444,\"#bd3786\"],[0.5555555555555556,\"#d8576b\"],[0.6666666666666666,\"#ed7953\"],[0.7777777777777778,\"#fb9f3a\"],[0.8888888888888888,\"#fdca26\"],[1.0,\"#f0f921\"]]}],\"heatmap\":[{\"type\":\"heatmap\",\"colorbar\":{\"outlinewidth\":0,\"ticks\":\"\"},\"colorscale\":[[0.0,\"#0d0887\"],[0.1111111111111111,\"#46039f\"],[0.2222222222222222,\"#7201a8\"],[0.3333333333333333,\"#9c179e\"],[0.4444444444444444,\"#bd3786\"],[0.5555555555555556,\"#d8576b\"],[0.6666666666666666,\"#ed7953\"],[0.7777777777777778,\"#fb9f3a\"],[0.8888888888888888,\"#fdca26\"],[1.0,\"#f0f921\"]]}],\"heatmapgl\":[{\"type\":\"heatmapgl\",\"colorbar\":{\"outlinewidth\":0,\"ticks\":\"\"},\"colorscale\":[[0.0,\"#0d0887\"],[0.1111111111111111,\"#46039f\"],[0.2222222222222222,\"#7201a8\"],[0.3333333333333333,\"#9c179e\"],[0.4444444444444444,\"#bd3786\"],[0.5555555555555556,\"#d8576b\"],[0.6666666666666666,\"#ed7953\"],[0.7777777777777778,\"#fb9f3a\"],[0.8888888888888888,\"#fdca26\"],[1.0,\"#f0f921\"]]}],\"contourcarpet\":[{\"type\":\"contourcarpet\",\"colorbar\":{\"outlinewidth\":0,\"ticks\":\"\"}}],\"contour\":[{\"type\":\"contour\",\"colorbar\":{\"outlinewidth\":0,\"ticks\":\"\"},\"colorscale\":[[0.0,\"#0d0887\"],[0.1111111111111111,\"#46039f\"],[0.2222222222222222,\"#7201a8\"],[0.3333333333333333,\"#9c179e\"],[0.4444444444444444,\"#bd3786\"],[0.5555555555555556,\"#d8576b\"],[0.6666666666666666,\"#ed7953\"],[0.7777777777777778,\"#fb9f3a\"],[0.8888888888888888,\"#fdca26\"],[1.0,\"#f0f921\"]]}],\"surface\":[{\"type\":\"surface\",\"colorbar\":{\"outlinewidth\":0,\"ticks\":\"\"},\"colorscale\":[[0.0,\"#0d0887\"],[0.1111111111111111,\"#46039f\"],[0.2222222222222222,\"#7201a8\"],[0.3333333333333333,\"#9c179e\"],[0.4444444444444444,\"#bd3786\"],[0.5555555555555556,\"#d8576b\"],[0.6666666666666666,\"#ed7953\"],[0.7777777777777778,\"#fb9f3a\"],[0.8888888888888888,\"#fdca26\"],[1.0,\"#f0f921\"]]}],\"mesh3d\":[{\"type\":\"mesh3d\",\"colorbar\":{\"outlinewidth\":0,\"ticks\":\"\"}}],\"scatter\":[{\"fillpattern\":{\"fillmode\":\"overlay\",\"size\":10,\"solidity\":0.2},\"type\":\"scatter\"}],\"parcoords\":[{\"type\":\"parcoords\",\"line\":{\"colorbar\":{\"outlinewidth\":0,\"ticks\":\"\"}}}],\"scatterpolargl\":[{\"type\":\"scatterpolargl\",\"marker\":{\"colorbar\":{\"outlinewidth\":0,\"ticks\":\"\"}}}],\"bar\":[{\"error_x\":{\"color\":\"#2a3f5f\"},\"error_y\":{\"color\":\"#2a3f5f\"},\"marker\":{\"line\":{\"color\":\"#E5ECF6\",\"width\":0.5},\"pattern\":{\"fillmode\":\"overlay\",\"size\":10,\"solidity\":0.2}},\"type\":\"bar\"}],\"scattergeo\":[{\"type\":\"scattergeo\",\"marker\":{\"colorbar\":{\"outlinewidth\":0,\"ticks\":\"\"}}}],\"scatterpolar\":[{\"type\":\"scatterpolar\",\"marker\":{\"colorbar\":{\"outlinewidth\":0,\"ticks\":\"\"}}}],\"histogram\":[{\"marker\":{\"pattern\":{\"fillmode\":\"overlay\",\"size\":10,\"solidity\":0.2}},\"type\":\"histogram\"}],\"scattergl\":[{\"type\":\"scattergl\",\"marker\":{\"colorbar\":{\"outlinewidth\":0,\"ticks\":\"\"}}}],\"scatter3d\":[{\"type\":\"scatter3d\",\"line\":{\"colorbar\":{\"outlinewidth\":0,\"ticks\":\"\"}},\"marker\":{\"colorbar\":{\"outlinewidth\":0,\"ticks\":\"\"}}}],\"scattermapbox\":[{\"type\":\"scattermapbox\",\"marker\":{\"colorbar\":{\"outlinewidth\":0,\"ticks\":\"\"}}}],\"scatterternary\":[{\"type\":\"scatterternary\",\"marker\":{\"colorbar\":{\"outlinewidth\":0,\"ticks\":\"\"}}}],\"scattercarpet\":[{\"type\":\"scattercarpet\",\"marker\":{\"colorbar\":{\"outlinewidth\":0,\"ticks\":\"\"}}}],\"carpet\":[{\"aaxis\":{\"endlinecolor\":\"#2a3f5f\",\"gridcolor\":\"white\",\"linecolor\":\"white\",\"minorgridcolor\":\"white\",\"startlinecolor\":\"#2a3f5f\"},\"baxis\":{\"endlinecolor\":\"#2a3f5f\",\"gridcolor\":\"white\",\"linecolor\":\"white\",\"minorgridcolor\":\"white\",\"startlinecolor\":\"#2a3f5f\"},\"type\":\"carpet\"}],\"table\":[{\"cells\":{\"fill\":{\"color\":\"#EBF0F8\"},\"line\":{\"color\":\"white\"}},\"header\":{\"fill\":{\"color\":\"#C8D4E3\"},\"line\":{\"color\":\"white\"}},\"type\":\"table\"}],\"barpolar\":[{\"marker\":{\"line\":{\"color\":\"#E5ECF6\",\"width\":0.5},\"pattern\":{\"fillmode\":\"overlay\",\"size\":10,\"solidity\":0.2}},\"type\":\"barpolar\"}],\"pie\":[{\"automargin\":true,\"type\":\"pie\"}]},\"layout\":{\"autotypenumbers\":\"strict\",\"colorway\":[\"#636efa\",\"#EF553B\",\"#00cc96\",\"#ab63fa\",\"#FFA15A\",\"#19d3f3\",\"#FF6692\",\"#B6E880\",\"#FF97FF\",\"#FECB52\"],\"font\":{\"color\":\"#2a3f5f\"},\"hovermode\":\"closest\",\"hoverlabel\":{\"align\":\"left\"},\"paper_bgcolor\":\"white\",\"plot_bgcolor\":\"#E5ECF6\",\"polar\":{\"bgcolor\":\"#E5ECF6\",\"angularaxis\":{\"gridcolor\":\"white\",\"linecolor\":\"white\",\"ticks\":\"\"},\"radialaxis\":{\"gridcolor\":\"white\",\"linecolor\":\"white\",\"ticks\":\"\"}},\"ternary\":{\"bgcolor\":\"#E5ECF6\",\"aaxis\":{\"gridcolor\":\"white\",\"linecolor\":\"white\",\"ticks\":\"\"},\"baxis\":{\"gridcolor\":\"white\",\"linecolor\":\"white\",\"ticks\":\"\"},\"caxis\":{\"gridcolor\":\"white\",\"linecolor\":\"white\",\"ticks\":\"\"}},\"coloraxis\":{\"colorbar\":{\"outlinewidth\":0,\"ticks\":\"\"}},\"colorscale\":{\"sequential\":[[0.0,\"#0d0887\"],[0.1111111111111111,\"#46039f\"],[0.2222222222222222,\"#7201a8\"],[0.3333333333333333,\"#9c179e\"],[0.4444444444444444,\"#bd3786\"],[0.5555555555555556,\"#d8576b\"],[0.6666666666666666,\"#ed7953\"],[0.7777777777777778,\"#fb9f3a\"],[0.8888888888888888,\"#fdca26\"],[1.0,\"#f0f921\"]],\"sequentialminus\":[[0.0,\"#0d0887\"],[0.1111111111111111,\"#46039f\"],[0.2222222222222222,\"#7201a8\"],[0.3333333333333333,\"#9c179e\"],[0.4444444444444444,\"#bd3786\"],[0.5555555555555556,\"#d8576b\"],[0.6666666666666666,\"#ed7953\"],[0.7777777777777778,\"#fb9f3a\"],[0.8888888888888888,\"#fdca26\"],[1.0,\"#f0f921\"]],\"diverging\":[[0,\"#8e0152\"],[0.1,\"#c51b7d\"],[0.2,\"#de77ae\"],[0.3,\"#f1b6da\"],[0.4,\"#fde0ef\"],[0.5,\"#f7f7f7\"],[0.6,\"#e6f5d0\"],[0.7,\"#b8e186\"],[0.8,\"#7fbc41\"],[0.9,\"#4d9221\"],[1,\"#276419\"]]},\"xaxis\":{\"gridcolor\":\"white\",\"linecolor\":\"white\",\"ticks\":\"\",\"title\":{\"standoff\":15},\"zerolinecolor\":\"white\",\"automargin\":true,\"zerolinewidth\":2},\"yaxis\":{\"gridcolor\":\"white\",\"linecolor\":\"white\",\"ticks\":\"\",\"title\":{\"standoff\":15},\"zerolinecolor\":\"white\",\"automargin\":true,\"zerolinewidth\":2},\"scene\":{\"xaxis\":{\"backgroundcolor\":\"#E5ECF6\",\"gridcolor\":\"white\",\"linecolor\":\"white\",\"showbackground\":true,\"ticks\":\"\",\"zerolinecolor\":\"white\",\"gridwidth\":2},\"yaxis\":{\"backgroundcolor\":\"#E5ECF6\",\"gridcolor\":\"white\",\"linecolor\":\"white\",\"showbackground\":true,\"ticks\":\"\",\"zerolinecolor\":\"white\",\"gridwidth\":2},\"zaxis\":{\"backgroundcolor\":\"#E5ECF6\",\"gridcolor\":\"white\",\"linecolor\":\"white\",\"showbackground\":true,\"ticks\":\"\",\"zerolinecolor\":\"white\",\"gridwidth\":2}},\"shapedefaults\":{\"line\":{\"color\":\"#2a3f5f\"}},\"annotationdefaults\":{\"arrowcolor\":\"#2a3f5f\",\"arrowhead\":0,\"arrowwidth\":1},\"geo\":{\"bgcolor\":\"white\",\"landcolor\":\"#E5ECF6\",\"subunitcolor\":\"white\",\"showland\":true,\"showlakes\":true,\"lakecolor\":\"white\"},\"title\":{\"x\":0.05},\"mapbox\":{\"style\":\"light\"}}},\"title\":{\"text\":\"Normalized Confusion Matrix for iDetect\"},\"xaxis\":{\"title\":{\"text\":\"Predicted\"}},\"yaxis\":{\"title\":{\"text\":\"Actual\"}}},                        {\"responsive\": true}                    ).then(function(){\n",
              "                            \n",
              "var gd = document.getElementById('bb05eafe-02c6-455c-aa66-611eac95b8f5');\n",
              "var x = new MutationObserver(function (mutations, observer) {{\n",
              "        var display = window.getComputedStyle(gd).display;\n",
              "        if (!display || display === 'none') {{\n",
              "            console.log([gd, 'removed!']);\n",
              "            Plotly.purge(gd);\n",
              "            observer.disconnect();\n",
              "        }}\n",
              "}});\n",
              "\n",
              "// Listen for the removal of the full notebook cells\n",
              "var notebookContainer = gd.closest('#notebook-container');\n",
              "if (notebookContainer) {{\n",
              "    x.observe(notebookContainer, {childList: true});\n",
              "}}\n",
              "\n",
              "// Listen for the clearing of the current output cell\n",
              "var outputEl = gd.closest('.output');\n",
              "if (outputEl) {{\n",
              "    x.observe(outputEl, {childList: true});\n",
              "}}\n",
              "\n",
              "                        })                };                            </script>        </div>\n",
              "</body>\n",
              "</html>"
            ]
          },
          "metadata": {}
        }
      ]
    },
    {
      "cell_type": "markdown",
      "source": [
        "#Results for iDetect Binary Evaluation\n",
        "\n",
        "*Macro F1 Score:* The macro F1 score for iDetect is 0.903727, indicating a strong overall performance in balancing precision and recall across different classes.\n",
        "\n",
        "*Precision, Recall, and F1-Score:*\n",
        "\n",
        "*Benign Code:* The model achieved a precision of 0.81, recall of 0.46, and an F1-score of 0.59 for Benign Code. While precision is moderate, the recall indicates that the model struggles to correctly identify instances of Benign Code.\n",
        "\n",
        "*Vulnerable Code:* For Vulnerable Code, the model performed exceptionally well with a precision of 0.91, recall of 0.98, and an impressive F1-score of 0.95. It demonstrates the model's ability to accurately classify instances of Vulnerable Code.\n",
        "\n",
        "*Overall Accuracy:* The overall accuracy of iDetect is 90%, showing a high level of correctness in predicting both Benign and Vulnerable Code instances.\n",
        "\n",
        "*True Positive (TP):* 269 instances of Vulnerable Code correctly identified.\n",
        "*False Positive (FP):* 26 instances incorrectly classified as Vulnerable Code.\n",
        "*True Negative (TN):* 22 instances of Benign Code correctly identified.\n",
        "*False Negative (FN):* 5 instances incorrectly classified as Benign Code.\n",
        "\n",
        "*Conclusion:* The model excels in identifying Vulnerable Code instances but faces challenges in correctly classifying Benign Code. Further optimization may be necessary to improve its performance on benign samples."
      ],
      "metadata": {
        "id": "g9Z3Ut1phcpb"
      }
    },
    {
      "cell_type": "code",
      "source": [],
      "metadata": {
        "id": "n76FDueOhLMP"
      },
      "execution_count": null,
      "outputs": []
    }
  ],
  "metadata": {
    "kernelspec": {
      "display_name": "Python 3",
      "language": "python",
      "name": "python3"
    },
    "language_info": {
      "codemirror_mode": {
        "name": "ipython",
        "version": 3
      },
      "file_extension": ".py",
      "mimetype": "text/x-python",
      "name": "python",
      "nbconvert_exporter": "python",
      "pygments_lexer": "ipython3",
      "version": "3.8.5"
    },
    "colab": {
      "provenance": []
    }
  },
  "nbformat": 4,
  "nbformat_minor": 0
}